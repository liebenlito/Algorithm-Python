{
 "cells": [
  {
   "cell_type": "markdown",
   "metadata": {},
   "source": [
    "## Pemrograman Dinamis Knapsack Unbounded"
   ]
  },
  {
   "cell_type": "code",
   "execution_count": 6,
   "metadata": {},
   "outputs": [],
   "source": [
    "def DP(M, item, berat, profit):\n",
    "    N = len(item)\n",
    "    cost, best = [0]*(M+1), [0]*(M+1)\n",
    "    for j in range(N):\n",
    "        for i in range(1,M+1):\n",
    "            if i-berat[j]>=0:\n",
    "                tmp = profit[j] + cost[i-berat[j]]\n",
    "                if tmp>cost[i]:\n",
    "                    cost[i] = tmp\n",
    "                    best[i] = item[j]\n",
    "        print(cost)\n",
    "        print(best)\n",
    "        \n",
    "    return cost, best"
   ]
  },
  {
   "cell_type": "code",
   "execution_count": 7,
   "metadata": {},
   "outputs": [],
   "source": [
    "def printItems(M, best, cost, item, berat):\n",
    "    items, mm, minItem = [], M, min(berat)\n",
    "    K = list(range(M+1))\n",
    "    # print(minItem)\n",
    "    while mm>=minItem:\n",
    "        idx = K.index(mm)\n",
    "        items.append(best[idx])\n",
    "        mm = mm-berat[item.index(best[idx])]\n",
    "        #print(mm)\n",
    "        #print(best[idx])\n",
    "        #print(items)\n",
    "    profit = cost[K.index(M)]\n",
    "    return profit, items"
   ]
  },
  {
   "cell_type": "code",
   "execution_count": 8,
   "metadata": {},
   "outputs": [
    {
     "name": "stdout",
     "output_type": "stream",
     "text": [
      "[0, 0, 0, 4, 4, 4, 8, 8, 8, 12, 12, 12, 16, 16, 16, 20, 20, 20]\n",
      "[0, 0, 0, '1', '1', '1', '1', '1', '1', '1', '1', '1', '1', '1', '1', '1', '1', '1']\n",
      "[0, 0, 0, 4, 5, 5, 8, 9, 10, 12, 13, 14, 16, 17, 18, 20, 21, 22]\n",
      "[0, 0, 0, '1', '2', '2', '1', '2', '2', '1', '2', '2', '1', '2', '2', '1', '2', '2']\n",
      "[0, 0, 0, 4, 5, 5, 8, 10, 10, 12, 14, 15, 16, 18, 20, 20, 22, 24]\n",
      "[0, 0, 0, '1', '2', '2', '1', '3', '2', '1', '3', '3', '1', '3', '3', '1', '3', '3']\n",
      "[0, 0, 0, 4, 5, 5, 8, 10, 11, 12, 14, 15, 16, 18, 20, 21, 22, 24]\n",
      "[0, 0, 0, '1', '2', '2', '1', '3', '4', '1', '3', '3', '1', '3', '3', '4', '3', '3']\n",
      "[0, 0, 0, 4, 5, 5, 8, 10, 11, 13, 14, 15, 17, 18, 20, 21, 23, 24]\n",
      "[0, 0, 0, '1', '2', '2', '1', '3', '4', '5', '3', '3', '5', '3', '3', '4', '5', '3']\n"
     ]
    }
   ],
   "source": [
    "item = ['1', '2', '3', '4', '5']\n",
    "berat = [3, 4, 7, 8, 9]\n",
    "profit = [4, 5, 10, 11, 13]\n",
    "M = 17\n",
    "cost, best = DP(M, item, berat, profit)"
   ]
  },
  {
   "cell_type": "code",
   "execution_count": 12,
   "metadata": {},
   "outputs": [
    {
     "name": "stdout",
     "output_type": "stream",
     "text": [
      "Keuntungan maksimal (K = 12): 17 dgn items = ['5', '1']\n"
     ]
    }
   ],
   "source": [
    "M = 12\n",
    "profit, items = printItems(M,best,cost,item,berat)\n",
    "print('Keuntungan maksimal (K = {0}): {1} dgn items = {2}'.\n",
    "      format(M, profit,str(items)))"
   ]
  },
  {
   "cell_type": "markdown",
   "metadata": {},
   "source": [
    "## Soal Latihan"
   ]
  },
  {
   "cell_type": "markdown",
   "metadata": {},
   "source": [
    "Misal seorang investor perusahaan teknologi hendak menginvestasikan dana sebesar $4-juta ke Produk A, B, dan-atau C. Bagaimanakah sang investor harus mendistribusikan kapital yang ia miliki untuk memaksimalkan profit, jika ekspektasi keuntungan yang bisa didapatkan melalui investasi tersebut adalah sebagai berikut:\n",
    "![](DP_Investment_1.png)"
   ]
  },
  {
   "cell_type": "code",
   "execution_count": null,
   "metadata": {},
   "outputs": [],
   "source": []
  }
 ],
 "metadata": {
  "kernelspec": {
   "display_name": "Python 3",
   "language": "python",
   "name": "python3"
  },
  "language_info": {
   "codemirror_mode": {
    "name": "ipython",
    "version": 3
   },
   "file_extension": ".py",
   "mimetype": "text/x-python",
   "name": "python",
   "nbconvert_exporter": "python",
   "pygments_lexer": "ipython3",
   "version": "3.9.7"
  }
 },
 "nbformat": 4,
 "nbformat_minor": 2
}
