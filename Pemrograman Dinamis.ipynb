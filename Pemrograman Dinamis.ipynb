{
 "cells": [
  {
   "cell_type": "markdown",
   "metadata": {},
   "source": [
    "## Pemrograman Dinamis"
   ]
  },
  {
   "cell_type": "markdown",
   "metadata": {},
   "source": [
    "## Konsep\n",
    "\n",
    "Pemrograman dinamis merupakan strategi untuk mendesain suatu algoritma, sama halnya seperti divide and conquer dan juga algoritma greedy. Kata 'pemrograman' sendiri bukan berarti bahasa pemrograman, tetapi maknanya lebih ke arah permasalahan optimasi, seperti 'pemrograman' linear.\n",
    "\n",
    "Idenya adalah:\n",
    "* Overlapping substruktur: sama halnya dengan divide and conquer\n",
    "* Substruktur optimal: solusi optimal dari masalah yang berisi solusi optimal dari submasalah.\n",
    "* Menyelesaikan secara bottom-up\n"
   ]
  },
  {
   "cell_type": "markdown",
   "metadata": {},
   "source": [
    "## Knapsack Problem\n",
    "\n",
    "Diberikan beberapa barang yang memiliki _berat_ dan _nilai_. Kemudian barang tersebut disimpan ke dalam kantong dengan _kapasitas_ yang terbatas. Sehingga _berat total_ barang yang diambil __tidak boleh__ lebih dari kapasistas kantong. Ada dua versi dari knapsack problem ini:\n",
    "\n",
    "1. __0-1 knapsack problem__: kuantitas barangnya tidak boleh dipecah (indivisible), apakah kita ingin mengambil barang tersebut atau tidak. \n",
    "2. __fractional knapsack problem__: kuantitas barangnya dapat berbentuk pecahan (divisible), kita dapat mengambil barang dalam bentuk pecahan.\n",
    "\n",
    "Secara umum 0-1 knapsack problem dapat ditulis sebagai berikut:\n",
    "* Suatu kantong dengan kapasitas maksimum $K$, dan terdapat himpunan $S$ sebagai himpunan dari $n$ barang.\n",
    "* Masing-masing barang memiliki berat $w$ dan nilai $p_i$.\n",
    "* Tujuannya: Mencari barang-barang yang dapat dibawa oleh kantong tersebut dengan nilai yang optimal.\n",
    "\n",
    "Secara matematis 0-1 knapsack problem dapat ditulis ke dalam\n",
    "\n",
    "$$\n",
    "\\max \\sum_{i \\in S} p_i \\hspace{1.5em} \\text{kendala} \\sum_{i \\in S} w_i \\leq K\n",
    "$$\n",
    "\n",
    "📌 Menggunakan __brute force__ pada masalah ini membutuhkan waktu komputasi $O(2^n)$."
   ]
  },
  {
   "cell_type": "markdown",
   "metadata": {},
   "source": [
    "### Definisikan subproblem\n",
    "\n",
    "Misalkan barang-barang tersebut kita beri label $1, 2,\\cdots, n$. Subproblemnya adalah mencari solusi optimal $S_k = \\{ 1, 2, \\cdots, k \\}$, dimana $S_k \\subseteq S$, untuk suatu $k$. Terdapat suatu parameter $w$ yang merepresentasikan total berat"
   ]
  },
  {
   "cell_type": "markdown",
   "metadata": {},
   "source": [
    "### Contoh 1:\n",
    "\n"
   ]
  },
  {
   "cell_type": "code",
   "execution_count": 10,
   "metadata": {},
   "outputs": [],
   "source": [
    "def DP(M, item, berat, profit):\n",
    "    N = len(item)\n",
    "    cost, best = [0]*(M+1), [0]*(M+1)\n",
    "    for j in range(N):\n",
    "        for i in range(1, M+1):\n",
    "            if i - berat[j] >= 0:\n",
    "                tmp = profit[j] + cost[i-berat[j]]\n",
    "                if tmp > cost[i]:\n",
    "                    cost[i] = tmp\n",
    "                    best[i] = item[j]\n",
    "        print(cost)\n",
    "        print(best)\n",
    "\n",
    "    return cost, best\n"
   ]
  },
  {
   "cell_type": "code",
   "execution_count": 17,
   "metadata": {},
   "outputs": [],
   "source": [
    "def knapSack(W, wt, val, n):\n",
    "    K = [[0 for x in range(W + 1)] for x in range(n + 1)]\n",
    "\n",
    "    # Build table K[][] in bottom up manner\n",
    "    for i in range(n + 1):\n",
    "        for w in range(W + 1):\n",
    "            if i == 0 or w == 0:\n",
    "                K[i][w] = 0\n",
    "            elif wt[i-1] <= w:\n",
    "                K[i][w] = max(val[i-1] + K[i-1][w-wt[i-1]],  K[i-1][w])\n",
    "            else:\n",
    "                K[i][w] = K[i-1][w]\n",
    "\n",
    "    return K[n][W]\n"
   ]
  },
  {
   "cell_type": "code",
   "execution_count": 18,
   "metadata": {},
   "outputs": [],
   "source": [
    "def printItems(M, best, cost, item, berat):\n",
    "    items, mm, minItem = [], M, min(berat)\n",
    "    K = list(range(M+1))\n",
    "    # print(minItem)\n",
    "    while mm >= minItem:\n",
    "        idx = K.index(mm)\n",
    "        items.append(best[idx])\n",
    "        mm = mm - berat[item.index(best[idx])]\n",
    "        # print(mm)\n",
    "        # print(best[idx])\n",
    "        # print(items)\n",
    "    profit = cost[K.index(M)]\n",
    "    return profit, items\n"
   ]
  },
  {
   "cell_type": "code",
   "execution_count": 19,
   "metadata": {},
   "outputs": [
    {
     "data": {
      "text/plain": [
       "24"
      ]
     },
     "execution_count": 19,
     "metadata": {},
     "output_type": "execute_result"
    }
   ],
   "source": [
    "berat = [3, 4, 7, 8, 9]\n",
    "profit = [4, 5, 10, 11, 13]\n",
    "M = 17\n",
    "\n",
    "best = knapSack(M, berat, profit, len(berat))\n",
    "best\n"
   ]
  },
  {
   "cell_type": "code",
   "execution_count": 12,
   "metadata": {},
   "outputs": [
    {
     "name": "stdout",
     "output_type": "stream",
     "text": [
      "Keuntungan maksimal (K = 12): 17 dgn items = ['5', '1']\n"
     ]
    }
   ],
   "source": [
    "M = 12\n",
    "profit, items = printItems(M, best, cost, item, berat)\n",
    "print('Keuntungan maksimal (K = {0}): {1} dgn items = {2}'.\n",
    "      format(M, profit, str(items)))\n"
   ]
  }
 ],
 "metadata": {
  "kernelspec": {
   "display_name": "Python 3",
   "language": "python",
   "name": "python3"
  },
  "language_info": {
   "codemirror_mode": {
    "name": "ipython",
    "version": 3
   },
   "file_extension": ".py",
   "mimetype": "text/x-python",
   "name": "python",
   "nbconvert_exporter": "python",
   "pygments_lexer": "ipython3",
   "version": "3.9.7"
  }
 },
 "nbformat": 4,
 "nbformat_minor": 2
}
