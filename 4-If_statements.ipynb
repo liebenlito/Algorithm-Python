{
 "cells": [
  {
   "cell_type": "markdown",
   "metadata": {
    "colab_type": "text",
    "id": "f6ENkJJFEh3w",
    "user_expressions": []
   },
   "source": [
    "# if Statements\n",
    "\n",
    "Misalkan kita mempunyai suatu List yang berisi merk mobil dan kita ingin menampilkan nama merk mobil tersebut. Misalnya kita punya nama-nama merk mobil: `['daihatsu', 'honda', 'bmw']`, maka jika kita menggunakan method `title()` maka hasilnya adalah `Daihatsu, Honda, Bmw`. Disini kita memiliki kendala yaitu penulisan `Bmw` haruslah dituliskan `BMW`. Untuk memperbaikinya kita harus memanfaatkan __if statement__ dimana kita akan memfilter kata 'bmw' untuk menggunakan method `upper()` dan yang lainnya menggunakan method `title()`, sehingga keluaran List yang kita harapkan adalah `Daihatsu, Honda, BMW`."
   ]
  },
  {
   "cell_type": "code",
   "execution_count": 1,
   "metadata": {
    "colab": {
     "base_uri": "https://localhost:8080/",
     "height": 69
    },
    "colab_type": "code",
    "id": "eqkPF23tIj8y",
    "outputId": "ec050853-7837-427d-e676-d7a593d34621"
   },
   "outputs": [
    {
     "name": "stdout",
     "output_type": "stream",
     "text": [
      "Daihatsu\n",
      "Honda\n",
      "BMW\n"
     ]
    }
   ],
   "source": [
    "mobil = ['daihatsu', 'honda', 'bmw']\n",
    "\n",
    "for i in mobil:\n",
    "  if i == 'bmw':\n",
    "    print(i.upper())\n",
    "  else:\n",
    "    print(i.title())"
   ]
  },
  {
   "cell_type": "markdown",
   "metadata": {
    "colab_type": "text",
    "id": "eguAot2sLFq1",
    "user_expressions": []
   },
   "source": [
    "## Operator Perbandingan dan Logika\n",
    "\n",
    "Operator perbandingan digunakan untuk membandingkan dua buah variabel apakah memenuhi kondisi dari operator yang kita definisikan. Jika kondisinya benar maka keluarannya adalah `True` dan `False` untuk salah. Terdapat beberapa operator perbandingan di Python, yaitu:\n",
    "\n",
    "|Operator | Keterangan|\n",
    "|-------- | -----------|\n",
    "|==       | sama dengan|\n",
    "|<=       | kurang dari sama dengan|\n",
    "|>=       | lebih dari sama dengan|\n",
    "|<        | kurang dari|\n",
    "|>        | lebih dari|\n",
    "|!=       | tidak sama dengan|\n",
    "\n",
    "Operator logika digunakan sebagai penghubung dua kondisi/statement dan keluarannya jika benar adalah `True` dan `False` untuk salah. Berikut daftar operator logika di Python:\n",
    "\n",
    "|Operator | Keterangan|\n",
    "|-------- | -----------|\n",
    "|`and` | statement a benar `and` b benar maka `True`|\n",
    "|`or`  | statement a salah `or` b benar maka `True`|\n",
    "|`not` | `not` statment a benar maka `False`|\n",
    "\n",
    "Perhatikan beberapa contoh berikut:"
   ]
  },
  {
   "cell_type": "code",
   "execution_count": 2,
   "metadata": {
    "colab": {
     "base_uri": "https://localhost:8080/",
     "height": 35
    },
    "colab_type": "code",
    "id": "UvE0Ag5ySEvk",
    "outputId": "9cba3f22-f47c-46cb-f8ad-61294a44210d"
   },
   "outputs": [
    {
     "data": {
      "text/plain": [
       "False"
      ]
     },
     "execution_count": 2,
     "metadata": {},
     "output_type": "execute_result"
    }
   ],
   "source": [
    "mobil = 'Audi'\n",
    "mobil == 'audi' # ingat Python case-sensitive artinya A dan a berbeda"
   ]
  },
  {
   "cell_type": "code",
   "execution_count": 3,
   "metadata": {
    "colab": {
     "base_uri": "https://localhost:8080/",
     "height": 35
    },
    "colab_type": "code",
    "id": "gVel_yOpSUsh",
    "outputId": "05cd5fc7-7992-4a6f-c61e-8a153be58d6f"
   },
   "outputs": [
    {
     "data": {
      "text/plain": [
       "True"
      ]
     },
     "execution_count": 3,
     "metadata": {},
     "output_type": "execute_result"
    }
   ],
   "source": [
    "mobil = 'Audi'\n",
    "mobil.lower() == 'audi'"
   ]
  },
  {
   "cell_type": "code",
   "execution_count": 4,
   "metadata": {
    "colab": {
     "base_uri": "https://localhost:8080/",
     "height": 52
    },
    "colab_type": "code",
    "id": "tZw87nyeSh9p",
    "outputId": "4f313e24-b8d0-4c5e-a906-dda4f9e6eb90"
   },
   "outputs": [
    {
     "name": "stdout",
     "output_type": "stream",
     "text": [
      "True\n",
      "False\n"
     ]
    }
   ],
   "source": [
    "bil1 = 18\n",
    "bil2 = 20\n",
    "print(bil1 < bil2)\n",
    "print(bil1 == bil2)"
   ]
  },
  {
   "cell_type": "code",
   "execution_count": 5,
   "metadata": {
    "colab": {
     "base_uri": "https://localhost:8080/",
     "height": 35
    },
    "colab_type": "code",
    "id": "YsDzewXQWKwG",
    "outputId": "5904d4c8-b538-454d-f57d-8ef10210bebf"
   },
   "outputs": [
    {
     "data": {
      "text/plain": [
       "True"
      ]
     },
     "execution_count": 5,
     "metadata": {},
     "output_type": "execute_result"
    }
   ],
   "source": [
    "bil1 = 18 \n",
    "bil2 = 20\n",
    "bil1 < bil2 or bil1 == bil2"
   ]
  },
  {
   "cell_type": "code",
   "execution_count": 6,
   "metadata": {
    "colab": {
     "base_uri": "https://localhost:8080/",
     "height": 35
    },
    "colab_type": "code",
    "id": "F-NbsKLrWxQj",
    "outputId": "613ad7db-649a-42b8-fc74-273486ea42e1"
   },
   "outputs": [
    {
     "data": {
      "text/plain": [
       "False"
      ]
     },
     "execution_count": 6,
     "metadata": {},
     "output_type": "execute_result"
    }
   ],
   "source": [
    "bil1 = 18\n",
    "bil2 = 30\n",
    "not bil1 < bil2"
   ]
  },
  {
   "cell_type": "code",
   "execution_count": 7,
   "metadata": {
    "colab": {
     "base_uri": "https://localhost:8080/",
     "height": 35
    },
    "colab_type": "code",
    "id": "IoLQCqAOXQcN",
    "outputId": "abc69ac8-25b4-4f72-9b2b-31be43992458"
   },
   "outputs": [
    {
     "name": "stdout",
     "output_type": "stream",
     "text": [
      "bmw tidak ditemukan di dalam List\n"
     ]
    }
   ],
   "source": [
    "mobil = ['daihatsu', 'toyota', 'honda']\n",
    "cari = 'bmw'\n",
    "if cari not in mobil:\n",
    "  print(cari + \" tidak ditemukan di dalam List\")"
   ]
  },
  {
   "cell_type": "markdown",
   "metadata": {
    "colab_type": "text",
    "id": "7jXmoZ2cYzvo"
   },
   "source": [
    "## if Statement Sederhana\n",
    "\n",
    "Misalkan kita memiliki konten video yang mengharuskan penggunanya berumur 18 tahun untuk mengakses video tersebut. Jika kurang dari 18 maka akan muncul berupa pesan yang berisi tidak dapat mengakses video tersebut.  "
   ]
  },
  {
   "cell_type": "code",
   "execution_count": 8,
   "metadata": {
    "colab": {
     "base_uri": "https://localhost:8080/",
     "height": 52
    },
    "colab_type": "code",
    "id": "yRS35__DaH2m",
    "outputId": "32303962-a166-4e44-ff1e-551358095c6a"
   },
   "outputs": [
    {
     "name": "stdout",
     "output_type": "stream",
     "text": [
      "Anda tidak dapat mengakses video.\n",
      "Video ini hanya untuk orang yang berumur minimal 18 tahun.\n"
     ]
    }
   ],
   "source": [
    "input_umur = 12\n",
    "if input_umur < 18: # 1\n",
    "  print(\"Anda tidak dapat mengakses video.\") # 2\n",
    "  print(\"Video ini hanya untuk orang yang berumur minimal 18 tahun.\")"
   ]
  },
  {
   "cell_type": "markdown",
   "metadata": {
    "colab_type": "text",
    "id": "Zq_Y_L6LbFKv"
   },
   "source": [
    "Pada baris (1) Python memeriksa apakah _statement_ benar, jika benar maka akan masuk ke baris (2). Di baris (2), sama halnya dengan pengulangan `for`, `if` statement juga memerlukan indentasi. Sehingga setelah statement terpenuhi maka Python akan mengeksekusi blok indentasi tersebut. "
   ]
  },
  {
   "cell_type": "markdown",
   "metadata": {
    "colab_type": "text",
    "id": "2j8S3KmcdzQU"
   },
   "source": [
    "## if-else statments\n",
    "\n",
    "Seringnya kita ingin melakukan suatu perintah jika statement tidak terpenuhi atau salah. Misalnya seperti contoh di atas, jika variabel `input_umur` tidak kurang dari 18 tahun maka ia akan dapat mengakses video tersebut. Perhatikan kode berikut:"
   ]
  },
  {
   "cell_type": "code",
   "execution_count": 9,
   "metadata": {
    "colab": {
     "base_uri": "https://localhost:8080/",
     "height": 35
    },
    "colab_type": "code",
    "id": "i3nkYCDrfYNZ",
    "outputId": "21a3265e-6fa3-4c9e-c522-e6f66a2e1f4d"
   },
   "outputs": [
    {
     "name": "stdout",
     "output_type": "stream",
     "text": [
      "Mengakses Video....\n"
     ]
    }
   ],
   "source": [
    "input_umur = 18\n",
    "if input_umur < 18: # 1\n",
    "  print(\"Anda tidak dapat mengakses video.\") # 2\n",
    "  print(\"Video ini hanya untuk orang yang berumur minimal 18 tahun.\") # 3\n",
    "else: # 4\n",
    "  print(\"Mengakses Video....\") # 5 perhatikan indentasinya"
   ]
  },
  {
   "cell_type": "markdown",
   "metadata": {
    "colab_type": "text",
    "id": "o2smUEjHf10e"
   },
   "source": [
    "Pada baris (4) dari kode di atas, perlu diperhatikan penulisan perintah `else` haruslah sejajar dengan `if`. Ini menunjukan bahwa perintah if-else berada dalam satu blok atau dapat diartikan, jika `input_umur < 18` maka jalankan perintah di baris ke (2) dan (3), kalau tidak jalankan perintah di baris ke (5)."
   ]
  },
  {
   "cell_type": "markdown",
   "metadata": {
    "colab_type": "text",
    "id": "baDOjnadg_GD"
   },
   "source": [
    "## Pasangan if-elif-else\n",
    "\n",
    "Pasangan if-elif-else digunakan jika terdapat lebih dari dua kondisi/syarat yang berbeda dari suatu statement. Misalnya dalam melakukan penilaian terhadap suatu nilai akhir dari mahasiswa yang berupa angka akan dikonversi ke dalam huruf (A, B, C, D, E). Misalkan $x$ adalah nilai akhir mahasiswa maka aturannya adalah sebagai berikut:\n",
    "\n",
    "* Nilai A adalah $100 <= x <= 80$,  \n",
    "* Nilai B adalah $80 < x <=70$,\n",
    "* Nilai C adalah $70 < x <=60$,\n",
    "* Nilai D adalah $60 < x <=50$,\n",
    "* Nilai E adalah $x < 50$.  \n",
    "\n",
    "Perhatikan kode berikut:"
   ]
  },
  {
   "cell_type": "code",
   "execution_count": 10,
   "metadata": {
    "colab": {
     "base_uri": "https://localhost:8080/",
     "height": 35
    },
    "colab_type": "code",
    "id": "seBsRe5gmOPw",
    "outputId": "f2953f9d-9f12-41a8-d58c-267e2ef1b705"
   },
   "outputs": [
    {
     "name": "stdout",
     "output_type": "stream",
     "text": [
      "Nilai: B\n"
     ]
    }
   ],
   "source": [
    "input_nilai = 79\n",
    "\n",
    "if input_nilai <= 100 and input_nilai >= 80: # 1\n",
    "  print(\"Nilai: A\")\n",
    "elif input_nilai < 80 and input_nilai >= 70: # 2\n",
    "  print(\"Nilai: B\")\n",
    "elif input_nilai < 70 and input_nilai >= 60: # 3\n",
    "  print(\"Nilai: C\")\n",
    "elif input_nilai < 60 and input_nilai >= 50: # 4\n",
    "  print(\"Nilai: D\")\n",
    "else:                                        # 5\n",
    "  print(\"Nilai: E\")"
   ]
  },
  {
   "cell_type": "markdown",
   "metadata": {
    "colab_type": "text",
    "id": "btsBPgI1oNUh"
   },
   "source": [
    "__Penjelasan:__ Dari kode di atas, variabel `input_nilai` diperiksa oleh Python apakah statement pada baris (1) terpenuhi, jika tidak akan diteruskan ke baris (2). jika di baris (2) kondisinya terpenuhi maka lakukan perintah `print` dan keluar dari blok if-elif-else. Begitu pun seterusnya jika kita ingin mengganti nilai dari variabel `input_nilai`."
   ]
  },
  {
   "cell_type": "markdown",
   "metadata": {
    "colab_type": "text",
    "id": "MTwxbzY-urE_"
   },
   "source": [
    "## Menggunakan if Statements dengan List\n",
    "\n",
    "Misalkan kita memiliki toko online yang menjual beberapa perlengkapan rumah tangga, diantaranya: microwave, kulkas, rice cooker, TV, dan mesin cuci. Kemudian, misalkan ada pembeli yang ingin membeli perlengkapan tersebut yang diilustrasikan di dalam kode berikut:  "
   ]
  },
  {
   "cell_type": "code",
   "execution_count": 12,
   "metadata": {},
   "outputs": [
    {
     "name": "stdout",
     "output_type": "stream",
     "text": [
      "dispenser: stok habis.\n",
      "kulkas: ada.\n"
     ]
    }
   ],
   "source": [
    "toko = ['microwave', 'kulkas', 'rice cooker', 'TV', 'mesin cuci'] # 1\n",
    "input_pembelian = ['dispenser', 'kulkas'] # 2\n",
    "\n",
    "for pembelian in input_pembelian: # 3\n",
    "    if pembelian in toko: # 4\n",
    "        print(pembelian + \": ada.\") # 5\n",
    "    else: # 6\n",
    "        print(pembelian + \": stok habis.\") # 7\n"
   ]
  },
  {
   "cell_type": "markdown",
   "metadata": {},
   "source": [
    "__Penjelasan:__ Pada baris (1), kita memiliki daftar persediaan di toko, kemudian pembeli ingin membeli dispenser dan kulkas pada baris (2). Pada baris (3), kita ingin memeriksa apakah pembelian tersebut ada di toko kita, untuk itu kita perlu memeriksa tiap-tiap `pembelian` ada di List `toko`. Jika ada maka lanjut ke baris ke (5), jika tidak maka lanjut ke baris (7).   "
   ]
  }
 ],
 "metadata": {
  "colab": {
   "collapsed_sections": [],
   "name": "If statement dan Dictionary.ipynb",
   "provenance": []
  },
  "kernelspec": {
   "display_name": "Python 3 (ipykernel)",
   "language": "python",
   "name": "python3"
  },
  "language_info": {
   "codemirror_mode": {
    "name": "ipython",
    "version": 3
   },
   "file_extension": ".py",
   "mimetype": "text/x-python",
   "name": "python",
   "nbconvert_exporter": "python",
   "pygments_lexer": "ipython3",
   "version": "3.9.16"
  }
 },
 "nbformat": 4,
 "nbformat_minor": 4
}
