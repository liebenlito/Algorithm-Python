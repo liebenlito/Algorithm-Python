{
  "nbformat": 4,
  "nbformat_minor": 0,
  "metadata": {
    "colab": {
      "name": "Jawaban UTS.ipynb",
      "provenance": [],
      "authorship_tag": "ABX9TyPTGr26gjivkmyPE1iFBygH"
    },
    "kernelspec": {
      "name": "python3",
      "display_name": "Python 3"
    },
    "language_info": {
      "name": "python"
    }
  },
  "cells": [
    {
      "cell_type": "markdown",
      "metadata": {
        "id": "_V4RjbfsrV6R"
      },
      "source": [
        "# Jawaban UTS Pengantar Analisis Algoritma"
      ]
    },
    {
      "cell_type": "markdown",
      "metadata": {
        "id": "U3uAtKIgTG_M"
      },
      "source": [
        "1.   \n",
        "```\n",
        "Algoritma: A(n)\n",
        "  for i = n to 1 do\n",
        "        i = i/2 ---------------------- n\n",
        "```\n",
        "Didapat $T(n) = n$, jadi $T(n)=O(n)$."
      ]
    },
    {
      "cell_type": "markdown",
      "metadata": {
        "id": "TqPZ_ZCaV01i"
      },
      "source": [
        "2. \n",
        "```\n",
        "Algoritma: B(n)\n",
        "  for i = 1 to n do -------------- n\n",
        "    for j = 1 to n do \n",
        "      j = j * 2 ------------------ n*n\n",
        "                                  ----------- +\n",
        "                                 T(n) = n^2 + n      \n",
        "```\n",
        "Jadi $T(n) = n^2 + n$. Sehingga kompleksitasnya adalah $O(n^2)$. \n"
      ]
    },
    {
      "cell_type": "markdown",
      "metadata": {
        "id": "W2RwZuFzYTQZ"
      },
      "source": [
        "3. Tentukan notasi big-O dari kompleksitas waktu berikut\n",
        "$$T(n) =  \\begin{cases} \n",
        "      1, & n = 1 \\\\\n",
        "      T(n-1) + n, & n > 1 \n",
        "   \\end{cases}\n",
        "$$\n",
        "Misalkan $T(n) = T(n-1) + n$, maka $T(n-1) = T(n-2) + n-1$. Sehingga $T(n) = T(n-2) + (n-1) + n$. Dan seterusnya sampai \n",
        "$$\n",
        "T(n) = T(n-k) + (n-(k-1)) + (n-(k-2)) + \\cdots + (n-1) + n.\n",
        "$$\n",
        "Asumsikan $n - k = 1$ adalah kondisi dimana tidak ada fungsi rekursif dan dapat ditulis $k = n - 1$, sehingga didapat\n",
        "$$\n",
        "T(n) = T(1) + 2 + 3 + \\cdots + (n - 1) + n = \\frac{n(n+1)}{2}\n",
        "$$\n",
        "Jadi, kompleksitas waktu dari $T(n)$ dapat dinotasikan dengan $O(n^2)$."
      ]
    },
    {
      "cell_type": "markdown",
      "metadata": {
        "id": "fS-qsR-mdewj"
      },
      "source": [
        "4. \n",
        "```\n",
        "Algoritma: C(A, x, a, b)\n",
        "keterangan: A adalah array dengan indeks dari 0 sampai N-1\n",
        "\n",
        "  if (b < a)\n",
        "    return a -------------------------- 1\n",
        "  \n",
        "  m = (b+a)/2 ------------------------ 1\n",
        "\n",
        "  if (A[m] >= x) \n",
        "    return C(A, x, a, m - 1) ---------- T(n/2)\n",
        "  \n",
        "  else\n",
        "    return C(A, x, m + 1, b) ---------- T(n/2)\n",
        "                                     ------------ +\n",
        "                                     T(n) = 2T(n/2) + 2\n",
        "```\n",
        "\n",
        "Diketahui bahwa $A$ adalah array dengan indeks $0$ sampai $N-1$ atau dapat ditulis $A = (A_0, A_1, \\cdots, A_{N-1})$, jadi banyaknya elemen dari array $A$ adalah $N$ elemen. Perhatikan\n",
        "```\n",
        "if (b < a)\n",
        "    return a\n",
        "```\n",
        "ini menandakan $a$ sebagai batas bawah dan $b$ sebagai batas atas dari indeks $A$. Dan kondisi\n",
        "```\n",
        "m = (b+a)/2\n",
        "if (A[m] >= x) \n",
        "    return C(A, x, a, m - 1)\n",
        "else\n",
        "    return C(A, x, m + 1, b)\n",
        "```\n",
        "berarti membagi array $A$ menjadi dua bagian yaitu $A = (A_a, A_1, \\cdots, A_{m-1})$ dan $A = (A_{m+1}, A_{m+2}, \\cdots, A_b)$. Dengan adanya kondisi ini dan terdapat fungsi rekursif $C$, maka dengan kata lain, perintah ini akan membagi $A$ secara terus-menerus sampai $A$ menjadi elemen satuan. Dari penjelasan ini, maka fungsi waktu untuk algoritma $C$ dapat ditulis menjadi \n",
        "\n",
        "$$\n",
        "T(n) =  \\begin{cases} \n",
        "      1, & n = 1 \\\\\n",
        "      2T(n/2) + 2, & n > 1 \n",
        "   \\end{cases}.\n",
        "$$\n",
        "\n",
        "Misalkan $T(n) = 2T(n/2) + 2$, maka $T(n/2) = 2T(n/2^2) + 2$. Sehingga $T(n) = 2T(n/2^2) + 2 + 2$. Dan seterusnya..., sehingga didapat\n",
        "$$\n",
        "T(n) = 2T(n/2^k) + 2k\n",
        "$$\n",
        "Asumsikan $n/2^k = 1 \\rightarrow n = 2^k$ dan $k = \\log n$, sehingga $T(n)$ dapat ditulis\n",
        "$$\n",
        "T(n) = 2T(1) + 2\\log n = 2 + 2 \\log n\n",
        "$$\n",
        "Jadi, $T(n) = O(\\log n)$.\n"
      ]
    },
    {
      "cell_type": "markdown",
      "metadata": {
        "id": "sZQ16kJdoJ-x"
      },
      "source": [
        "5. (Kemungkinan)"
      ]
    },
    {
      "cell_type": "code",
      "metadata": {
        "id": "PUUotXxATENF"
      },
      "source": [
        "def search(A, x):\n",
        "  for i in range(len(A)):\n",
        "    if A[i] == x: # -------------------------------- n\n",
        "      return print('indeks ke-',i) #---------------- n\n",
        "  \n",
        "  return print('data tidak ditemukan')\n",
        "  #                                      --------------- +\n",
        "  #                                            T(n) = 2n = O(n)"
      ],
      "execution_count": null,
      "outputs": []
    },
    {
      "cell_type": "code",
      "metadata": {
        "id": "st7ydz8hoiaH"
      },
      "source": [
        "import numpy as np"
      ],
      "execution_count": null,
      "outputs": []
    },
    {
      "cell_type": "code",
      "metadata": {
        "colab": {
          "base_uri": "https://localhost:8080/"
        },
        "id": "KnFjfaoMoq2O",
        "outputId": "cf10e48f-5fce-479d-c816-970c9f0f0dde"
      },
      "source": [
        "A = np.array([2, -2, 3, 1, 0])\n",
        "x = 1\n",
        "search(A, x)"
      ],
      "execution_count": null,
      "outputs": [
        {
          "output_type": "stream",
          "name": "stdout",
          "text": [
            "indeks ke- 3\n"
          ]
        }
      ]
    }
  ]
}