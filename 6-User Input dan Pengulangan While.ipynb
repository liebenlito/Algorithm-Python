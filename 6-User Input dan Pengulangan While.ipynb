{
 "cells": [
  {
   "cell_type": "markdown",
   "metadata": {},
   "source": [
    "# Materi\n",
    "1. Bagaimana fungsi <code>input()</code> bekerja\n",
    "2. Mengenal pengulangan <code>while</code>"
   ]
  },
  {
   "cell_type": "markdown",
   "metadata": {},
   "source": [
    "## Fungsi <code>input()</code>\n",
    "\n",
    "Fungsi <code>input()</code> digunakan untuk menginput suatu nilai yang akan disimpan di dalam suatu variabel. Cara kerja dari fungsi <code>input()</code> yaitu dengan menghentikan proses eksekusi program sampai nilai diinput oleh user/pengguna. Contoh:"
   ]
  },
  {
   "cell_type": "code",
   "execution_count": 1,
   "metadata": {},
   "outputs": [
    {
     "name": "stdout",
     "output_type": "stream",
     "text": [
      "Nama anda: Agus\n",
      "Agus\n"
     ]
    }
   ],
   "source": [
    "message = input(\"Nama anda: \")\n",
    "print(message)"
   ]
  },
  {
   "cell_type": "markdown",
   "metadata": {},
   "source": [
    "Variabel <code>message</code> pada kode di atas menunggu inputan oleh user. Setelah diinput maka nilainya akan disimpan ke dalam variabel <code>message</code>. Jika kita keluarkan nilai dari <code>message</code> maka outputnya adalah <code>Agus</code>."
   ]
  },
  {
   "cell_type": "markdown",
   "metadata": {},
   "source": [
    "## Mengenal Pengulangan <code>while</code>\n",
    "\n",
    "Pada pertemuan sebelumnya kita membahas tentang pengulangan <code>for</code>. Di dalam pengulangan <code>for</code>, kita dapat mengetahui jumlah pengulangan yang terjadi, misalnya <code>for i in range(1,5):</code>, angka 5 menunjukan pengulangan akan berhenti ketika <code>i = 5</code>. Dengan demikian, jumlah pengulangan tersebut adalah 4. Berbeda dengan pengulangan <code>for</code>, di dalam pengulangan <code>while</code>, pengulangan berhenti jika memenuhi kondisi tertentu dan jumlah pengulangannya tidak diketahui, contohnya:"
   ]
  },
  {
   "cell_type": "code",
   "execution_count": 2,
   "metadata": {},
   "outputs": [
    {
     "name": "stdout",
     "output_type": "stream",
     "text": [
      "1\n",
      "2\n",
      "3\n",
      "4\n",
      "5\n"
     ]
    }
   ],
   "source": [
    "init_angka = 0\n",
    "while init_angka < 5: # 1\n",
    "    init_angka += 1 # 2\n",
    "    print(init_angka) # 3"
   ]
  },
  {
   "cell_type": "markdown",
   "metadata": {},
   "source": [
    "Pada baris (1), pengulangan <code>while</code> akan melakukan pengecekan apakah kondisi _statement_ benar (dalam hal ini apakah <code>init_angka</code> lebih kecil dari 5), jika benar maka akan masuk ke dalam blok pengulangan pada baris (2) dan (3). Proses ini akan berulang sampai kondisinya salah (yaitu ketika <code>init_angka = 5</code>). "
   ]
  },
  {
   "cell_type": "markdown",
   "metadata": {},
   "source": [
    "__Contoh (Collatz Conjecture):__ Misalkan terdapat suatu bilangan bulat positif. Jika bilangan tersebut adalah genap, dibagi dua; jika bilangan ganjil, kalikan dengan tiga dan tambah satu. Apapun nilai bilangan positif tersebut, barisannya akan berakhir pada angka 1. Kemudian yang menjadi pertanyaan adalah apakah barisan Collatz yang dihasilkan selalu mencapai 1 untuk setiap bilangan bulat positif? Collatz Conjecture merupakan masalah yang belum terpecahkan sampai saat ini. Berikut ilustrasi dari Collatz Conjecture:"
   ]
  },
  {
   "cell_type": "code",
   "execution_count": 3,
   "metadata": {},
   "outputs": [
    {
     "name": "stdout",
     "output_type": "stream",
     "text": [
      "Masukkan n: 12\n",
      "12\n",
      "6.0\n",
      "3.0\n",
      "10.0\n",
      "5.0\n",
      "16.0\n",
      "8.0\n",
      "4.0\n",
      "2.0\n",
      "1\n"
     ]
    }
   ],
   "source": [
    "n = input(\"Masukkan n: \") # 1\n",
    "k = int(n) # 2\n",
    "while k != 1: # 3\n",
    "    print(k) # 4\n",
    "    if k % 2 == 0: # 5 cek apakah k bilangan genap\n",
    "        k = k/2 # 6\n",
    "    else: # 7\n",
    "        k = k*3 + 1 # 8\n",
    "print(1) # 9"
   ]
  },
  {
   "cell_type": "markdown",
   "metadata": {},
   "source": [
    "__Penjelasan:__ Pada baris (1) kita input suatu <code>n</code> bilangan bulat positif. Kemudian, karena fungsi <code>input()</code> menghasilkan tipe data string maka kita ubah ke dalam tipe data integer dan disimpan di variabel <code>k</code> pada baris (2). Pada baris (3) kita tulis pengulangan <code>while</code> dengan statement <code>k != 1</code> yang berarti pengulangan akan terus berlangsung sampai nilai <code>k = 1</code>. Berdasarkan Collatz conjecture, blok <code>if</code> dan <code>else</code> pada baris (5) sampai (8) menunjukan jika genap maka <code>k/2</code>, jika ganjil maka <code>3k + 1</code>. Baris (9) digunakan untuk memastikan apakah pengulangan berhenti atau sesuai kriteria pemberhentian (dalam hal ini jika nilai <code>k = 1</code>); jika pengulangan selesai, tentu akan mengeksekusi baris di bawahnya.     "
   ]
  },
  {
   "cell_type": "markdown",
   "metadata": {},
   "source": [
    "Dari output yang dihasilkan, apapun bilangan positif yang kita input, pengulangan <code>while</code> dari kode di atas akan selalu berhenti atau tidak terjadi pengulangan terus-menerus (disebut dengan istilah __infinite loop__). Tentu ini bukan cara untuk membuktikan kebenaran dari Collatz Conjecture, karena kita belum mencoba untuk setiap bilangan bulat positif."
   ]
  },
  {
   "cell_type": "markdown",
   "metadata": {},
   "source": [
    "## Menghentikan Pengulangan <code>while</code> dengan Perintah <code>break</code>\n",
    "Kode berikut ini adalah kode untuk __infinite loop__ (__Perhatian!__ Jangan mencoba menjalankan program di bawah ini)."
   ]
  },
  {
   "cell_type": "code",
   "execution_count": null,
   "metadata": {},
   "outputs": [],
   "source": [
    "while True:\n",
    "    print(\"Hello\")"
   ]
  },
  {
   "cell_type": "markdown",
   "metadata": {},
   "source": [
    "Dari kode di atas terlihat bahwa kondisi pada statement pengulangan <code>while</code> selalu <code>True</code>, ini berarti program akan mengeksekusi perintah <code>print(\"Hello\")</code> secara terus-menerus. Pengulangan di atas dapat dihentikan dengan perintah <code>break</code>. Ini merupakan cara lain untuk menghentikan pengulangan <code>while</code>, perhatikan kode berikut:"
   ]
  },
  {
   "cell_type": "code",
   "execution_count": 4,
   "metadata": {},
   "outputs": [
    {
     "name": "stdout",
     "output_type": "stream",
     "text": [
      "toyota\n",
      "honda\n",
      "daihatsu\n"
     ]
    }
   ],
   "source": [
    "a = ['daihatsu', 'honda', 'toyota'] # 1\n",
    "\n",
    "while True: # 2\n",
    "    if not a: # 3\n",
    "        break # 4\n",
    "    print(a.pop(-1)) # 5"
   ]
  },
  {
   "cell_type": "markdown",
   "metadata": {},
   "source": [
    "__Penjelasan:__ Misalkan terdapat suatu List <code>a</code>. Pada baris (2) kita tulis pengulangan <code>while</code> dengan kondisi selalu <code>True</code>. Kemudian pada baris (3), kita cek List <code>a</code> apakah List tersebut kosong (tidak ada elemennya) atau tidak. Jika kosong maka ke baris (4) atau menjalankan perintah <code>break</code> yang artinya keluar dari pengulangan <code>while</code>. Agar elemen-elemen List di <code>a</code> kosong seiring berjalannya pengulangan tersebut, maka haruslah kita hapus tiap elemen List dan tampilkan tiap elemen terakhir yang terhapus dengan method <code>pop()</code>, seperti yang terlihat pada baris (5).  "
   ]
  }
 ],
 "metadata": {
  "kernelspec": {
   "display_name": "Python 3",
   "language": "python",
   "name": "python3"
  },
  "language_info": {
   "codemirror_mode": {
    "name": "ipython",
    "version": 3
   },
   "file_extension": ".py",
   "mimetype": "text/x-python",
   "name": "python",
   "nbconvert_exporter": "python",
   "pygments_lexer": "ipython3",
   "version": "3.7.1"
  }
 },
 "nbformat": 4,
 "nbformat_minor": 2
}
