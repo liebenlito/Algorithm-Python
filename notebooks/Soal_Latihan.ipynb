{
 "cells": [
  {
   "cell_type": "markdown",
   "id": "5682dc0c-18ed-4d25-81b1-f4fa727ddd9f",
   "metadata": {
    "user_expressions": []
   },
   "source": [
    "## Soal 1: Tahun Kabisat\n",
    "\n",
    "### Penjelasan\n",
    "Satu hari ekstra ditambahkan ke kalender hampir setiap empat tahun sekali pada tanggal 29 Februari, dan hari itu disebut hari kabisat. Hal ini mengoreksi kalender karena planet kita membutuhkan waktu sekitar 365,25 hari untuk mengorbit matahari. Tahun kabisat berisi hari kabisat.\n",
    "\n",
    "Dalam kalender Gregorian, ada tiga kondisi yang digunakan untuk mengidentifikasi tahun kabisat:\n",
    "\n",
    "* Tahun tersebut dapat dibagi rata dengan 4, adalah tahun kabisat, kecuali:\n",
    "* Tahun tersebut dapat dibagi rata dengan 100, BUKAN tahun kabisat, kecuali:\n",
    "* Tahun tersebut juga dapat dibagi rata dengan 400. Maka itu adalah tahun kabisat.\n",
    "\n",
    "Ini berarti bahwa dalam kalender Gregorian, tahun 2000 dan 2400 adalah tahun kabisat, sedangkan 1800, 1900, 2100, 2200, 2300, dan 2500 BUKAN tahun kabisat.\n",
    "\n",
    "### Tugas\n",
    "Diberikan sebuah tahun, tentukan apakah tahun tersebut adalah tahun kabisat. Jika tahun tersebut adalah tahun kabisat, kembalikan Boolean `True`, jika tidak, kembalikan `False`.\n",
    "\n",
    "Perhatikan bahwa potongan kode yang disediakan membaca dari STDIN dan memberikan argumen ke fungsi `kabisat`. Anda hanya perlu menyelesaikan fungsi `kabisat`.\n",
    "\n",
    "#### Input Format\n",
    "Baca `tahun`\n",
    "\n",
    "#### Batasan\n",
    "$1900 \\leq tahun \\leq 10^5$\n",
    "\n",
    "#### Output Format\n",
    "Fungsi ini harus mengembalikan nilai Boolean (`True`/`False`). Output ditangani oleh potongan kode yang disediakan.\n",
    "\n",
    "#### Contoh Input\n",
    "> 1990\n",
    "\n",
    "#### Contoh Output\n",
    "> `False`\n",
    "\n",
    "#### Penjelasan\n",
    "1990 bukan kelipatan 4 sehingga tahun itu bukan tahun kabisat."
   ]
  },
  {
   "cell_type": "code",
   "execution_count": 1,
   "id": "de04b313-387d-4e04-a295-1a99cb72466d",
   "metadata": {},
   "outputs": [],
   "source": [
    "def kabisat(tahun):\n",
    "    kabisat = False\n",
    "    \n",
    "    # tulis code Anda di sini\n",
    "    \n",
    "    return kabisat"
   ]
  },
  {
   "cell_type": "code",
   "execution_count": 2,
   "id": "a5f626b0-a779-4bd9-8d3e-9eea73337e9a",
   "metadata": {},
   "outputs": [
    {
     "name": "stdin",
     "output_type": "stream",
     "text": [
      " 2000\n"
     ]
    },
    {
     "name": "stdout",
     "output_type": "stream",
     "text": [
      "False\n"
     ]
    }
   ],
   "source": [
    "tahun = int(input())\n",
    "print(kabisat(tahun))"
   ]
  },
  {
   "cell_type": "markdown",
   "id": "3a823424-0c25-4c18-a4cb-8642ef9b5b02",
   "metadata": {
    "user_expressions": []
   },
   "source": [
    "## Soal 2:\n",
    "\n",
    "Misalkan terdapat variabel `n` adalah integer. Untuk setiap integer tak negatif `i < n`, print $i^2$.\n",
    "\n",
    "### Contoh\n",
    "input `n = 3` \n",
    "\n",
    "List dari integer tak negatif yang kurang dari `n = 3` adalah `[0, 1, 2]`. Print kuadrat dari anggota list tersebut\n",
    "\n",
    "`0`\n",
    "\n",
    "`1`\n",
    "\n",
    "`4`"
   ]
  }
 ],
 "metadata": {
  "kernelspec": {
   "display_name": "Python 3 (ipykernel)",
   "language": "python",
   "name": "python3"
  },
  "language_info": {
   "codemirror_mode": {
    "name": "ipython",
    "version": 3
   },
   "file_extension": ".py",
   "mimetype": "text/x-python",
   "name": "python",
   "nbconvert_exporter": "python",
   "pygments_lexer": "ipython3",
   "version": "3.9.16"
  }
 },
 "nbformat": 4,
 "nbformat_minor": 5
}
