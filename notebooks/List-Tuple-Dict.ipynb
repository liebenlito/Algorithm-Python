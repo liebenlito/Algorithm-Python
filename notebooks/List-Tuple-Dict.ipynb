{
 "cells": [
  {
   "cell_type": "markdown",
   "id": "ef8893f2-38e8-4bd3-bd25-1fbbc051e267",
   "metadata": {},
   "source": [
    "# Struktur Data Sederhana di Python"
   ]
  },
  {
   "cell_type": "markdown",
   "id": "e8466ae4-8555-48fb-846a-b7c35b4fe4f5",
   "metadata": {},
   "source": [
    "## List"
   ]
  },
  {
   "cell_type": "markdown",
   "id": "fe431df5-956c-46f6-b6ad-3185b738ad54",
   "metadata": {},
   "source": [
    "### Membuat List"
   ]
  },
  {
   "cell_type": "code",
   "execution_count": 1,
   "id": "c6582906-c80d-46a5-ab1c-e7ef3a160602",
   "metadata": {},
   "outputs": [
    {
     "data": {
      "text/plain": [
       "list"
      ]
     },
     "execution_count": 1,
     "metadata": {},
     "output_type": "execute_result"
    }
   ],
   "source": [
    "x = []\n",
    "type(x)"
   ]
  },
  {
   "cell_type": "code",
   "execution_count": 2,
   "id": "f7d2038f-8486-4196-916c-2529abda35b7",
   "metadata": {},
   "outputs": [
    {
     "data": {
      "text/plain": [
       "list"
      ]
     },
     "execution_count": 2,
     "metadata": {},
     "output_type": "execute_result"
    }
   ],
   "source": [
    "x = list()\n",
    "type(x)"
   ]
  },
  {
   "cell_type": "code",
   "execution_count": 3,
   "id": "d69152fc-f3ae-4b84-ace6-3b013e6d8062",
   "metadata": {},
   "outputs": [
    {
     "name": "stdout",
     "output_type": "stream",
     "text": [
      "[1, 2, 3]\n",
      "[[1, 2, 3], [1, 2, 3]]\n"
     ]
    }
   ],
   "source": [
    "# inisialisasi List\n",
    "\n",
    "x = [1, 2, 3]\n",
    "print(x)\n",
    "\n",
    "y = [[1,2,3], [1,2,3]]\n",
    "print(y)"
   ]
  },
  {
   "cell_type": "code",
   "execution_count": 4,
   "id": "8d76b83c-df86-43d2-a779-b3610a152000",
   "metadata": {},
   "outputs": [
    {
     "data": {
      "text/plain": [
       "(list, list)"
      ]
     },
     "execution_count": 4,
     "metadata": {},
     "output_type": "execute_result"
    }
   ],
   "source": [
    "type(x), type(y)"
   ]
  },
  {
   "cell_type": "code",
   "execution_count": 5,
   "id": "2d85988b-206c-4b62-8ea8-ee986b3bf54c",
   "metadata": {},
   "outputs": [
    {
     "data": {
      "text/plain": [
       "3"
      ]
     },
     "execution_count": 5,
     "metadata": {},
     "output_type": "execute_result"
    }
   ],
   "source": [
    "# Mengetahui jumlah/panjang elemen di List\n",
    "len(x)"
   ]
  },
  {
   "cell_type": "code",
   "execution_count": 6,
   "id": "6edf5f60-46ad-4d15-bf2c-73e1a2054093",
   "metadata": {},
   "outputs": [
    {
     "data": {
      "text/plain": [
       "2"
      ]
     },
     "execution_count": 6,
     "metadata": {},
     "output_type": "execute_result"
    }
   ],
   "source": [
    "len(y)"
   ]
  },
  {
   "cell_type": "markdown",
   "id": "be537f86-f8b8-4107-9078-0c943d8db9fd",
   "metadata": {},
   "source": [
    "Ingat index dari List dimulai dari 0."
   ]
  },
  {
   "cell_type": "code",
   "execution_count": 7,
   "id": "14e10e8f-2899-42c2-be78-3c511099bf19",
   "metadata": {},
   "outputs": [
    {
     "data": {
      "text/plain": [
       "3"
      ]
     },
     "execution_count": 7,
     "metadata": {},
     "output_type": "execute_result"
    }
   ],
   "source": [
    "len(y[0]) # panjang elemen pertaman di list"
   ]
  },
  {
   "cell_type": "code",
   "execution_count": 8,
   "id": "0b59c6e8-1b48-4d7c-905c-710644a26f40",
   "metadata": {},
   "outputs": [
    {
     "data": {
      "text/plain": [
       "3"
      ]
     },
     "execution_count": 8,
     "metadata": {},
     "output_type": "execute_result"
    }
   ],
   "source": [
    "len(y[1])"
   ]
  },
  {
   "cell_type": "markdown",
   "id": "6cef1e32-15f6-4c43-a98a-d006bc2ab842",
   "metadata": {},
   "source": [
    "### Mengakses dan Menambahkan element di List"
   ]
  },
  {
   "cell_type": "code",
   "execution_count": 9,
   "id": "2be5dec5-d884-4724-8950-1f695a62546a",
   "metadata": {},
   "outputs": [
    {
     "name": "stdout",
     "output_type": "stream",
     "text": [
      "4\n",
      "[4, 5, 6]\n",
      "2\n",
      "[[1, 2, 3], [4, 5, 6], 5]\n",
      "[[1, 2, 3], [4, 5, 6], 5, [1, 2]]\n",
      "4\n"
     ]
    },
    {
     "ename": "TypeError",
     "evalue": "'int' object is not subscriptable",
     "output_type": "error",
     "traceback": [
      "\u001b[0;31m---------------------------------------------------------------------------\u001b[0m",
      "\u001b[0;31mTypeError\u001b[0m                                 Traceback (most recent call last)",
      "Cell \u001b[0;32mIn[9], line 18\u001b[0m\n\u001b[1;32m     15\u001b[0m \u001b[38;5;28mprint\u001b[39m(x)\n\u001b[1;32m     16\u001b[0m \u001b[38;5;28mprint\u001b[39m(\u001b[38;5;28mlen\u001b[39m(x))\n\u001b[0;32m---> 18\u001b[0m \u001b[38;5;28mprint\u001b[39m(\u001b[43mx\u001b[49m\u001b[43m[\u001b[49m\u001b[38;5;241;43m2\u001b[39;49m\u001b[43m]\u001b[49m\u001b[43m[\u001b[49m\u001b[38;5;241;43m0\u001b[39;49m\u001b[43m]\u001b[49m)\n",
      "\u001b[0;31mTypeError\u001b[0m: 'int' object is not subscriptable"
     ]
    }
   ],
   "source": [
    "# Buat list\n",
    "x = [1, 2, 3, 4]\n",
    "print(x[3])\n",
    "\n",
    "x = [[1,2,3], [4,5,6]]\n",
    "print(x[1])\n",
    "\n",
    "print(x[0][1]) # baris ke 0 dan kolom ke 1\n",
    "\n",
    "# Menambah elemen di List\n",
    "x.append(5)\n",
    "print(x)\n",
    "\n",
    "x.append([1,2])\n",
    "print(x)\n",
    "print(len(x))\n",
    "\n",
    "print(x[2][0])"
   ]
  },
  {
   "cell_type": "code",
   "execution_count": 10,
   "id": "210b11cc-2ddf-4a23-83ed-b014cc7e17a9",
   "metadata": {},
   "outputs": [
    {
     "ename": "IndexError",
     "evalue": "list index out of range",
     "output_type": "error",
     "traceback": [
      "\u001b[0;31m---------------------------------------------------------------------------\u001b[0m",
      "\u001b[0;31mIndexError\u001b[0m                                Traceback (most recent call last)",
      "Cell \u001b[0;32mIn[10], line 1\u001b[0m\n\u001b[0;32m----> 1\u001b[0m \u001b[38;5;28mprint\u001b[39m(\u001b[43mx\u001b[49m\u001b[43m[\u001b[49m\u001b[38;5;241;43m4\u001b[39;49m\u001b[43m]\u001b[49m[\u001b[38;5;241m0\u001b[39m])\n",
      "\u001b[0;31mIndexError\u001b[0m: list index out of range"
     ]
    }
   ],
   "source": [
    "print(x[4][0])"
   ]
  },
  {
   "cell_type": "markdown",
   "id": "ecfc8ff4-e69b-46f0-bf86-3140afb7bbc6",
   "metadata": {},
   "source": [
    "### Mengupdate element di List"
   ]
  },
  {
   "cell_type": "code",
   "execution_count": 11,
   "id": "06a94288-7c1d-4797-8ac1-54e66da469fc",
   "metadata": {},
   "outputs": [
    {
     "name": "stdout",
     "output_type": "stream",
     "text": [
      "[[1, 2, 3], [4, 5, 6], 5, [1, 2]]\n"
     ]
    }
   ],
   "source": [
    "print(x)"
   ]
  },
  {
   "cell_type": "code",
   "execution_count": 12,
   "id": "deb26772-23ca-4b6f-a5ca-18c6589a7cc0",
   "metadata": {},
   "outputs": [
    {
     "name": "stdout",
     "output_type": "stream",
     "text": [
      "[[1, 2, 3], [4, 5, 6], [9, 8], [1, 2]]\n"
     ]
    }
   ],
   "source": [
    "x[2] = [9, 8] # ubah nilai di index ke 2 dengan list [9, 8]\n",
    "print(x)"
   ]
  },
  {
   "cell_type": "code",
   "execution_count": 13,
   "id": "a401549d-3b93-413d-b140-dcedc36ac4ab",
   "metadata": {},
   "outputs": [
    {
     "name": "stdout",
     "output_type": "stream",
     "text": [
      "[[1, 2, 3], [4, 7, 6], [9, 8], [1, 2]]\n"
     ]
    }
   ],
   "source": [
    "x[1][1] = 7\n",
    "print(x)"
   ]
  },
  {
   "cell_type": "code",
   "execution_count": 14,
   "id": "881ad7ba-4bc9-4140-b6f5-2da2d80ad04b",
   "metadata": {},
   "outputs": [
    {
     "name": "stdout",
     "output_type": "stream",
     "text": [
      "[[1, 2, 3], 10, [9, 8], [1, 2]]\n"
     ]
    }
   ],
   "source": [
    "x[1] = 10\n",
    "print(x)"
   ]
  },
  {
   "cell_type": "markdown",
   "id": "297453b6-2390-4a31-9de1-f21c01ab379a",
   "metadata": {},
   "source": [
    "### Menghapus element di List"
   ]
  },
  {
   "cell_type": "code",
   "execution_count": 15,
   "id": "88e01d6d-1ee3-4d28-8e06-7557263fed52",
   "metadata": {},
   "outputs": [
    {
     "name": "stdout",
     "output_type": "stream",
     "text": [
      "[[1, 2, 3], 10, [9, 8], [1, 2]]\n"
     ]
    }
   ],
   "source": [
    "print(x)"
   ]
  },
  {
   "cell_type": "markdown",
   "id": "0e27f634-2eb7-4c4b-ab5f-66d0b653d380",
   "metadata": {},
   "source": [
    "Ada beberapa cara untuk menghapus elemen di List"
   ]
  },
  {
   "cell_type": "code",
   "execution_count": 16,
   "id": "1976bb81-7bc0-47ec-ae26-c460be60a9a5",
   "metadata": {},
   "outputs": [
    {
     "name": "stdout",
     "output_type": "stream",
     "text": [
      "[[1, 2, 3], 10, [9, 8]]\n"
     ]
    }
   ],
   "source": [
    "# pop(): menghapus index terakhir di List\n",
    "x.pop()\n",
    "print(x)"
   ]
  },
  {
   "cell_type": "code",
   "execution_count": 17,
   "id": "d1e47a3f-1906-4c4f-bccd-e7e8c7927490",
   "metadata": {},
   "outputs": [
    {
     "name": "stdout",
     "output_type": "stream",
     "text": [
      "[[1, 2, 3], [9, 8]]\n"
     ]
    }
   ],
   "source": [
    "x.pop(1)\n",
    "print(x)"
   ]
  },
  {
   "cell_type": "code",
   "execution_count": 18,
   "id": "8b2a611b-ad42-4602-a4b7-3e460b704335",
   "metadata": {},
   "outputs": [
    {
     "ename": "TypeError",
     "evalue": "'list' object is not callable",
     "output_type": "error",
     "traceback": [
      "\u001b[0;31m---------------------------------------------------------------------------\u001b[0m",
      "\u001b[0;31mTypeError\u001b[0m                                 Traceback (most recent call last)",
      "Cell \u001b[0;32mIn[18], line 1\u001b[0m\n\u001b[0;32m----> 1\u001b[0m \u001b[43mx\u001b[49m\u001b[38;5;241;43m.\u001b[39;49m\u001b[43mpop\u001b[49m\u001b[43m(\u001b[49m\u001b[38;5;241;43m0\u001b[39;49m\u001b[43m)\u001b[49m\u001b[43m(\u001b[49m\u001b[38;5;241;43m1\u001b[39;49m\u001b[43m)\u001b[49m\n\u001b[1;32m      2\u001b[0m \u001b[38;5;28mprint\u001b[39m(x)\n",
      "\u001b[0;31mTypeError\u001b[0m: 'list' object is not callable"
     ]
    }
   ],
   "source": [
    "x.pop(0)(1)\n",
    "print(x)"
   ]
  },
  {
   "cell_type": "code",
   "execution_count": 19,
   "id": "c6ace378-3043-4f5e-b16b-207ce1ad1cb9",
   "metadata": {},
   "outputs": [
    {
     "name": "stdout",
     "output_type": "stream",
     "text": [
      "[[1, 2, 3], [9, 8]]\n"
     ]
    }
   ],
   "source": [
    "x.insert(0, [1, 2, 3]) # menambahkan elemen ke 0 dengan [1,2,3]\n",
    "print(x)"
   ]
  },
  {
   "cell_type": "code",
   "execution_count": 20,
   "id": "4a9cb46a-1dc4-4bf2-af1a-51102785a903",
   "metadata": {},
   "outputs": [
    {
     "name": "stdout",
     "output_type": "stream",
     "text": [
      "[[1, 3], [9, 8]]\n"
     ]
    }
   ],
   "source": [
    "x[0].pop(1)\n",
    "print(x)"
   ]
  },
  {
   "cell_type": "code",
   "execution_count": 21,
   "id": "088f4dbc-b47b-47b9-a121-5ea74e7c6a7d",
   "metadata": {},
   "outputs": [
    {
     "name": "stdout",
     "output_type": "stream",
     "text": [
      "[[1, 3], [9]]\n"
     ]
    }
   ],
   "source": [
    "x[1].pop(1)\n",
    "print(x)"
   ]
  },
  {
   "cell_type": "code",
   "execution_count": 22,
   "id": "c58edf15-10d4-4aae-8022-d54c5f281887",
   "metadata": {},
   "outputs": [
    {
     "name": "stdout",
     "output_type": "stream",
     "text": [
      "[[1, 3], [9], 5]\n"
     ]
    }
   ],
   "source": [
    "x.append(5)\n",
    "print(x)"
   ]
  },
  {
   "cell_type": "code",
   "execution_count": 23,
   "id": "f33ea20b-0e55-4194-a195-aa738308173c",
   "metadata": {},
   "outputs": [
    {
     "data": {
      "text/plain": [
       "int"
      ]
     },
     "execution_count": 23,
     "metadata": {},
     "output_type": "execute_result"
    }
   ],
   "source": [
    "type(x[2])"
   ]
  },
  {
   "cell_type": "code",
   "execution_count": 24,
   "id": "e921e436-8a56-46ac-bc48-56637d495c02",
   "metadata": {},
   "outputs": [
    {
     "name": "stdout",
     "output_type": "stream",
     "text": [
      "[[1, 3], 5]\n"
     ]
    }
   ],
   "source": [
    "x.pop(1)\n",
    "print(x)"
   ]
  },
  {
   "cell_type": "code",
   "execution_count": 25,
   "id": "86c35dce-b9f8-4760-b1bc-dfc5080221ab",
   "metadata": {},
   "outputs": [
    {
     "name": "stdout",
     "output_type": "stream",
     "text": [
      "[[1, 3]]\n"
     ]
    }
   ],
   "source": [
    "x.remove(5)\n",
    "print(x)"
   ]
  },
  {
   "cell_type": "code",
   "execution_count": 27,
   "id": "3bf7d4ff-81d9-4da3-91e0-c8ff40aa076b",
   "metadata": {},
   "outputs": [
    {
     "name": "stdout",
     "output_type": "stream",
     "text": [
      "[]\n"
     ]
    }
   ],
   "source": [
    "x.remove([1,3])\n",
    "print(x)"
   ]
  },
  {
   "cell_type": "code",
   "execution_count": 28,
   "id": "fc74a7a3-96e8-4f07-a9cd-51557cac3fc3",
   "metadata": {},
   "outputs": [
    {
     "data": {
      "text/plain": [
       "list"
      ]
     },
     "execution_count": 28,
     "metadata": {},
     "output_type": "execute_result"
    }
   ],
   "source": [
    "type(x)"
   ]
  },
  {
   "cell_type": "code",
   "execution_count": 29,
   "id": "336fa04d-6204-452c-a50c-6b1835728720",
   "metadata": {},
   "outputs": [
    {
     "name": "stdout",
     "output_type": "stream",
     "text": [
      "[[1, 2, 3], [9, 8]]\n"
     ]
    }
   ],
   "source": [
    "x = [[1, 2, 3], [9, 8]]\n",
    "print(x)"
   ]
  },
  {
   "cell_type": "code",
   "execution_count": 30,
   "id": "5657a040-379f-41a1-a933-6d6ae9509285",
   "metadata": {},
   "outputs": [
    {
     "name": "stdout",
     "output_type": "stream",
     "text": [
      "[9, 8]\n"
     ]
    }
   ],
   "source": [
    "a = x.pop(1)\n",
    "print(a)"
   ]
  },
  {
   "cell_type": "code",
   "execution_count": 31,
   "id": "2a715414-0d73-41a7-9fe2-72f2a3b6fa3f",
   "metadata": {},
   "outputs": [
    {
     "name": "stdout",
     "output_type": "stream",
     "text": [
      "[[1, 2, 3]]\n"
     ]
    }
   ],
   "source": [
    "print(x)"
   ]
  },
  {
   "cell_type": "markdown",
   "id": "d5219495-b79c-4477-b858-ccbfe8fa2d84",
   "metadata": {
    "user_expressions": []
   },
   "source": [
    "### Tambahan"
   ]
  },
  {
   "cell_type": "code",
   "execution_count": 35,
   "id": "47b12923-377e-4e95-a209-efb23df40bb7",
   "metadata": {},
   "outputs": [
    {
     "name": "stdout",
     "output_type": "stream",
     "text": [
      "['toyota', 'honda', 'BMW', 'hyundai']\n"
     ]
    }
   ],
   "source": [
    "mobil = ['toyota', 'honda', 'BMW', 'hyundai']\n",
    "print(mobil)"
   ]
  },
  {
   "cell_type": "code",
   "execution_count": 36,
   "id": "77298b5f-47d9-4f60-adf7-4d92af146a4e",
   "metadata": {},
   "outputs": [
    {
     "data": {
      "text/plain": [
       "list"
      ]
     },
     "execution_count": 36,
     "metadata": {},
     "output_type": "execute_result"
    }
   ],
   "source": [
    "type(mobil)"
   ]
  },
  {
   "cell_type": "code",
   "execution_count": 37,
   "id": "885ba898-13e5-4381-933e-b1c5e5c95dd1",
   "metadata": {},
   "outputs": [
    {
     "data": {
      "text/plain": [
       "4"
      ]
     },
     "execution_count": 37,
     "metadata": {},
     "output_type": "execute_result"
    }
   ],
   "source": [
    "len(mobil)"
   ]
  },
  {
   "cell_type": "code",
   "execution_count": 38,
   "id": "f8afeac8-467a-421b-99ff-eea8ae3747cd",
   "metadata": {},
   "outputs": [
    {
     "name": "stdout",
     "output_type": "stream",
     "text": [
      "toyota\n",
      "honda\n",
      "BMW\n",
      "hyundai\n"
     ]
    }
   ],
   "source": [
    "for i in mobil:\n",
    "    print(i)"
   ]
  },
  {
   "cell_type": "code",
   "execution_count": 41,
   "id": "2931e0a4-980f-404e-86ed-cdcc3553ffc0",
   "metadata": {},
   "outputs": [
    {
     "name": "stdout",
     "output_type": "stream",
     "text": [
      "toyota\n",
      "honda\n",
      "BMW\n",
      "hyundai\n"
     ]
    }
   ],
   "source": [
    "for i in range(len(mobil)):\n",
    "    print(mobil[i])"
   ]
  },
  {
   "cell_type": "code",
   "execution_count": 42,
   "id": "d2ef2865-119d-42c7-b0dc-7b0b9daded92",
   "metadata": {},
   "outputs": [],
   "source": [
    "x = ()"
   ]
  },
  {
   "cell_type": "code",
   "execution_count": 43,
   "id": "e0e083d5-55f7-48a0-b7de-4f01482144de",
   "metadata": {},
   "outputs": [
    {
     "data": {
      "text/plain": [
       "tuple"
      ]
     },
     "execution_count": 43,
     "metadata": {},
     "output_type": "execute_result"
    }
   ],
   "source": [
    "type(x)"
   ]
  },
  {
   "cell_type": "code",
   "execution_count": 44,
   "id": "80129ec5-ef07-46fd-9f87-fbd55a10b721",
   "metadata": {},
   "outputs": [],
   "source": [
    "x = tuple()"
   ]
  },
  {
   "cell_type": "code",
   "execution_count": 45,
   "id": "78aa4196-c63e-4b92-b427-4094691c2480",
   "metadata": {},
   "outputs": [
    {
     "data": {
      "text/plain": [
       "tuple"
      ]
     },
     "execution_count": 45,
     "metadata": {},
     "output_type": "execute_result"
    }
   ],
   "source": [
    "type(x)"
   ]
  },
  {
   "cell_type": "code",
   "execution_count": 46,
   "id": "6c25340c-b198-45a0-a7ee-b61800e4abee",
   "metadata": {},
   "outputs": [
    {
     "name": "stdout",
     "output_type": "stream",
     "text": [
      "<class 'tuple'>\n"
     ]
    }
   ],
   "source": [
    "x = (1, 2, 3, 4)\n",
    "print(type(x))"
   ]
  },
  {
   "cell_type": "code",
   "execution_count": 50,
   "id": "178744df-241f-4e5b-ba23-94b039c56d0d",
   "metadata": {},
   "outputs": [
    {
     "data": {
      "text/plain": [
       "4"
      ]
     },
     "execution_count": 50,
     "metadata": {},
     "output_type": "execute_result"
    }
   ],
   "source": [
    "x[3]"
   ]
  },
  {
   "cell_type": "code",
   "execution_count": 53,
   "id": "afe34beb-e730-493a-8cea-f1da98c1b108",
   "metadata": {},
   "outputs": [
    {
     "ename": "TypeError",
     "evalue": "'tuple' object does not support item assignment",
     "output_type": "error",
     "traceback": [
      "\u001b[0;31m---------------------------------------------------------------------------\u001b[0m",
      "\u001b[0;31mTypeError\u001b[0m                                 Traceback (most recent call last)",
      "Cell \u001b[0;32mIn[53], line 1\u001b[0m\n\u001b[0;32m----> 1\u001b[0m x[\u001b[38;5;241m2\u001b[39m] \u001b[38;5;241m=\u001b[39m \u001b[38;5;241m6\u001b[39m \u001b[38;5;66;03m# tuple tidak bisa diupdate\u001b[39;00m\n\u001b[1;32m      2\u001b[0m \u001b[38;5;28mprint\u001b[39m(x)\n",
      "\u001b[0;31mTypeError\u001b[0m: 'tuple' object does not support item assignment"
     ]
    }
   ],
   "source": [
    "x[2] = 6 # tuple tidak bisa diupdate\n",
    "print(x)"
   ]
  },
  {
   "cell_type": "code",
   "execution_count": 52,
   "id": "ee60367d-99ab-47d2-9c75-3eb66a0d4469",
   "metadata": {},
   "outputs": [
    {
     "name": "stdout",
     "output_type": "stream",
     "text": [
      "(1, 2, 6, 4)\n"
     ]
    }
   ],
   "source": [
    "x = (1, 2, 6, 4)\n",
    "print(x)"
   ]
  },
  {
   "cell_type": "code",
   "execution_count": 55,
   "id": "020b93cf-9f61-4165-95a9-92cb35bc25e6",
   "metadata": {},
   "outputs": [
    {
     "data": {
      "text/plain": [
       "2"
      ]
     },
     "execution_count": 55,
     "metadata": {},
     "output_type": "execute_result"
    }
   ],
   "source": [
    "x[1]"
   ]
  },
  {
   "cell_type": "code",
   "execution_count": 57,
   "id": "dcbff9a6-5fc9-4fd1-9fe6-1638c6bb02aa",
   "metadata": {},
   "outputs": [
    {
     "name": "stdout",
     "output_type": "stream",
     "text": [
      "{0: 'honda', 2: 'bmw'}\n"
     ]
    }
   ],
   "source": [
    "mobil = {0: 'honda', 2: 'bmw'}\n",
    "print(mobil)"
   ]
  },
  {
   "cell_type": "code",
   "execution_count": 58,
   "id": "b3820562-8d5f-4288-80ad-53e2a852478f",
   "metadata": {},
   "outputs": [
    {
     "name": "stdout",
     "output_type": "stream",
     "text": [
      "honda\n"
     ]
    }
   ],
   "source": [
    "# akses dict\n",
    "print(mobil[0])"
   ]
  },
  {
   "cell_type": "code",
   "execution_count": 59,
   "id": "973338bf-a84a-4d3d-9fb1-4ef6011ce81a",
   "metadata": {},
   "outputs": [
    {
     "ename": "KeyError",
     "evalue": "1",
     "output_type": "error",
     "traceback": [
      "\u001b[0;31m---------------------------------------------------------------------------\u001b[0m",
      "\u001b[0;31mKeyError\u001b[0m                                  Traceback (most recent call last)",
      "Cell \u001b[0;32mIn[59], line 1\u001b[0m\n\u001b[0;32m----> 1\u001b[0m \u001b[38;5;28mprint\u001b[39m(\u001b[43mmobil\u001b[49m\u001b[43m[\u001b[49m\u001b[38;5;241;43m1\u001b[39;49m\u001b[43m]\u001b[49m)\n",
      "\u001b[0;31mKeyError\u001b[0m: 1"
     ]
    }
   ],
   "source": [
    "print(mobil[1])"
   ]
  },
  {
   "cell_type": "code",
   "execution_count": 60,
   "id": "8ef8474d-e271-4543-bec0-10a930a5e4b0",
   "metadata": {},
   "outputs": [
    {
     "name": "stdout",
     "output_type": "stream",
     "text": [
      "bmw\n"
     ]
    }
   ],
   "source": [
    "print(mobil[2])"
   ]
  },
  {
   "cell_type": "code",
   "execution_count": 62,
   "id": "7ff0fe0c-a824-493a-b540-1fa502aa3443",
   "metadata": {},
   "outputs": [
    {
     "name": "stdout",
     "output_type": "stream",
     "text": [
      "{'mobil_jepang': ['toyota', 'honda', 'daihatsu'], 'mobil_eropa': ['bmw', 'ferarri', 'prorsche', 'mini', 'audi']}\n"
     ]
    }
   ],
   "source": [
    "mobil = {'mobil_jepang': ['toyota', 'honda', 'daihatsu'], 'mobil_eropa': ['bmw', 'ferarri', 'prorsche', 'mini', 'audi']}\n",
    "print(mobil)"
   ]
  },
  {
   "cell_type": "code",
   "execution_count": 64,
   "id": "b5b277a5-2873-4e95-a864-a947da9b8e92",
   "metadata": {},
   "outputs": [
    {
     "data": {
      "text/plain": [
       "5"
      ]
     },
     "execution_count": 64,
     "metadata": {},
     "output_type": "execute_result"
    }
   ],
   "source": [
    "len(mobil['mobil_eropa'])"
   ]
  },
  {
   "cell_type": "code",
   "execution_count": 68,
   "id": "5bf427fb-28b5-4693-abd6-2896179f7314",
   "metadata": {},
   "outputs": [
    {
     "name": "stdout",
     "output_type": "stream",
     "text": [
      "bmw\n",
      "ferarri\n",
      "prorsche\n",
      "mini\n",
      "audi\n"
     ]
    }
   ],
   "source": [
    "for i in range(len(mobil['mobil_eropa'])):\n",
    "    print(mobil['mobil_eropa'][i])"
   ]
  },
  {
   "cell_type": "code",
   "execution_count": 69,
   "id": "8e409cd3-ef17-40c1-a696-6aadb43b4c2e",
   "metadata": {},
   "outputs": [
    {
     "name": "stdout",
     "output_type": "stream",
     "text": [
      "bmw\n",
      "ferarri\n",
      "prorsche\n",
      "mini\n",
      "audi\n"
     ]
    }
   ],
   "source": [
    "for i in mobil['mobil_eropa']:\n",
    "    print(i)"
   ]
  },
  {
   "cell_type": "code",
   "execution_count": null,
   "id": "be5334f9-2388-43da-9c0d-73a5023b888e",
   "metadata": {},
   "outputs": [],
   "source": []
  }
 ],
 "metadata": {
  "kernelspec": {
   "display_name": "Python 3 (ipykernel)",
   "language": "python",
   "name": "python3"
  },
  "language_info": {
   "codemirror_mode": {
    "name": "ipython",
    "version": 3
   },
   "file_extension": ".py",
   "mimetype": "text/x-python",
   "name": "python",
   "nbconvert_exporter": "python",
   "pygments_lexer": "ipython3",
   "version": "3.9.16"
  }
 },
 "nbformat": 4,
 "nbformat_minor": 5
}
