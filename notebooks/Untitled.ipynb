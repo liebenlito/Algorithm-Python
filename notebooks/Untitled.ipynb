{
 "cells": [
  {
   "cell_type": "code",
   "execution_count": 8,
   "id": "b38a8b06-d568-45f3-a3e6-5232056150e9",
   "metadata": {},
   "outputs": [],
   "source": [
    "a = 0"
   ]
  },
  {
   "cell_type": "code",
   "execution_count": 9,
   "id": "b45e9714-1277-4194-9987-d167c7e49e64",
   "metadata": {},
   "outputs": [
    {
     "data": {
      "text/plain": [
       "int"
      ]
     },
     "execution_count": 9,
     "metadata": {},
     "output_type": "execute_result"
    }
   ],
   "source": [
    "type(a)"
   ]
  },
  {
   "cell_type": "code",
   "execution_count": 10,
   "id": "0f2088e3-8271-4633-85af-b8c5ac47e59f",
   "metadata": {},
   "outputs": [
    {
     "name": "stdout",
     "output_type": "stream",
     "text": [
      "salah\n"
     ]
    }
   ],
   "source": [
    "if a > 0:\n",
    "    print(\"benar\")\n",
    "else:\n",
    "    print(\"salah\")"
   ]
  },
  {
   "cell_type": "code",
   "execution_count": 19,
   "id": "3824be94-b048-4dea-b0db-eb940a81323f",
   "metadata": {},
   "outputs": [],
   "source": [
    "a, b = 1, 0"
   ]
  },
  {
   "cell_type": "code",
   "execution_count": 14,
   "id": "b83587a9-6ecf-4dee-adc3-af0c5e6e0e4b",
   "metadata": {},
   "outputs": [
    {
     "name": "stdout",
     "output_type": "stream",
     "text": [
      "instruksi 1.1\n"
     ]
    }
   ],
   "source": [
    "if a > 0:\n",
    "    if b == 0 and a == 1:\n",
    "        print(\"intruksi 1\")\n",
    "    else:\n",
    "        print(\"instruksi 1.1\")\n",
    "else:\n",
    "    print(\"instruksi 2\")"
   ]
  },
  {
   "cell_type": "code",
   "execution_count": 20,
   "id": "ed7e2c0f-bd80-492e-b47b-33f2cff28eb6",
   "metadata": {},
   "outputs": [
    {
     "name": "stdout",
     "output_type": "stream",
     "text": [
      "a\n"
     ]
    }
   ],
   "source": [
    "if a > 0:\n",
    "    print(\"a\")\n",
    "if b == 1:\n",
    "    print(\"b\")"
   ]
  },
  {
   "cell_type": "code",
   "execution_count": 34,
   "id": "53be7f38-7a9a-4821-99af-c83fbe198b24",
   "metadata": {},
   "outputs": [
    {
     "name": "stdout",
     "output_type": "stream",
     "text": [
      "<class 'list'>\n"
     ]
    }
   ],
   "source": [
    "panjang = [10, 30, 50, 40, 10, 10]\n",
    "print(type(panjang))"
   ]
  },
  {
   "cell_type": "code",
   "execution_count": 35,
   "id": "6743a80a-84a5-45b3-83e1-49554cc6d4db",
   "metadata": {},
   "outputs": [
    {
     "name": "stdout",
     "output_type": "stream",
     "text": [
      "10\n"
     ]
    }
   ],
   "source": [
    "print(panjang[-1])"
   ]
  },
  {
   "cell_type": "code",
   "execution_count": 36,
   "id": "c78f4063-8723-43d0-8237-3297e5e58c47",
   "metadata": {},
   "outputs": [
    {
     "data": {
      "text/plain": [
       "6"
      ]
     },
     "execution_count": 36,
     "metadata": {},
     "output_type": "execute_result"
    }
   ],
   "source": [
    "len(panjang)"
   ]
  },
  {
   "cell_type": "code",
   "execution_count": 39,
   "id": "5a469e70-bb30-424c-aea7-e5e208e88ee0",
   "metadata": {},
   "outputs": [],
   "source": [
    "panjang = [10, 30, 50, 40, 10, 10]\n",
    "\n",
    "# mencari jumlah di list\n",
    "sum = 0\n",
    "for i in range(len(panjang)):\n",
    "    sum = sum + panjang[i]\n",
    "\n",
    "rata2 = sum/len(panjang)"
   ]
  },
  {
   "cell_type": "code",
   "execution_count": 40,
   "id": "a334192e-c307-4980-84a5-58acd1907541",
   "metadata": {},
   "outputs": [
    {
     "name": "stdout",
     "output_type": "stream",
     "text": [
      "25.0\n"
     ]
    }
   ],
   "source": [
    "print(rata2)"
   ]
  },
  {
   "cell_type": "code",
   "execution_count": 41,
   "id": "27c5b8b3-350b-4270-8d3c-8ed9d4a43425",
   "metadata": {},
   "outputs": [],
   "source": [
    "def hitung_rata2(data):\n",
    "    sum = 0\n",
    "    for i in range(len(data)):\n",
    "        sum = sum + data[i]\n",
    "        \n",
    "    rata2 = sum/len(data)\n",
    "    return rata2"
   ]
  },
  {
   "cell_type": "code",
   "execution_count": 49,
   "id": "9f4fd9d6-6eec-486c-9c99-10e4a7e43d54",
   "metadata": {},
   "outputs": [
    {
     "name": "stdout",
     "output_type": "stream",
     "text": [
      "[5, 6, 7, 8, 9, 10, 11, 12, 13, 14, 15, 16, 17, 18, 19, 20, 21, 22, 23, 24, 25, 26, 27, 28, 29, 30, 31, 32, 33, 34, 35, 36, 37, 38, 39, 40, 41, 42, 43, 44, 45, 46, 47, 48, 49, 50, 51, 52, 53, 54, 55, 56, 57, 58, 59, 60, 61, 62, 63, 64, 65, 66, 67, 68, 69, 70, 71, 72, 73, 74, 75, 76, 77, 78, 79, 80, 81, 82, 83, 84, 85, 86, 87, 88, 89, 90, 91, 92, 93, 94, 95, 96, 97, 98, 99, 100, 101, 102, 103, 104]\n"
     ]
    }
   ],
   "source": [
    "data1 = [i + 5 for i in range(100)]\n",
    "print(data1)"
   ]
  },
  {
   "cell_type": "code",
   "execution_count": 50,
   "id": "db35768c-f887-48b2-b3ef-21318efe7300",
   "metadata": {},
   "outputs": [
    {
     "data": {
      "text/plain": [
       "list"
      ]
     },
     "execution_count": 50,
     "metadata": {},
     "output_type": "execute_result"
    }
   ],
   "source": [
    "type(data1)"
   ]
  },
  {
   "cell_type": "code",
   "execution_count": 52,
   "id": "09a916e1-1728-413f-ac3b-6d2d5999d6b9",
   "metadata": {},
   "outputs": [
    {
     "name": "stdout",
     "output_type": "stream",
     "text": [
      "Rata-rata dari data1:  54.5\n"
     ]
    }
   ],
   "source": [
    "rata2 = hitung_rata2(data1)\n",
    "print(\"Rata-rata dari data1: \", rata2)"
   ]
  },
  {
   "cell_type": "code",
   "execution_count": 53,
   "id": "a182333c-1bb0-4a83-b356-0ddf3af30af3",
   "metadata": {},
   "outputs": [
    {
     "data": {
      "text/plain": [
       "list"
      ]
     },
     "execution_count": 53,
     "metadata": {},
     "output_type": "execute_result"
    }
   ],
   "source": [
    "a = []\n",
    "type(a)"
   ]
  },
  {
   "cell_type": "code",
   "execution_count": 54,
   "id": "eb9480a3-df7c-42d9-9d7d-045ac9a8876d",
   "metadata": {},
   "outputs": [
    {
     "data": {
      "text/plain": [
       "list"
      ]
     },
     "execution_count": 54,
     "metadata": {},
     "output_type": "execute_result"
    }
   ],
   "source": [
    "a = list()\n",
    "type(a)"
   ]
  },
  {
   "cell_type": "code",
   "execution_count": 56,
   "id": "a8d81b8a-c106-467f-8cf7-26bb22b15401",
   "metadata": {},
   "outputs": [
    {
     "data": {
      "text/plain": [
       "list"
      ]
     },
     "execution_count": 56,
     "metadata": {},
     "output_type": "execute_result"
    }
   ],
   "source": [
    "a = [1, 2, 3]\n",
    "type(a)"
   ]
  },
  {
   "cell_type": "code",
   "execution_count": 59,
   "id": "9630d0c4-183a-4822-a501-3b4d7773b08d",
   "metadata": {},
   "outputs": [
    {
     "data": {
      "text/plain": [
       "1"
      ]
     },
     "execution_count": 59,
     "metadata": {},
     "output_type": "execute_result"
    }
   ],
   "source": [
    "# mengakses list\n",
    "a[0]"
   ]
  },
  {
   "cell_type": "code",
   "execution_count": 64,
   "id": "532a0c3c-4115-48c1-91a0-daacce4f714d",
   "metadata": {},
   "outputs": [
    {
     "name": "stdout",
     "output_type": "stream",
     "text": [
      "[1, 2, 3, 4, 4, 4, 4, 4]\n"
     ]
    }
   ],
   "source": [
    "# menambah elemen di list\n",
    "a.append(4)\n",
    "print(a)"
   ]
  },
  {
   "cell_type": "code",
   "execution_count": 65,
   "id": "ee93698a-6844-40b7-bcdb-164656abf56b",
   "metadata": {},
   "outputs": [
    {
     "name": "stdout",
     "output_type": "stream",
     "text": [
      "[1, 2, 3, 4, 5, 4, 4, 4]\n"
     ]
    }
   ],
   "source": [
    "# update nilai elemen di list\n",
    "\n",
    "a[4] = 5\n",
    "print(a)"
   ]
  },
  {
   "cell_type": "code",
   "execution_count": 69,
   "id": "4a7fc935-ccf1-4f4c-906a-5985cd8239fb",
   "metadata": {},
   "outputs": [
    {
     "name": "stdout",
     "output_type": "stream",
     "text": [
      "1\n",
      "2\n",
      "3\n",
      "4\n",
      "5\n",
      "4\n",
      "4\n",
      "4\n"
     ]
    }
   ],
   "source": [
    "for i in a:\n",
    "    print(i)"
   ]
  },
  {
   "cell_type": "code",
   "execution_count": 112,
   "id": "00fc8b14-105f-49f2-b4f9-06026b5a6350",
   "metadata": {},
   "outputs": [],
   "source": [
    "for i in range(5, len(a)):\n",
    "    a[i] = i+1"
   ]
  },
  {
   "cell_type": "code",
   "execution_count": 76,
   "id": "665ed942-bd37-4d77-980c-9ac3362e9b9d",
   "metadata": {},
   "outputs": [
    {
     "name": "stdout",
     "output_type": "stream",
     "text": [
      "[1, 2, 3, 4, 5, 6, 7, 8]\n"
     ]
    }
   ],
   "source": [
    "print(a)"
   ]
  },
  {
   "cell_type": "code",
   "execution_count": 77,
   "id": "b800e8c4-37be-4b71-97e6-c95721ba9a7d",
   "metadata": {},
   "outputs": [
    {
     "name": "stdout",
     "output_type": "stream",
     "text": [
      "[1, 2, 3, 4, 5, 6, 7]\n"
     ]
    }
   ],
   "source": [
    "a.pop()\n",
    "print(a)"
   ]
  },
  {
   "cell_type": "code",
   "execution_count": 78,
   "id": "7bf066bf-021d-4e6e-be1c-dbe235986c4d",
   "metadata": {},
   "outputs": [
    {
     "name": "stdout",
     "output_type": "stream",
     "text": [
      "[1, 2, 4, 5, 6, 7]\n"
     ]
    }
   ],
   "source": [
    "a.pop(2)\n",
    "print(a)"
   ]
  },
  {
   "cell_type": "code",
   "execution_count": 79,
   "id": "a74475fd-c8d3-4c82-bca3-376c706affcb",
   "metadata": {},
   "outputs": [
    {
     "name": "stdout",
     "output_type": "stream",
     "text": [
      "7\n",
      "[1, 2, 4, 5, 6]\n"
     ]
    }
   ],
   "source": [
    "sisa = a.pop()\n",
    "print(sisa)\n",
    "print(a)"
   ]
  },
  {
   "cell_type": "code",
   "execution_count": 80,
   "id": "92b58ccd-d64f-4043-8bef-9d0c3a78b081",
   "metadata": {},
   "outputs": [
    {
     "name": "stdout",
     "output_type": "stream",
     "text": [
      "[1, 2, 4, 6]\n"
     ]
    }
   ],
   "source": [
    "a.remove(5)\n",
    "print(a)"
   ]
  },
  {
   "cell_type": "code",
   "execution_count": 81,
   "id": "1c6ffe09-40a2-44d3-bab3-742d841c5d70",
   "metadata": {},
   "outputs": [
    {
     "name": "stdout",
     "output_type": "stream",
     "text": [
      "<class 'tuple'>\n"
     ]
    }
   ],
   "source": [
    "b = ()\n",
    "print(type(b))"
   ]
  },
  {
   "cell_type": "code",
   "execution_count": 82,
   "id": "e9856cfe-23db-42e9-a71f-a3887f996188",
   "metadata": {},
   "outputs": [
    {
     "data": {
      "text/plain": [
       "tuple"
      ]
     },
     "execution_count": 82,
     "metadata": {},
     "output_type": "execute_result"
    }
   ],
   "source": [
    "type(b)"
   ]
  },
  {
   "cell_type": "code",
   "execution_count": 83,
   "id": "16b12881-efe7-4250-8071-cfdc2f9e5807",
   "metadata": {},
   "outputs": [
    {
     "data": {
      "text/plain": [
       "tuple"
      ]
     },
     "execution_count": 83,
     "metadata": {},
     "output_type": "execute_result"
    }
   ],
   "source": [
    "b = tuple()\n",
    "type(b)"
   ]
  },
  {
   "cell_type": "code",
   "execution_count": 85,
   "id": "da4e47ba-cebc-48f0-a32d-f572aac7f565",
   "metadata": {},
   "outputs": [
    {
     "name": "stdout",
     "output_type": "stream",
     "text": [
      "[0, 1, 2, 3, 4]\n"
     ]
    }
   ],
   "source": [
    "a = [i for i in range(5)] # List comprehension\n",
    "print(a)"
   ]
  },
  {
   "cell_type": "code",
   "execution_count": 86,
   "id": "f3e06b56-946c-46aa-8d28-70f9475fd214",
   "metadata": {},
   "outputs": [
    {
     "data": {
      "text/plain": [
       "tuple"
      ]
     },
     "execution_count": 86,
     "metadata": {},
     "output_type": "execute_result"
    }
   ],
   "source": [
    "a = (1, 2, 3)\n",
    "type(a)"
   ]
  },
  {
   "cell_type": "code",
   "execution_count": 88,
   "id": "143d29aa-7948-4893-a52f-cf8c7a2645cf",
   "metadata": {},
   "outputs": [
    {
     "data": {
      "text/plain": [
       "(1, 2)"
      ]
     },
     "execution_count": 88,
     "metadata": {},
     "output_type": "execute_result"
    }
   ],
   "source": [
    "a[0], a[1]"
   ]
  },
  {
   "cell_type": "code",
   "execution_count": 89,
   "id": "3f8816d2-93ea-4664-a4e1-c6426d378ecd",
   "metadata": {},
   "outputs": [
    {
     "ename": "TypeError",
     "evalue": "'tuple' object does not support item assignment",
     "output_type": "error",
     "traceback": [
      "\u001b[0;31m---------------------------------------------------------------------------\u001b[0m",
      "\u001b[0;31mTypeError\u001b[0m                                 Traceback (most recent call last)",
      "Cell \u001b[0;32mIn[89], line 1\u001b[0m\n\u001b[0;32m----> 1\u001b[0m a[\u001b[38;5;241m1\u001b[39m] \u001b[38;5;241m=\u001b[39m \u001b[38;5;241m4\u001b[39m\n\u001b[1;32m      2\u001b[0m a\n",
      "\u001b[0;31mTypeError\u001b[0m: 'tuple' object does not support item assignment"
     ]
    }
   ],
   "source": [
    "a[1] = 4\n",
    "a"
   ]
  },
  {
   "cell_type": "code",
   "execution_count": 92,
   "id": "36868ec7-c914-482e-9175-ec83f90ef96e",
   "metadata": {},
   "outputs": [
    {
     "data": {
      "text/plain": [
       "{'mobil_jepang': 'honda', 'mobil_eropa': 'bmw'}"
      ]
     },
     "execution_count": 92,
     "metadata": {},
     "output_type": "execute_result"
    }
   ],
   "source": [
    "mobil = {'mobil_jepang': 'honda', 'mobil_eropa': 'bmw'}\n",
    "mobil"
   ]
  },
  {
   "cell_type": "code",
   "execution_count": 94,
   "id": "344eb043-eee7-4fa5-a761-4e001b1b82fa",
   "metadata": {},
   "outputs": [
    {
     "data": {
      "text/plain": [
       "'honda'"
      ]
     },
     "execution_count": 94,
     "metadata": {},
     "output_type": "execute_result"
    }
   ],
   "source": [
    "mobil['mobil_jepang']"
   ]
  },
  {
   "cell_type": "code",
   "execution_count": 96,
   "id": "39c15e79-0af3-4ae7-9c80-07152cf5b63b",
   "metadata": {},
   "outputs": [
    {
     "data": {
      "text/plain": [
       "'bmw'"
      ]
     },
     "execution_count": 96,
     "metadata": {},
     "output_type": "execute_result"
    }
   ],
   "source": [
    "mobil['mobil_eropa']"
   ]
  },
  {
   "cell_type": "code",
   "execution_count": 97,
   "id": "2e82c36d-cde2-4a2c-9faa-cbbb51fafe6e",
   "metadata": {},
   "outputs": [
    {
     "name": "stdout",
     "output_type": "stream",
     "text": [
      "{'mobil_jepang': 'honda', 'mobil_eropa': 'bmw', 'mobil_korea': 'hyundai'}\n"
     ]
    }
   ],
   "source": [
    "# menambahkan elemen\n",
    "mobil['mobil_korea'] = 'hyundai'\n",
    "print(mobil)"
   ]
  },
  {
   "cell_type": "code",
   "execution_count": 98,
   "id": "64084aa0-587d-41bd-bd13-ed0a2ab89b40",
   "metadata": {},
   "outputs": [
    {
     "name": "stdout",
     "output_type": "stream",
     "text": [
      "{'mobil_jepang': ['honda', 'toyota', 'suzuki', 'mitsubishi'], 'mobil_eropa': 'bmw', 'mobil_korea': 'hyundai'}\n"
     ]
    }
   ],
   "source": [
    "mobil['mobil_jepang'] = ['honda', 'toyota', 'suzuki', 'mitsubishi']\n",
    "print(mobil)"
   ]
  },
  {
   "cell_type": "code",
   "execution_count": 99,
   "id": "4a208f28-2511-4159-b346-dfed273a9211",
   "metadata": {},
   "outputs": [
    {
     "name": "stdout",
     "output_type": "stream",
     "text": [
      "mitsubishi\n"
     ]
    }
   ],
   "source": [
    "print(mobil['mobil_jepang'][-1])"
   ]
  },
  {
   "cell_type": "code",
   "execution_count": 101,
   "id": "f63baa20-ebe4-4122-a778-81f0727ecb12",
   "metadata": {},
   "outputs": [
    {
     "name": "stdout",
     "output_type": "stream",
     "text": [
      "{'mobil_jepang': ['honda', 'toyota', 'suzuki', 'mitsubishi'], 'mobil_eropa': 'bmw', 'mobil_korea': 'hyundai', 'eropa': {'inggris': ['mini', 'MG', 'aston martin'], 'jerman': ['bmw', 'mercedes-benz', 'audi', 'porsche']}}\n"
     ]
    }
   ],
   "source": [
    "mobil['eropa'] = {'inggris': ['mini', 'MG', 'aston martin'], 'jerman': ['bmw', 'mercedes-benz', 'audi', 'porsche']}\n",
    "print(mobil)"
   ]
  },
  {
   "cell_type": "code",
   "execution_count": 103,
   "id": "e3ee7de2-fc57-4fda-a310-5104cbd80979",
   "metadata": {},
   "outputs": [
    {
     "name": "stdout",
     "output_type": "stream",
     "text": [
      "{'mobil_jepang': ['honda', 'toyota', 'suzuki', 'mitsubishi'], 'mobil_eropa': 'bmw', 'mobil_korea': 'hyundai'}\n"
     ]
    }
   ],
   "source": [
    "mobil.pop('eropa')\n",
    "print(mobil)"
   ]
  },
  {
   "cell_type": "code",
   "execution_count": 104,
   "id": "d499add4-73a9-4acc-8cc8-72e06d5cddcc",
   "metadata": {},
   "outputs": [
    {
     "name": "stdout",
     "output_type": "stream",
     "text": [
      "{'mobil_jepang': ['honda', 'toyota', 'suzuki', 'mitsubishi'], 'mobil_eropa': {'inggris': ['mini', 'MG', 'aston martin'], 'jerman': ['bmw', 'mercedes-benz', 'audi', 'porsche']}, 'mobil_korea': 'hyundai'}\n"
     ]
    }
   ],
   "source": [
    "mobil['mobil_eropa'] = {'inggris': ['mini', 'MG', 'aston martin'], 'jerman': ['bmw', 'mercedes-benz', 'audi', 'porsche']}\n",
    "print(mobil)"
   ]
  },
  {
   "cell_type": "code",
   "execution_count": 109,
   "id": "b0322dbd-1602-4ab4-896d-77afbdb08f18",
   "metadata": {},
   "outputs": [
    {
     "name": "stdout",
     "output_type": "stream",
     "text": [
      "4\n",
      "2\n",
      "1\n"
     ]
    }
   ],
   "source": [
    "# berapa mobil jepang? korea? inggris? jerman?\n",
    "print(len(mobil['mobil_jepang']))\n",
    "print(len(mobil['mobil_eropa']))\n",
    "print(len(mobil['mobil_korea'][0]))"
   ]
  },
  {
   "cell_type": "code",
   "execution_count": 110,
   "id": "79d51ba0-36aa-4d5a-acb2-e922a3a25fb6",
   "metadata": {},
   "outputs": [
    {
     "data": {
      "text/plain": [
       "1"
      ]
     },
     "execution_count": 110,
     "metadata": {},
     "output_type": "execute_result"
    }
   ],
   "source": [
    "a = {'mobil': 'korea'}\n",
    "len(a['mobil'][0])"
   ]
  },
  {
   "cell_type": "code",
   "execution_count": 108,
   "id": "742c2568-bbfc-4be6-82bf-0be5b7aa002f",
   "metadata": {},
   "outputs": [
    {
     "data": {
      "text/plain": [
       "1"
      ]
     },
     "execution_count": 108,
     "metadata": {},
     "output_type": "execute_result"
    }
   ],
   "source": [
    "a = ['korea']\n",
    "len(a)"
   ]
  },
  {
   "cell_type": "code",
   "execution_count": null,
   "id": "473c201a-49f4-4dfd-9443-f16103b8f37c",
   "metadata": {},
   "outputs": [],
   "source": []
  }
 ],
 "metadata": {
  "kernelspec": {
   "display_name": "Python 3 (ipykernel)",
   "language": "python",
   "name": "python3"
  },
  "language_info": {
   "codemirror_mode": {
    "name": "ipython",
    "version": 3
   },
   "file_extension": ".py",
   "mimetype": "text/x-python",
   "name": "python",
   "nbconvert_exporter": "python",
   "pygments_lexer": "ipython3",
   "version": "3.9.16"
  }
 },
 "nbformat": 4,
 "nbformat_minor": 5
}
