{
  "cells": [
    {
      "cell_type": "markdown",
      "metadata": {
        "id": "cpzowws1EQ0p"
      },
      "source": [
        "# XML"
      ]
    },
    {
      "cell_type": "code",
      "execution_count": null,
      "metadata": {
        "id": "qIVCq3pREbWX"
      },
      "outputs": [],
      "source": [
        "import xml.etree.ElementTree as ET"
      ]
    },
    {
      "cell_type": "markdown",
      "metadata": {
        "id": "MhZGHxd6Ju2s"
      },
      "source": [
        "## Parsing XML Data"
      ]
    },
    {
      "cell_type": "code",
      "execution_count": null,
      "metadata": {
        "id": "x9RGaozoJOWC"
      },
      "outputs": [],
      "source": [
        "tree = ET.parse('dataset/movie.xml')\n",
        "root = tree.getroot()"
      ]
    },
    {
      "cell_type": "code",
      "execution_count": null,
      "metadata": {
        "colab": {
          "base_uri": "https://localhost:8080/"
        },
        "id": "kdFOs5hzJn72",
        "outputId": "00207c1d-fc74-42d3-cfb8-b2e9c0105506"
      },
      "outputs": [
        {
          "data": {
            "text/plain": [
              "<Element 'collection' at 0x7802ae964b30>"
            ]
          },
          "execution_count": 51,
          "metadata": {},
          "output_type": "execute_result"
        }
      ],
      "source": [
        "root"
      ]
    },
    {
      "cell_type": "code",
      "execution_count": null,
      "metadata": {
        "colab": {
          "base_uri": "https://localhost:8080/",
          "height": 36
        },
        "id": "0WRrOUTRJopP",
        "outputId": "3b0585f0-a41d-41dc-a461-5490b0c8fce1"
      },
      "outputs": [
        {
          "data": {
            "application/vnd.google.colaboratory.intrinsic+json": {
              "type": "string"
            },
            "text/plain": [
              "'collection'"
            ]
          },
          "execution_count": 52,
          "metadata": {},
          "output_type": "execute_result"
        }
      ],
      "source": [
        "root.tag"
      ]
    },
    {
      "cell_type": "code",
      "execution_count": null,
      "metadata": {
        "colab": {
          "base_uri": "https://localhost:8080/"
        },
        "id": "lM7EKuCjJ3Rq",
        "outputId": "30b47852-bfe3-4a86-86e8-e78082f5baf9"
      },
      "outputs": [
        {
          "data": {
            "text/plain": [
              "{}"
            ]
          },
          "execution_count": 53,
          "metadata": {},
          "output_type": "execute_result"
        }
      ],
      "source": [
        "root.attrib"
      ]
    },
    {
      "cell_type": "code",
      "execution_count": null,
      "metadata": {
        "colab": {
          "base_uri": "https://localhost:8080/"
        },
        "id": "6OOM3sX9J65a",
        "outputId": "0a388f9a-0682-4686-e1a9-4722f43c90a4"
      },
      "outputs": [
        {
          "name": "stdout",
          "output_type": "stream",
          "text": [
            "genre {'category': 'Action'}\n",
            "genre {'category': 'Thriller'}\n"
          ]
        }
      ],
      "source": [
        "for child in root:\n",
        "    print(child.tag, child.attrib)"
      ]
    },
    {
      "cell_type": "code",
      "execution_count": null,
      "metadata": {
        "colab": {
          "base_uri": "https://localhost:8080/"
        },
        "id": "hNcYGDS0KHaP",
        "outputId": "0b62fafd-276e-4e83-b9b0-196eee8bde1f"
      },
      "outputs": [
        {
          "data": {
            "text/plain": [
              "['collection',\n",
              " 'genre',\n",
              " 'decade',\n",
              " 'movie',\n",
              " 'format',\n",
              " 'year',\n",
              " 'rating',\n",
              " 'description',\n",
              " 'movie',\n",
              " 'format',\n",
              " 'year',\n",
              " 'rating',\n",
              " 'description',\n",
              " 'movie',\n",
              " 'format',\n",
              " 'year',\n",
              " 'rating',\n",
              " 'description',\n",
              " 'decade',\n",
              " 'movie',\n",
              " 'format',\n",
              " 'year',\n",
              " 'rating',\n",
              " 'description',\n",
              " 'movie',\n",
              " 'format',\n",
              " 'year',\n",
              " 'rating',\n",
              " 'description',\n",
              " 'movie',\n",
              " 'format',\n",
              " 'year',\n",
              " 'rating',\n",
              " 'description',\n",
              " 'genre',\n",
              " 'decade',\n",
              " 'movie',\n",
              " 'format',\n",
              " 'year',\n",
              " 'rating',\n",
              " 'description',\n",
              " 'decade',\n",
              " 'movie',\n",
              " 'format',\n",
              " 'year',\n",
              " 'rating',\n",
              " 'description',\n",
              " 'movie',\n",
              " 'format',\n",
              " 'year',\n",
              " 'rating',\n",
              " 'description']"
            ]
          },
          "execution_count": 55,
          "metadata": {},
          "output_type": "execute_result"
        }
      ],
      "source": [
        "[element.tag for element in root.iter()]"
      ]
    },
    {
      "cell_type": "code",
      "execution_count": null,
      "metadata": {
        "colab": {
          "base_uri": "https://localhost:8080/"
        },
        "id": "0OcNmGI0Kxe9",
        "outputId": "f3e9e83f-6e5b-4ebc-ad6d-1826fa8c0328"
      },
      "outputs": [
        {
          "name": "stdout",
          "output_type": "stream",
          "text": [
            "{'favorite': 'True', 'title': 'Indiana Jones: The raiders of the lost Ark'}\n",
            "{'favorite': 'True', 'title': 'THE KARATE KID'}\n",
            "{'favorite': 'False', 'title': 'Back 2 the Future'}\n",
            "{'favorite': 'False', 'title': 'X-Men'}\n",
            "{'favorite': 'True', 'title': 'Batman Returns'}\n",
            "{'favorite': 'False', 'title': 'Reservoir Dogs'}\n",
            "{'favorite': 'False', 'title': 'ALIEN'}\n",
            "{'favorite': 'True', 'title': \"Ferris Bueller's Day Off\"}\n",
            "{'favorite': 'FALSE', 'title': 'American Psycho'}\n"
          ]
        }
      ],
      "source": [
        "for movie in root.iter('movie'):\n",
        "    print(movie.attrib)"
      ]
    },
    {
      "cell_type": "code",
      "execution_count": null,
      "metadata": {
        "colab": {
          "base_uri": "https://localhost:8080/"
        },
        "id": "wbcWDuloK9o8",
        "outputId": "89f3b3b5-d46a-43d7-ea09-d9a161966d8a"
      },
      "outputs": [
        {
          "name": "stdout",
          "output_type": "stream",
          "text": [
            "\n",
            "                'Archaeologist and adventurer Indiana Jones \n",
            "                is hired by the U.S. government to find the Ark of the \n",
            "                Covenant before the Nazis.'\n",
            "                \n",
            "None provided.\n",
            "Marty McFly\n",
            "Two mutants come to a private academy for their kind whose resident superhero team must \n",
            "               oppose a terrorist organization with similar powers.\n",
            "NA.\n",
            "WhAtEvER I Want!!!?!\n",
            "\"\"\"\"\"\"\"\"\"\n",
            "Funny movie about a funny guy\n",
            "psychopathic Bateman\n"
          ]
        }
      ],
      "source": [
        "for description in root.iter('description'):\n",
        "    print(description.text)"
      ]
    },
    {
      "cell_type": "code",
      "execution_count": null,
      "metadata": {
        "colab": {
          "base_uri": "https://localhost:8080/"
        },
        "id": "WNXQ7pngLHh_",
        "outputId": "6c173a6a-04f7-42a2-af6a-4d1b9ec40d21"
      },
      "outputs": [
        {
          "name": "stdout",
          "output_type": "stream",
          "text": [
            "{'favorite': 'True', 'title': 'Batman Returns'}\n",
            "{'favorite': 'False', 'title': 'Reservoir Dogs'}\n"
          ]
        }
      ],
      "source": [
        "for movie in root.findall(\"./genre/decade/movie/[year='1992']\"):\n",
        "    print(movie.attrib)"
      ]
    },
    {
      "cell_type": "code",
      "execution_count": null,
      "metadata": {
        "colab": {
          "base_uri": "https://localhost:8080/"
        },
        "id": "KoT6ef2gLk2l",
        "outputId": "b085ba8d-e025-46c7-aae5-7b3993598e60"
      },
      "outputs": [
        {
          "name": "stdout",
          "output_type": "stream",
          "text": [
            "{'multiple': 'Yes'}\n",
            "{'multiple': 'Yes'}\n",
            "{'multiple': 'Yes'}\n"
          ]
        }
      ],
      "source": [
        "for movie in root.findall(\"./genre/decade/movie/format/[@multiple='Yes']\"):\n",
        "    print(movie.attrib)"
      ]
    },
    {
      "cell_type": "code",
      "execution_count": null,
      "metadata": {
        "colab": {
          "base_uri": "https://localhost:8080/"
        },
        "id": "_hl1ExHjL97F",
        "outputId": "a18cef19-9272-40a9-fc57-4b5b6d379768"
      },
      "outputs": [
        {
          "name": "stdout",
          "output_type": "stream",
          "text": [
            "{'favorite': 'True', 'title': 'THE KARATE KID'}\n",
            "{'favorite': 'False', 'title': 'X-Men'}\n",
            "{'favorite': 'False', 'title': 'ALIEN'}\n"
          ]
        }
      ],
      "source": [
        "for movie in root.findall(\"./genre/decade/movie/format/[@multiple='Yes']...\"):\n",
        "    print(movie.attrib)"
      ]
    },
    {
      "cell_type": "markdown",
      "metadata": {
        "id": "aNms4ixkMc-n"
      },
      "source": [
        "## Fixing Attributes"
      ]
    },
    {
      "cell_type": "code",
      "execution_count": null,
      "metadata": {
        "colab": {
          "base_uri": "https://localhost:8080/"
        },
        "id": "mlCEApjsMF7Y",
        "outputId": "9607c77b-6c1b-4bd3-97cd-25a866d1b9b8"
      },
      "outputs": [
        {
          "name": "stdout",
          "output_type": "stream",
          "text": [
            "{'multiple': 'No'} DVD\n",
            "{'multiple': 'Yes'} DVD,Online\n",
            "{'multiple': 'False'} Blu-ray\n",
            "{'multiple': 'Yes'} dvd, digital\n",
            "{'multiple': 'No'} VHS\n",
            "{'multiple': 'No'} Online\n",
            "{'multiple': 'Yes'} DVD\n",
            "{'multiple': 'No'} DVD\n",
            "{'multiple': 'No'} blue-ray\n"
          ]
        }
      ],
      "source": [
        "for form in root.findall(\"./genre/decade/movie/format\"):\n",
        "    print(form.attrib, form.text)"
      ]
    },
    {
      "cell_type": "code",
      "execution_count": null,
      "metadata": {
        "id": "Zi25ebSSMfGr"
      },
      "outputs": [],
      "source": []
    }
  ],
  "metadata": {
    "colab": {
      "provenance": []
    },
    "kernelspec": {
      "display_name": "Python 3",
      "name": "python3"
    },
    "language_info": {
      "name": "python"
    }
  },
  "nbformat": 4,
  "nbformat_minor": 0
}
