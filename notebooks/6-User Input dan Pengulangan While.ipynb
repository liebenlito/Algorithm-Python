{
 "cells": [
  {
   "cell_type": "markdown",
   "metadata": {
    "user_expressions": []
   },
   "source": [
    "# Materi\n",
    "1. Bagaimana fungsi `input()` bekerja\n",
    "2. Mengenal pengulangan `while`"
   ]
  },
  {
   "cell_type": "markdown",
   "metadata": {},
   "source": [
    "## Fungsi `input()`\n",
    "\n",
    "Fungsi `input()` digunakan untuk menginput suatu nilai yang akan disimpan di dalam suatu variabel. Cara kerja dari fungsi `input()` yaitu dengan menghentikan proses eksekusi program sampai nilai diinput oleh user/pengguna. Contoh:"
   ]
  },
  {
   "cell_type": "code",
   "execution_count": 1,
   "metadata": {},
   "outputs": [
    {
     "name": "stdout",
     "output_type": "stream",
     "text": [
      "Nama anda: Agus\n",
      "Agus\n"
     ]
    }
   ],
   "source": [
    "message = input(\"Nama anda: \")\n",
    "print(message)"
   ]
  },
  {
   "cell_type": "markdown",
   "metadata": {},
   "source": [
    "Variabel `message` pada kode di atas menunggu inputan oleh user. Setelah diinput maka nilainya akan disimpan ke dalam variabel `message`. Jika kita keluarkan nilai dari `message` maka outputnya adalah `Agus`."
   ]
  },
  {
   "cell_type": "markdown",
   "metadata": {},
   "source": [
    "## Mengenal Pengulangan `while`\n",
    "\n",
    "Pada pertemuan sebelumnya kita membahas tentang pengulangan `for`. Di dalam pengulangan `for`, kita dapat mengetahui jumlah pengulangan yang terjadi, misalnya `for i in range(1,5):`, angka 5 menunjukan pengulangan akan berhenti ketika `i = 5`. Dengan demikian, jumlah pengulangan tersebut adalah 4. Berbeda dengan pengulangan `for`, di dalam pengulangan `while`, pengulangan berhenti jika memenuhi kondisi tertentu dan jumlah pengulangannya tidak diketahui, contohnya:"
   ]
  },
  {
   "cell_type": "code",
   "execution_count": 2,
   "metadata": {},
   "outputs": [
    {
     "name": "stdout",
     "output_type": "stream",
     "text": [
      "1\n",
      "2\n",
      "3\n",
      "4\n",
      "5\n"
     ]
    }
   ],
   "source": [
    "init_angka = 0\n",
    "while init_angka < 5: # 1\n",
    "    init_angka += 1 # 2\n",
    "    print(init_angka) # 3"
   ]
  },
  {
   "cell_type": "markdown",
   "metadata": {},
   "source": [
    "Pada baris (1), pengulangan `while` akan melakukan pengecekan apakah kondisi _statement_ benar (dalam hal ini apakah `init_angka` lebih kecil dari 5), jika benar maka akan masuk ke dalam blok pengulangan pada baris (2) dan (3). Proses ini akan berulang sampai kondisinya salah (yaitu ketika `init_angka = 5`). "
   ]
  },
  {
   "cell_type": "markdown",
   "metadata": {},
   "source": [
    "__Contoh (Collatz Conjecture):__ Misalkan terdapat suatu bilangan bulat positif. Jika bilangan tersebut adalah genap, dibagi dua; jika bilangan ganjil, kalikan dengan tiga dan tambah satu. Apapun nilai bilangan positif tersebut, barisannya akan berakhir pada angka 1. Kemudian yang menjadi pertanyaan adalah apakah barisan Collatz yang dihasilkan selalu mencapai 1 untuk setiap bilangan bulat positif? Collatz Conjecture merupakan masalah yang belum terpecahkan sampai saat ini. Berikut ilustrasi dari Collatz Conjecture:"
   ]
  },
  {
   "cell_type": "code",
   "execution_count": 3,
   "metadata": {},
   "outputs": [
    {
     "name": "stdout",
     "output_type": "stream",
     "text": [
      "Masukkan n: 12\n",
      "12\n",
      "6.0\n",
      "3.0\n",
      "10.0\n",
      "5.0\n",
      "16.0\n",
      "8.0\n",
      "4.0\n",
      "2.0\n",
      "1\n"
     ]
    }
   ],
   "source": [
    "n = input(\"Masukkan n: \") # 1\n",
    "k = int(n) # 2\n",
    "while k != 1: # 3\n",
    "    print(k) # 4\n",
    "    if k % 2 == 0: # 5 cek apakah k bilangan genap\n",
    "        k = k/2 # 6\n",
    "    else: # 7\n",
    "        k = k*3 + 1 # 8\n",
    "print(1) # 9"
   ]
  },
  {
   "cell_type": "markdown",
   "metadata": {},
   "source": [
    "__Penjelasan:__ Pada baris (1) kita input suatu `n` bilangan bulat positif. Kemudian, karena fungsi `input()` menghasilkan tipe data string maka kita ubah ke dalam tipe data integer dan disimpan di variabel `k` pada baris (2). Pada baris (3) kita tulis pengulangan `while` dengan statement `k != 1` yang berarti pengulangan akan terus berlangsung sampai nilai `k = 1`. Berdasarkan Collatz conjecture, blok `if` dan `else` pada baris (5) sampai (8) menunjukan jika genap maka `k/2`, jika ganjil maka `3k + 1`. Baris (9) digunakan untuk memastikan apakah pengulangan berhenti atau sesuai kriteria pemberhentian (dalam hal ini jika nilai `k = 1`); jika pengulangan selesai, tentu akan mengeksekusi baris di bawahnya.     "
   ]
  },
  {
   "cell_type": "markdown",
   "metadata": {},
   "source": [
    "Dari output yang dihasilkan, apapun bilangan positif yang kita input, pengulangan `while` dari kode di atas akan selalu berhenti atau tidak terjadi pengulangan terus-menerus (disebut dengan istilah __infinite loop__). Tentu ini bukan cara untuk membuktikan kebenaran dari Collatz Conjecture, karena kita belum mencoba untuk setiap bilangan bulat positif."
   ]
  },
  {
   "cell_type": "markdown",
   "metadata": {},
   "source": [
    "## Menghentikan Pengulangan `while` dengan Perintah `break`\n",
    "Kode berikut ini adalah kode untuk __infinite loop__ (__Perhatian!__ Jangan mencoba menjalankan program di bawah ini)."
   ]
  },
  {
   "cell_type": "code",
   "execution_count": null,
   "metadata": {},
   "outputs": [],
   "source": [
    "while True:\n",
    "    print(\"Hello\")"
   ]
  },
  {
   "cell_type": "markdown",
   "metadata": {},
   "source": [
    "Dari kode di atas terlihat bahwa kondisi pada statement pengulangan `while` selalu `True`, ini berarti program akan mengeksekusi perintah `print(\"Hello\")` secara terus-menerus. Pengulangan di atas dapat dihentikan dengan perintah `break`. Ini merupakan cara lain untuk menghentikan pengulangan `while`, perhatikan kode berikut:"
   ]
  },
  {
   "cell_type": "code",
   "execution_count": 4,
   "metadata": {},
   "outputs": [
    {
     "name": "stdout",
     "output_type": "stream",
     "text": [
      "toyota\n",
      "honda\n",
      "daihatsu\n"
     ]
    }
   ],
   "source": [
    "a = ['daihatsu', 'honda', 'toyota'] # 1\n",
    "\n",
    "while True: # 2\n",
    "    if not a: # 3\n",
    "        break # 4\n",
    "    print(a.pop(-1)) # 5"
   ]
  },
  {
   "cell_type": "markdown",
   "metadata": {},
   "source": [
    "__Penjelasan:__ Misalkan terdapat suatu List `a`. Pada baris (2) kita tulis pengulangan `while` dengan kondisi selalu `True`. Kemudian pada baris (3), kita cek List `a` apakah List tersebut kosong (tidak ada elemennya) atau tidak. Jika kosong maka ke baris (4) atau menjalankan perintah `break` yang artinya keluar dari pengulangan `while`. Agar elemen-elemen List di `a` kosong seiring berjalannya pengulangan tersebut, maka haruslah kita hapus tiap elemen List dan tampilkan tiap elemen terakhir yang terhapus dengan method `pop()`, seperti yang terlihat pada baris (5).  "
   ]
  }
 ],
 "metadata": {
  "kernelspec": {
   "display_name": "Python 3 (ipykernel)",
   "language": "python",
   "name": "python3"
  },
  "language_info": {
   "codemirror_mode": {
    "name": "ipython",
    "version": 3
   },
   "file_extension": ".py",
   "mimetype": "text/x-python",
   "name": "python",
   "nbconvert_exporter": "python",
   "pygments_lexer": "ipython3",
   "version": "3.9.16"
  }
 },
 "nbformat": 4,
 "nbformat_minor": 4
}
