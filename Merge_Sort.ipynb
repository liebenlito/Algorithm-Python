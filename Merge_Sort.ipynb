{
  "nbformat": 4,
  "nbformat_minor": 0,
  "metadata": {
    "colab": {
      "name": "Merge_Sort.ipynb",
      "provenance": [],
      "authorship_tag": "ABX9TyOM3y/LjnaoNopewney+PVe"
    },
    "kernelspec": {
      "name": "python3",
      "display_name": "Python 3"
    },
    "language_info": {
      "name": "python"
    }
  },
  "cells": [
    {
      "cell_type": "code",
      "metadata": {
        "id": "YEnDZCvTkzRI"
      },
      "source": [
        "def bubbleSort(arr):\n",
        "  panjang_arr = len(arr)\n",
        "  for i in range(panjang_arr-1):\n",
        "    for j in range(panjang_arr-1):\n",
        "      if arr[j] > arr[j+1]:\n",
        "        arr[j], arr[j+1] = arr[j+1], arr[j] # Penukaran elemen \n",
        "  return arr"
      ],
      "execution_count": 1,
      "outputs": []
    },
    {
      "cell_type": "code",
      "metadata": {
        "id": "vW6R3AtThgDu"
      },
      "source": [
        "def mergeSort(arr):\n",
        "  panjang_arr = len(arr) # Menentukan panjang barisan\n",
        "\n",
        "  # Cek jika panjang barisan == 1 maka barisan sudah tersortir\n",
        "  if panjang_arr == 1: \n",
        "    return arr\n",
        "  \n",
        "  # Menentukan titik tengah dari barisan\n",
        "  mid = panjang_arr // 2\n",
        "\n",
        "  # Buat partisi sebelah kanan dan kiri\n",
        "  partisi_kiri = mergeSort(arr[:mid])\n",
        "  partisi_kanan = mergeSort(arr[mid:])\n",
        "\n",
        "  return merge(partisi_kiri, partisi_kanan)\n",
        "\n",
        "def merge(kiri, kanan):\n",
        "  # Inisialisasi output\n",
        "  output = []\n",
        "  i = j = 0\n",
        "\n",
        "  # Penukaran elemen di partisi kiri dan kanan\n",
        "  while i < len(kiri) and j < len(kanan):\n",
        "    if kiri[i] < kanan[j]:\n",
        "      output.append(kiri[i])\n",
        "      i += 1\n",
        "    else:\n",
        "      output.append(kanan[j])\n",
        "      j += 1\n",
        "      \n",
        "  # penggabungan elemen\n",
        "  output.extend(kiri[i:])\n",
        "  output.extend(kanan[j:])\n",
        "\n",
        "  return output"
      ],
      "execution_count": 10,
      "outputs": []
    },
    {
      "cell_type": "code",
      "metadata": {
        "id": "5svSHADuiYLF"
      },
      "source": [
        "barisan = [4,0,6,5,3,9,8,2,1,7]\n",
        "print(barisan)\n",
        "barisan_sorted = mergeSort(barisan)\n",
        "print(barisan_sorted)"
      ],
      "execution_count": null,
      "outputs": []
    },
    {
      "cell_type": "code",
      "metadata": {
        "id": "dK3vVna_kkuo"
      },
      "source": [
        "barisan_sorted_bubble_sort = bubbleSort(barisan)\n",
        "print(barisan_sorted_bubble_sort)"
      ],
      "execution_count": null,
      "outputs": []
    },
    {
      "cell_type": "code",
      "metadata": {
        "id": "2rR1k8c_lnX8"
      },
      "source": [
        "import numpy as np\n",
        "import matplotlib.pyplot as plt"
      ],
      "execution_count": null,
      "outputs": []
    },
    {
      "cell_type": "code",
      "metadata": {
        "id": "sPLPww9jmo7b"
      },
      "source": [
        "S = np.random.randint(0,1000,10000)\n",
        "print(S,len(S))"
      ],
      "execution_count": null,
      "outputs": []
    },
    {
      "cell_type": "code",
      "metadata": {
        "id": "Zty6foBknAEQ"
      },
      "source": [
        "S_mergeSort = mergeSort(S)\n",
        "print(S_mergeSort)"
      ],
      "execution_count": null,
      "outputs": []
    },
    {
      "cell_type": "code",
      "metadata": {
        "id": "M6FXbLDdngt3"
      },
      "source": [
        "S_bubbleSort = bubbleSort(S)\n",
        "print(S_bubbleSort)"
      ],
      "execution_count": null,
      "outputs": []
    },
    {
      "cell_type": "code",
      "metadata": {
        "id": "UYI5BN5Knpxg"
      },
      "source": [
        ""
      ],
      "execution_count": null,
      "outputs": []
    }
  ]
}