{
  "nbformat": 4,
  "nbformat_minor": 0,
  "metadata": {
    "colab": {
      "name": "Merge_Sort.ipynb",
      "provenance": [],
      "authorship_tag": "ABX9TyO4LsU+bPM2diPUBlyfzBO0"
    },
    "kernelspec": {
      "name": "python3",
      "display_name": "Python 3"
    },
    "language_info": {
      "name": "python"
    }
  },
  "cells": [
    {
      "cell_type": "markdown",
      "metadata": {
        "id": "QJq3TfQ4lq3C"
      },
      "source": [
        "## Masalah Sorting\n",
        "\n",
        "Diberikan barisan tak terurut $A=\\{a_1, a_2, \\cdots, a_N\\}$, dimana $a_1, a_2, \\cdots, a_N$ adalah bilangan bulat. Tujuannya adalah ingin __mengurutkan__ elemen-elemen di $A$ sedemikian sehingga terbentuk barisan terurut $A=\\{a_1^*, a_2^*, \\cdots, a_N^*\\}$, dimana $a_1^* \\leq a_2^* \\leq \\cdots \\leq a_N^*$ (ascending).\n",
        "\n",
        "Best-Case:\n",
        "A = {1,2,3,4,5}\n",
        "\n",
        "A* = {1,2,3,4,5}\n",
        "\n",
        "Worst-Case:\n",
        "A = {5,4,3,2,1}\n",
        "\n",
        "A* = {1,2,3,4,5}"
      ]
    },
    {
      "cell_type": "markdown",
      "metadata": {
        "id": "74TCLbhDluLy"
      },
      "source": [
        "### Implementasi Bubble Sort (Brute-Force)\n",
        "\n",
        "\n",
        "```\n",
        "Algoritma: BubbleSort (A)\n",
        "  N = len(A)\n",
        "  for i=0 to N-1  ------------------- N\n",
        "    for j=0 to N-1 ------------------ N*N\n",
        "      if A[j] > A[j+1] -------------- N*N\n",
        "        # Tukar elemen\n",
        "        temp = A[j] ----------------- N*N\n",
        "        A[j] = A[j+1] --------------- N*N\n",
        "        A[j+1] = temp --------------- N*N\n",
        "        ##############\n",
        "      endif\n",
        "    endfor\n",
        "  endfor ---------------------------------- +\n",
        "  return A                    T(N) = 5N^2 + N\n",
        "```\n",
        "\n",
        "Worst-Case: $T(N) = 5N^2 + N = O(N^2)$\n",
        "\n",
        "Best-Case: $T(N) = 1 = O(1)$\n",
        "\n",
        "Average-Case: $T(N) = (5N^2 + N + 1)/2 = O(N^2)$"
      ]
    },
    {
      "cell_type": "code",
      "metadata": {
        "id": "YEnDZCvTkzRI"
      },
      "source": [
        "def bubbleSort(arr):\n",
        "  panjang_arr = len(arr)\n",
        "  for i in range(panjang_arr-1):\n",
        "    for j in range(panjang_arr-1):\n",
        "      if arr[j] > arr[j+1]:\n",
        "        arr[j], arr[j+1] = arr[j+1], arr[j] # Penukaran elemen \n",
        "  return arr"
      ],
      "execution_count": 3,
      "outputs": []
    },
    {
      "cell_type": "markdown",
      "metadata": {
        "id": "7GDmcTZtl3H6"
      },
      "source": [
        "### Implementasi Merge Sort (Divide and Conquer)\n",
        "\n",
        "```\n",
        "Algoritma: MergeSort (l, h)\n",
        "  if l < h ---------------------------------------- 1\n",
        "    mid = ceil((l+h)/2) --------------------------- 1\n",
        "    MergeSort(l, mid) ----------------------------- T(N/2)\n",
        "    MergeSort(mid+1, h) --------------------------- T(N/2)\n",
        "    Merge(A, l, mid, h) --------------------------- O(N)\n",
        "  return A ----------------------------------------------- +\n",
        "                                                    T(N) = 2T(N/2) + 2 + O(N)\n",
        "\n",
        "Algoritma: Merge (A, l, mid, h) ------ T(N) = O(N)\n",
        "  n1 = mid - l + 1\n",
        "  n2 = h - mid\n",
        "\n",
        "  Misalkan L[1..n1 + 1] dan R[1..n2 + 1]\n",
        "  for i = 1 to n1\n",
        "    L[i] = A[l + i - 1]\n",
        "  for j = 1 to n2\n",
        "    R[j] = A[q + j]\n",
        "  L[n1 + 1] = \\infty\n",
        "  R[n2 + 1] = \\infty\n",
        "\n",
        "  i = 1, j = 1\n",
        "  for k = l to h\n",
        "    if L[i] <= R[j]\n",
        "      A[k] = L[i]\n",
        "      i = i + 1\n",
        "    else \n",
        "      A[k] = R[j]\n",
        "      j = j + 1\n",
        "```\n",
        "\n",
        "Worst-Case: $O(N \\log N)$\n",
        "\n",
        "Best-Case: $\\Omega(N \\log N)$\n",
        "\n",
        "Average-Case: $\\Theta(N \\log N)$"
      ]
    },
    {
      "cell_type": "code",
      "metadata": {
        "id": "vW6R3AtThgDu"
      },
      "source": [
        "def mergeSort(arr):\n",
        "  panjang_arr = len(arr) # Menentukan panjang barisan\n",
        "\n",
        "  # Cek jika panjang barisan == 1 maka barisan sudah tersortir\n",
        "  if panjang_arr == 1: \n",
        "    return arr\n",
        "  \n",
        "  # Menentukan titik tengah dari barisan\n",
        "  mid = panjang_arr // 2\n",
        "\n",
        "  # Buat partisi sebelah kanan dan kiri\n",
        "  partisi_kiri = mergeSort(arr[:mid])\n",
        "  partisi_kanan = mergeSort(arr[mid:])\n",
        "\n",
        "  return merge(partisi_kiri, partisi_kanan)\n",
        "\n",
        "def merge(kiri, kanan):\n",
        "  # Inisialisasi output\n",
        "  output = []\n",
        "  i = j = 0\n",
        "\n",
        "  # Penukaran elemen di partisi kiri dan kanan\n",
        "  while i < len(kiri) and j < len(kanan):\n",
        "    if kiri[i] < kanan[j]:\n",
        "      output.append(kiri[i])\n",
        "      i += 1\n",
        "    else:\n",
        "      output.append(kanan[j])\n",
        "      j += 1\n",
        "      \n",
        "  # penggabungan elemen\n",
        "  output.extend(kiri[i:])\n",
        "  output.extend(kanan[j:])\n",
        "\n",
        "  return output"
      ],
      "execution_count": 4,
      "outputs": []
    },
    {
      "cell_type": "code",
      "metadata": {
        "id": "5svSHADuiYLF",
        "outputId": "ba10b4ce-1772-4f15-f679-681a80572f75",
        "colab": {
          "base_uri": "https://localhost:8080/"
        }
      },
      "source": [
        "barisan = [4,0,6,5,3,9,8,2,1,7]\n",
        "print(barisan)\n",
        "barisan_sorted = mergeSort(barisan)\n",
        "print(barisan_sorted)"
      ],
      "execution_count": 5,
      "outputs": [
        {
          "output_type": "stream",
          "name": "stdout",
          "text": [
            "[4, 0, 6, 5, 3, 9, 8, 2, 1, 7]\n",
            "[0, 1, 2, 3, 4, 5, 6, 7, 8, 9]\n"
          ]
        }
      ]
    },
    {
      "cell_type": "code",
      "metadata": {
        "id": "dK3vVna_kkuo",
        "outputId": "069048fd-e891-4894-bd61-69d0ca3bf20d",
        "colab": {
          "base_uri": "https://localhost:8080/"
        }
      },
      "source": [
        "barisan_sorted_bubble_sort = bubbleSort(barisan)\n",
        "print(barisan_sorted_bubble_sort)"
      ],
      "execution_count": 6,
      "outputs": [
        {
          "output_type": "stream",
          "name": "stdout",
          "text": [
            "[0, 1, 2, 3, 4, 5, 6, 7, 8, 9]\n"
          ]
        }
      ]
    },
    {
      "cell_type": "markdown",
      "metadata": {
        "id": "yQK5IRz_pcCT"
      },
      "source": [
        "###Tugas\n",
        "\n",
        "Buatlah suatu eksperimen dengan mengubah-ubah N (yaitu banyaknya elemen) N1 = 10, N2 = 50, N3 = 100, N4 = 500, N5 = 1000, N6 = 2000, N7 = 5000, N8 = 10000. Hitung waktu eksekusi untuk tiap-tiap N (N1, N2, ..., N8) dengan library `time` di python pada Algoritma Bubble Sort dan Merge Sort. Buat juga grafiknya (sumbu-x menyatakan N dan sumbu-y menyatakan waktu eksekusi)"
      ]
    },
    {
      "cell_type": "code",
      "metadata": {
        "id": "2rR1k8c_lnX8"
      },
      "source": [
        "import numpy as np\n",
        "import matplotlib.pyplot as plt\n",
        "import time"
      ],
      "execution_count": 7,
      "outputs": []
    },
    {
      "cell_type": "code",
      "metadata": {
        "id": "sPLPww9jmo7b",
        "outputId": "531e1bdf-7e0a-4437-f5e1-9014621ee966",
        "colab": {
          "base_uri": "https://localhost:8080/"
        }
      },
      "source": [
        "S = np.random.randint(0,1000,100)\n",
        "S"
      ],
      "execution_count": 8,
      "outputs": [
        {
          "output_type": "execute_result",
          "data": {
            "text/plain": [
              "array([ 42, 719, 878,  91, 186, 312, 635, 113, 615, 313, 662, 122, 353,\n",
              "       890, 905, 650, 850, 584, 709, 303, 230, 260, 475, 892, 268, 901,\n",
              "       867,  85, 180, 342, 947, 120, 723, 296, 377, 184, 250, 187, 487,\n",
              "       548, 622, 425, 205, 294, 272, 375,  75, 273, 307, 135, 406, 201,\n",
              "       816, 220, 556, 376, 107,  48, 263, 545, 877, 652, 875, 629, 280,\n",
              "       530, 622, 841, 311, 497, 416, 365, 884, 864, 460, 695, 452,  65,\n",
              "       388, 593, 505, 414, 903, 654, 809, 152, 610, 215, 546, 763, 992,\n",
              "       514, 293, 578, 248, 122, 166,  61, 843, 687])"
            ]
          },
          "metadata": {},
          "execution_count": 8
        }
      ]
    },
    {
      "cell_type": "code",
      "metadata": {
        "id": "uOUa7wjTptgM",
        "outputId": "fc46f0c9-f269-473c-e7fd-f281dd52ab78",
        "colab": {
          "base_uri": "https://localhost:8080/"
        }
      },
      "source": [
        "start_time = time.time()\n",
        "S_bubble = mergeSort(S)\n",
        "N = len(S)\n",
        "end_time = time.time()\n",
        "print(\"Merge Sort N={} {} detik\".format(N, end_time - start_time))"
      ],
      "execution_count": 10,
      "outputs": [
        {
          "output_type": "stream",
          "name": "stdout",
          "text": [
            "Merge Sort N=100 0.0008876323699951172 detik\n"
          ]
        }
      ]
    },
    {
      "cell_type": "code",
      "metadata": {
        "id": "Zty6foBknAEQ",
        "outputId": "0755d002-634e-4f22-ca6b-ad53eb625314",
        "colab": {
          "base_uri": "https://localhost:8080/"
        }
      },
      "source": [
        "start_time = time.time()\n",
        "S_bubble = bubbleSort(S)\n",
        "N = len(S)\n",
        "end_time = time.time()\n",
        "print(\"Bubble Sort N={} {} detik\".format(N, end_time - start_time))"
      ],
      "execution_count": 11,
      "outputs": [
        {
          "output_type": "stream",
          "name": "stdout",
          "text": [
            "Bubble Sort N=100 0.007487773895263672 detik\n"
          ]
        }
      ]
    },
    {
      "cell_type": "code",
      "metadata": {
        "id": "0h01xM5dpy7m",
        "outputId": "03f78caa-d62d-4af9-fcc5-ee9335f98ebf",
        "colab": {
          "base_uri": "https://localhost:8080/",
          "height": 269
        }
      },
      "source": [
        "x = np.linspace(1, 2, 100)\n",
        "f1 = x*np.log2(x)\n",
        "f2 = x**2\n",
        "plt.plot(x, f1, x, f2);\n",
        "plt.ylim([0, 5]);\n",
        "plt.xlim([1,2]);\n",
        "plt.legend([\"Merge Sort\", \"Bubble Sort\"]);"
      ],
      "execution_count": 31,
      "outputs": [
        {
          "output_type": "display_data",
          "data": {
            "image/png": "[encoded data removed]",
            "text/plain": [
              "<Figure size 432x288 with 1 Axes>"
            ]
          },
          "metadata": {
            "needs_background": "light"
          }
        }
      ]
    },
    {
      "cell_type": "code",
      "metadata": {
        "id": "7rxpxc0trRFe"
      },
      "source": [
        ""
      ],
      "execution_count": null,
      "outputs": []
    }
  ]
}