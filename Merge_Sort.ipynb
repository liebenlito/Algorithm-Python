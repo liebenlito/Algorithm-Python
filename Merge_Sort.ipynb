{
  "nbformat": 4,
  "nbformat_minor": 0,
  "metadata": {
    "colab": {
      "name": "Merge_Sort.ipynb",
      "provenance": [],
      "authorship_tag": "ABX9TyMFIZZQ5P27zF5d6jsc7Bgw"
    },
    "kernelspec": {
      "name": "python3",
      "display_name": "Python 3"
    },
    "language_info": {
      "name": "python"
    }
  },
  "cells": [
    {
      "cell_type": "markdown",
      "metadata": {
        "id": "QJq3TfQ4lq3C"
      },
      "source": [
        "## Masalah Sorting\n",
        "\n",
        "Diberikan barisan tak terurut $A=\\{a_1, a_2, \\cdots, a_N\\}$, dimana $a_1, a_2, \\cdots, a_N$ adalah bilangan bulat. Tujuannya adalah ingin __mengurutkan__ elemen-elemen di $A$ sedemikian sehingga terbentuk barisan terurut $A=\\{a_1^*, a_2^*, \\cdots, a_N^*\\}$, dimana $a_1^* \\leq a_2^* \\leq \\cdots \\leq a_N^*$ (ascending).\n",
        "\n",
        "Best-Case:\n",
        "A = {1,2,3,4,5}\n",
        "\n",
        "A* = {1,2,3,4,5}\n",
        "\n",
        "Worst-Case:\n",
        "A = {5,4,3,2,1}\n",
        "\n",
        "A* = {1,2,3,4,5}"
      ]
    },
    {
      "cell_type": "markdown",
      "metadata": {
        "id": "74TCLbhDluLy"
      },
      "source": [
        "### Implementasi Bubble Sort (Brute-Force)\n",
        "\n",
        "\n",
        "```\n",
        "Algoritma: BubbleSort (A)\n",
        "  N = len(A)\n",
        "  for i=0 to N-1  ------------------- N\n",
        "    for j=0 to N-1 ------------------ N*N\n",
        "      if A[j] > A[j+1] -------------- N*N\n",
        "        # Tukar elemen\n",
        "        temp = A[j] ----------------- N*N\n",
        "        A[j] = A[j+1] --------------- N*N\n",
        "        A[j+1] = temp --------------- N*N\n",
        "        ##############\n",
        "      endif\n",
        "    endfor\n",
        "  endfor ---------------------------------- +\n",
        "  return A                    T(N) = 5N^2 + N\n",
        "```\n",
        "\n",
        "Worst-Case: $T(N) = 5N^2 + N = O(N^2)$\n",
        "\n",
        "Best-Case: $T(N) = 1 = O(1)$\n",
        "\n",
        "Average-Case: $T(N) = (5N^2 + N + 1)/2 = O(N^2)$"
      ]
    },
    {
      "cell_type": "code",
      "metadata": {
        "id": "YEnDZCvTkzRI"
      },
      "source": [
        "def bubbleSort(arr):\n",
        "  panjang_arr = len(arr)\n",
        "  for i in range(panjang_arr-1):\n",
        "    for j in range(panjang_arr-1):\n",
        "      if arr[j] > arr[j+1]:\n",
        "        arr[j], arr[j+1] = arr[j+1], arr[j] # Penukaran elemen \n",
        "  return arr"
      ],
      "execution_count": 1,
      "outputs": []
    },
    {
      "cell_type": "markdown",
      "metadata": {
        "id": "7GDmcTZtl3H6"
      },
      "source": [
        "### Implementasi Merge Sort (Divide and Conquer)\n",
        "\n",
        "```\n",
        "Algoritma: MergeSort (l, h)\n",
        "  if l < h ---------------------------------------- 1\n",
        "    mid = ceil((l+h)/2) --------------------------- 1\n",
        "    MergeSort(l, mid) ----------------------------- T(N/2)\n",
        "    MergeSort(mid+1, h) --------------------------- T(N/2)\n",
        "    Merge(A, l, mid, h) --------------------------- O(N)\n",
        "  return A ----------------------------------------------- +\n",
        "                                                    T(N) = 2T(N/2) + 2 + O(N)\n",
        "\n",
        "Algoritma: Merge (A, l, mid, h) ------ T(N) = O(N)\n",
        "  n1 = mid - l + 1\n",
        "  n2 = h - mid\n",
        "\n",
        "  Misalkan L[1..n1 + 1] dan R[1..n2 + 1]\n",
        "  for i = 1 to n1\n",
        "    L[i] = A[l + i - 1]\n",
        "  for j = 1 to n2\n",
        "    R[j] = A[q + j]\n",
        "  L[n1 + 1] = \\infty\n",
        "  R[n2 + 1] = \\infty\n",
        "\n",
        "  i = 1, j = 1\n",
        "  for k = l to h\n",
        "    if L[i] <= R[j]\n",
        "      A[k] = L[i]\n",
        "      i = i + 1\n",
        "    else \n",
        "      A[k] = R[j]\n",
        "      j = j + 1\n",
        "```\n",
        "\n",
        "Worst-Case: $O(N \\log N)$\n",
        "\n",
        "Best-Case: $\\Omega(N \\log N)$\n",
        "\n",
        "Average-Case: $\\Theta(N \\log N)$"
      ]
    },
    {
      "cell_type": "code",
      "metadata": {
        "id": "vW6R3AtThgDu"
      },
      "source": [
        "def mergeSort(arr):\n",
        "  panjang_arr = len(arr) # Menentukan panjang barisan\n",
        "\n",
        "  # Cek jika panjang barisan == 1 maka barisan sudah tersortir\n",
        "  if panjang_arr == 1: \n",
        "    return arr\n",
        "  \n",
        "  # Menentukan titik tengah dari barisan\n",
        "  mid = panjang_arr // 2\n",
        "\n",
        "  # Buat partisi sebelah kanan dan kiri\n",
        "  partisi_kiri = mergeSort(arr[:mid])\n",
        "  partisi_kanan = mergeSort(arr[mid:])\n",
        "\n",
        "  return merge(partisi_kiri, partisi_kanan)\n",
        "\n",
        "def merge(kiri, kanan):\n",
        "  # Inisialisasi output\n",
        "  output = []\n",
        "  i = j = 0\n",
        "\n",
        "  # Penukaran elemen di partisi kiri dan kanan\n",
        "  while i < len(kiri) and j < len(kanan):\n",
        "    if kiri[i] < kanan[j]:\n",
        "      output.append(kiri[i])\n",
        "      i += 1\n",
        "    else:\n",
        "      output.append(kanan[j])\n",
        "      j += 1\n",
        "      \n",
        "  # penggabungan elemen\n",
        "  output.extend(kiri[i:])\n",
        "  output.extend(kanan[j:])\n",
        "\n",
        "  return output"
      ],
      "execution_count": 2,
      "outputs": []
    },
    {
      "cell_type": "code",
      "metadata": {
        "id": "5svSHADuiYLF",
        "colab": {
          "base_uri": "https://localhost:8080/"
        },
        "outputId": "ac7b198d-5ab4-49ec-f15b-52951d036e7c"
      },
      "source": [
        "barisan = [4,0,6,5,3,9,8,2,1,7]\n",
        "print(barisan)\n",
        "barisan_sorted = mergeSort(barisan)\n",
        "print(barisan_sorted)"
      ],
      "execution_count": 3,
      "outputs": [
        {
          "output_type": "stream",
          "name": "stdout",
          "text": [
            "[4, 0, 6, 5, 3, 9, 8, 2, 1, 7]\n",
            "[0, 1, 2, 3, 4, 5, 6, 7, 8, 9]\n"
          ]
        }
      ]
    },
    {
      "cell_type": "code",
      "metadata": {
        "id": "dK3vVna_kkuo",
        "colab": {
          "base_uri": "https://localhost:8080/"
        },
        "outputId": "713166ed-7315-4e90-e207-3db3fb815e0b"
      },
      "source": [
        "barisan_sorted_bubble_sort = bubbleSort(barisan)\n",
        "print(barisan_sorted_bubble_sort)"
      ],
      "execution_count": 4,
      "outputs": [
        {
          "output_type": "stream",
          "name": "stdout",
          "text": [
            "[0, 1, 2, 3, 4, 5, 6, 7, 8, 9]\n"
          ]
        }
      ]
    },
    {
      "cell_type": "markdown",
      "metadata": {
        "id": "yQK5IRz_pcCT"
      },
      "source": [
        "###Tugas\n",
        "\n",
        "Buatlah suatu eksperimen dengan mengubah-ubah N (yaitu banyaknya elemen) N1 = 10, N2 = 50, N3 = 100, N4 = 500, N5 = 1000, N6 = 2000, N7 = 5000, N8 = 10000. Hitung waktu eksekusi untuk tiap-tiap N (N1, N2, ..., N8) dengan library `time` di python pada Algoritma Bubble Sort dan Merge Sort. Buat juga grafiknya (sumbu-x menyatakan N dan sumbu-y menyatakan waktu eksekusi)"
      ]
    },
    {
      "cell_type": "code",
      "metadata": {
        "id": "2rR1k8c_lnX8"
      },
      "source": [
        "import numpy as np\n",
        "import matplotlib.pyplot as plt\n",
        "import time"
      ],
      "execution_count": 5,
      "outputs": []
    },
    {
      "cell_type": "code",
      "metadata": {
        "id": "Zty6foBknAEQ"
      },
      "source": [
        "def exec(n=1, flag='MS'):\n",
        "  T = []\n",
        "  for i in range(1, n+1):\n",
        "    S = np.random.randint(0,1000,i)\n",
        "    if flag == 'MS':\n",
        "      start_time = time.time()\n",
        "      mergeSort(S)\n",
        "      end_time = time.time()\n",
        "    elif flag == 'BS':\n",
        "      start_time = time.time()\n",
        "      bubbleSort(S)\n",
        "      end_time = time.time()\n",
        "\n",
        "    T.append(end_time - start_time)\n",
        "\n",
        "  return T"
      ],
      "execution_count": 12,
      "outputs": []
    },
    {
      "cell_type": "code",
      "metadata": {
        "id": "O9goT0JDWpM_",
        "outputId": "141ca19c-6fa8-4bd2-e5f4-71ccd631cd39",
        "colab": {
          "base_uri": "https://localhost:8080/",
          "height": 320
        }
      },
      "source": [
        "waktu_MS = exec(10000, 'MS')\n",
        "pprint(waktu_MS)"
      ],
      "execution_count": 27,
      "outputs": [
        {
          "output_type": "error",
          "ename": "KeyboardInterrupt",
          "evalue": "ignored",
          "traceback": [
            "\u001b[0;31m---------------------------------------------------------------------------\u001b[0m",
            "\u001b[0;31mKeyboardInterrupt\u001b[0m                         Traceback (most recent call last)",
            "\u001b[0;32m<ipython-input-27-421f5d755e86>\u001b[0m in \u001b[0;36m<module>\u001b[0;34m()\u001b[0m\n\u001b[0;32m----> 1\u001b[0;31m \u001b[0mwaktu_MS\u001b[0m \u001b[0;34m=\u001b[0m \u001b[0mexec\u001b[0m\u001b[0;34m(\u001b[0m\u001b[0;36m10000\u001b[0m\u001b[0;34m,\u001b[0m \u001b[0;34m'MS'\u001b[0m\u001b[0;34m)\u001b[0m\u001b[0;34m\u001b[0m\u001b[0;34m\u001b[0m\u001b[0m\n\u001b[0m\u001b[1;32m      2\u001b[0m \u001b[0mpprint\u001b[0m\u001b[0;34m(\u001b[0m\u001b[0mwaktu_MS\u001b[0m\u001b[0;34m)\u001b[0m\u001b[0;34m\u001b[0m\u001b[0;34m\u001b[0m\u001b[0m\n",
            "\u001b[0;32m<ipython-input-12-5bcbe6b976b3>\u001b[0m in \u001b[0;36mexec\u001b[0;34m(n, flag)\u001b[0m\n\u001b[1;32m      5\u001b[0m     \u001b[0;32mif\u001b[0m \u001b[0mflag\u001b[0m \u001b[0;34m==\u001b[0m \u001b[0;34m'MS'\u001b[0m\u001b[0;34m:\u001b[0m\u001b[0;34m\u001b[0m\u001b[0;34m\u001b[0m\u001b[0m\n\u001b[1;32m      6\u001b[0m       \u001b[0mstart_time\u001b[0m \u001b[0;34m=\u001b[0m \u001b[0mtime\u001b[0m\u001b[0;34m.\u001b[0m\u001b[0mtime\u001b[0m\u001b[0;34m(\u001b[0m\u001b[0;34m)\u001b[0m\u001b[0;34m\u001b[0m\u001b[0;34m\u001b[0m\u001b[0m\n\u001b[0;32m----> 7\u001b[0;31m       \u001b[0mmergeSort\u001b[0m\u001b[0;34m(\u001b[0m\u001b[0mS\u001b[0m\u001b[0;34m)\u001b[0m\u001b[0;34m\u001b[0m\u001b[0;34m\u001b[0m\u001b[0m\n\u001b[0m\u001b[1;32m      8\u001b[0m       \u001b[0mend_time\u001b[0m \u001b[0;34m=\u001b[0m \u001b[0mtime\u001b[0m\u001b[0;34m.\u001b[0m\u001b[0mtime\u001b[0m\u001b[0;34m(\u001b[0m\u001b[0;34m)\u001b[0m\u001b[0;34m\u001b[0m\u001b[0;34m\u001b[0m\u001b[0m\n\u001b[1;32m      9\u001b[0m     \u001b[0;32melif\u001b[0m \u001b[0mflag\u001b[0m \u001b[0;34m==\u001b[0m \u001b[0;34m'BS'\u001b[0m\u001b[0;34m:\u001b[0m\u001b[0;34m\u001b[0m\u001b[0;34m\u001b[0m\u001b[0m\n",
            "\u001b[0;32m<ipython-input-2-4a9c8e60804e>\u001b[0m in \u001b[0;36mmergeSort\u001b[0;34m(arr)\u001b[0m\n\u001b[1;32m     11\u001b[0m   \u001b[0;31m# Buat partisi sebelah kanan dan kiri\u001b[0m\u001b[0;34m\u001b[0m\u001b[0;34m\u001b[0m\u001b[0;34m\u001b[0m\u001b[0m\n\u001b[1;32m     12\u001b[0m   \u001b[0mpartisi_kiri\u001b[0m \u001b[0;34m=\u001b[0m \u001b[0mmergeSort\u001b[0m\u001b[0;34m(\u001b[0m\u001b[0marr\u001b[0m\u001b[0;34m[\u001b[0m\u001b[0;34m:\u001b[0m\u001b[0mmid\u001b[0m\u001b[0;34m]\u001b[0m\u001b[0;34m)\u001b[0m\u001b[0;34m\u001b[0m\u001b[0;34m\u001b[0m\u001b[0m\n\u001b[0;32m---> 13\u001b[0;31m   \u001b[0mpartisi_kanan\u001b[0m \u001b[0;34m=\u001b[0m \u001b[0mmergeSort\u001b[0m\u001b[0;34m(\u001b[0m\u001b[0marr\u001b[0m\u001b[0;34m[\u001b[0m\u001b[0mmid\u001b[0m\u001b[0;34m:\u001b[0m\u001b[0;34m]\u001b[0m\u001b[0;34m)\u001b[0m\u001b[0;34m\u001b[0m\u001b[0;34m\u001b[0m\u001b[0m\n\u001b[0m\u001b[1;32m     14\u001b[0m \u001b[0;34m\u001b[0m\u001b[0m\n\u001b[1;32m     15\u001b[0m   \u001b[0;32mreturn\u001b[0m \u001b[0mmerge\u001b[0m\u001b[0;34m(\u001b[0m\u001b[0mpartisi_kiri\u001b[0m\u001b[0;34m,\u001b[0m \u001b[0mpartisi_kanan\u001b[0m\u001b[0;34m)\u001b[0m\u001b[0;34m\u001b[0m\u001b[0;34m\u001b[0m\u001b[0m\n",
            "\u001b[0;32m<ipython-input-2-4a9c8e60804e>\u001b[0m in \u001b[0;36mmergeSort\u001b[0;34m(arr)\u001b[0m\n\u001b[1;32m     13\u001b[0m   \u001b[0mpartisi_kanan\u001b[0m \u001b[0;34m=\u001b[0m \u001b[0mmergeSort\u001b[0m\u001b[0;34m(\u001b[0m\u001b[0marr\u001b[0m\u001b[0;34m[\u001b[0m\u001b[0mmid\u001b[0m\u001b[0;34m:\u001b[0m\u001b[0;34m]\u001b[0m\u001b[0;34m)\u001b[0m\u001b[0;34m\u001b[0m\u001b[0;34m\u001b[0m\u001b[0m\n\u001b[1;32m     14\u001b[0m \u001b[0;34m\u001b[0m\u001b[0m\n\u001b[0;32m---> 15\u001b[0;31m   \u001b[0;32mreturn\u001b[0m \u001b[0mmerge\u001b[0m\u001b[0;34m(\u001b[0m\u001b[0mpartisi_kiri\u001b[0m\u001b[0;34m,\u001b[0m \u001b[0mpartisi_kanan\u001b[0m\u001b[0;34m)\u001b[0m\u001b[0;34m\u001b[0m\u001b[0;34m\u001b[0m\u001b[0m\n\u001b[0m\u001b[1;32m     16\u001b[0m \u001b[0;34m\u001b[0m\u001b[0m\n\u001b[1;32m     17\u001b[0m \u001b[0;32mdef\u001b[0m \u001b[0mmerge\u001b[0m\u001b[0;34m(\u001b[0m\u001b[0mkiri\u001b[0m\u001b[0;34m,\u001b[0m \u001b[0mkanan\u001b[0m\u001b[0;34m)\u001b[0m\u001b[0;34m:\u001b[0m\u001b[0;34m\u001b[0m\u001b[0;34m\u001b[0m\u001b[0m\n",
            "\u001b[0;32m<ipython-input-2-4a9c8e60804e>\u001b[0m in \u001b[0;36mmerge\u001b[0;34m(kiri, kanan)\u001b[0m\n\u001b[1;32m     21\u001b[0m \u001b[0;34m\u001b[0m\u001b[0m\n\u001b[1;32m     22\u001b[0m   \u001b[0;31m# Penukaran elemen di partisi kiri dan kanan\u001b[0m\u001b[0;34m\u001b[0m\u001b[0;34m\u001b[0m\u001b[0;34m\u001b[0m\u001b[0m\n\u001b[0;32m---> 23\u001b[0;31m   \u001b[0;32mwhile\u001b[0m \u001b[0mi\u001b[0m \u001b[0;34m<\u001b[0m \u001b[0mlen\u001b[0m\u001b[0;34m(\u001b[0m\u001b[0mkiri\u001b[0m\u001b[0;34m)\u001b[0m \u001b[0;32mand\u001b[0m \u001b[0mj\u001b[0m \u001b[0;34m<\u001b[0m \u001b[0mlen\u001b[0m\u001b[0;34m(\u001b[0m\u001b[0mkanan\u001b[0m\u001b[0;34m)\u001b[0m\u001b[0;34m:\u001b[0m\u001b[0;34m\u001b[0m\u001b[0;34m\u001b[0m\u001b[0m\n\u001b[0m\u001b[1;32m     24\u001b[0m     \u001b[0;32mif\u001b[0m \u001b[0mkiri\u001b[0m\u001b[0;34m[\u001b[0m\u001b[0mi\u001b[0m\u001b[0;34m]\u001b[0m \u001b[0;34m<\u001b[0m \u001b[0mkanan\u001b[0m\u001b[0;34m[\u001b[0m\u001b[0mj\u001b[0m\u001b[0;34m]\u001b[0m\u001b[0;34m:\u001b[0m\u001b[0;34m\u001b[0m\u001b[0;34m\u001b[0m\u001b[0m\n\u001b[1;32m     25\u001b[0m       \u001b[0moutput\u001b[0m\u001b[0;34m.\u001b[0m\u001b[0mappend\u001b[0m\u001b[0;34m(\u001b[0m\u001b[0mkiri\u001b[0m\u001b[0;34m[\u001b[0m\u001b[0mi\u001b[0m\u001b[0;34m]\u001b[0m\u001b[0;34m)\u001b[0m\u001b[0;34m\u001b[0m\u001b[0;34m\u001b[0m\u001b[0m\n",
            "\u001b[0;31mKeyboardInterrupt\u001b[0m: "
          ]
        }
      ]
    },
    {
      "cell_type": "code",
      "metadata": {
        "id": "X6gZWVGfXJSG"
      },
      "source": [
        "waktu_BS = exec(1000, 'BS')"
      ],
      "execution_count": 15,
      "outputs": []
    },
    {
      "cell_type": "code",
      "metadata": {
        "id": "CRu310iOtvyI",
        "outputId": "b2b1f5b1-4c79-408b-9c3a-d2bfdc9ab011",
        "colab": {
          "base_uri": "https://localhost:8080/",
          "height": 268
        }
      },
      "source": [
        "X = np.linspace(1, 1000, 1000)\n",
        "plt.plot(X, waktu_BS, label='Bubble Sort')\n",
        "plt.plot(X, waktu_MS[:1000], label='Merge Sort')\n",
        "plt.legend();"
      ],
      "execution_count": 28,
      "outputs": [
        {
          "output_type": "display_data",
          "data": {
            "image/png": "[encoded data removed]",
            "text/plain": [
              "<Figure size 432x288 with 1 Axes>"
            ]
          },
          "metadata": {
            "needs_background": "light"
          }
        }
      ]
    },
    {
      "cell_type": "code",
      "metadata": {
        "id": "0h01xM5dpy7m",
        "colab": {
          "base_uri": "https://localhost:8080/",
          "height": 265
        },
        "outputId": "211af67d-196d-49f8-d649-37b9a51d24eb"
      },
      "source": [
        "x = np.linspace(1, 100, 100)\n",
        "f1 = x*np.log(x)\n",
        "f2 = x**2\n",
        "plt.plot(x, f1, x, f2);\n",
        "plt.annotate('$O(n \\log n)$', (50, 700))\n",
        "plt.annotate('$O(n^2)$', (50, 4000))\n",
        "#plt.ylim([0, 5]);\n",
        "#plt.xlim([1,2]);\n",
        "plt.legend([\"Merge Sort\", \"Bubble Sort\"]);"
      ],
      "execution_count": 31,
      "outputs": [
        {
          "output_type": "display_data",
          "data": {
            "image/png": "[encoded data removed]",
            "text/plain": [
              "<Figure size 432x288 with 1 Axes>"
            ]
          },
          "metadata": {
            "needs_background": "light"
          }
        }
      ]
    },
    {
      "cell_type": "code",
      "metadata": {
        "id": "ERhomGqlsxkZ"
      },
      "source": [
        ""
      ],
      "execution_count": null,
      "outputs": []
    }
  ]
}