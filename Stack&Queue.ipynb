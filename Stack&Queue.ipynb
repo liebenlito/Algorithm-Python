{
  "nbformat": 4,
  "nbformat_minor": 0,
  "metadata": {
    "colab": {
      "name": "Stack&Queue.ipynb",
      "provenance": [],
      "collapsed_sections": [],
      "toc_visible": true,
      "authorship_tag": "ABX9TyPdvMCT5L3Pr1MiX2i5+g/6"
    },
    "kernelspec": {
      "name": "python3",
      "display_name": "Python 3"
    },
    "language_info": {
      "name": "python"
    }
  },
  "cells": [
    {
      "cell_type": "markdown",
      "source": [
        "# Stacks"
      ],
      "metadata": {
        "id": "R0M3_OmTQWV6"
      }
    },
    {
      "cell_type": "markdown",
      "source": [
        "## Membangun Class untuk Stacks"
      ],
      "metadata": {
        "id": "CegXWHE-QZmO"
      }
    },
    {
      "cell_type": "code",
      "execution_count": 1,
      "metadata": {
        "id": "XcGB4jlyQR2E"
      },
      "outputs": [],
      "source": [
        "class Stack:\n",
        "  def __init__(self):\n",
        "    self.items = []\n",
        "  \n",
        "  def push(self, item):\n",
        "    self.items.append(item)\n",
        "  \n",
        "  def pop(self):\n",
        "    return self.items.pop()\n",
        "  \n",
        "  def top(self):\n",
        "    return self.items[len(self.items)-1]\n",
        "\n",
        "  def size(self):\n",
        "    return len(self.items)\n",
        "\n",
        "  def is_empty(self):\n",
        "    return len(self.items) == 0"
      ]
    },
    {
      "cell_type": "markdown",
      "source": [
        "## Contoh-Contoh:"
      ],
      "metadata": {
        "id": "x1iro8F-SnHx"
      }
    },
    {
      "cell_type": "code",
      "source": [
        "s = Stack()"
      ],
      "metadata": {
        "id": "L_AHPp58Sr03"
      },
      "execution_count": 2,
      "outputs": []
    },
    {
      "cell_type": "code",
      "source": [
        "s.push(5)"
      ],
      "metadata": {
        "id": "9HMx4IvQSy_6"
      },
      "execution_count": 3,
      "outputs": []
    },
    {
      "cell_type": "code",
      "source": [
        "s.items"
      ],
      "metadata": {
        "colab": {
          "base_uri": "https://localhost:8080/"
        },
        "id": "pvUTVIS5TJF_",
        "outputId": "c120ec2c-4437-48ce-d5dc-63d78d1547dc"
      },
      "execution_count": 4,
      "outputs": [
        {
          "output_type": "execute_result",
          "data": {
            "text/plain": [
              "[5]"
            ]
          },
          "metadata": {},
          "execution_count": 4
        }
      ]
    },
    {
      "cell_type": "code",
      "source": [
        "s.push(10)\n",
        "\n",
        "s.items"
      ],
      "metadata": {
        "colab": {
          "base_uri": "https://localhost:8080/"
        },
        "id": "8yCFN5n7TPwj",
        "outputId": "744f733c-95ec-452a-8bbf-0b059b6e426e"
      },
      "execution_count": 5,
      "outputs": [
        {
          "output_type": "execute_result",
          "data": {
            "text/plain": [
              "[5, 10]"
            ]
          },
          "metadata": {},
          "execution_count": 5
        }
      ]
    },
    {
      "cell_type": "code",
      "source": [
        "s.push(15)\n",
        "s.push(20)\n",
        "s.push(25)\n",
        "\n",
        "s.items"
      ],
      "metadata": {
        "colab": {
          "base_uri": "https://localhost:8080/"
        },
        "id": "rUdyhheOTVnh",
        "outputId": "e892332e-9d3b-4c10-ad8d-8c2ffed6540a"
      },
      "execution_count": 6,
      "outputs": [
        {
          "output_type": "execute_result",
          "data": {
            "text/plain": [
              "[5, 10, 15, 20, 25]"
            ]
          },
          "metadata": {},
          "execution_count": 6
        }
      ]
    },
    {
      "cell_type": "code",
      "source": [
        "s.pop()\n",
        "\n",
        "s.items"
      ],
      "metadata": {
        "colab": {
          "base_uri": "https://localhost:8080/"
        },
        "id": "sQU315vDTeKs",
        "outputId": "82ea0b3c-9527-4563-e319-d5578bf38742"
      },
      "execution_count": 7,
      "outputs": [
        {
          "output_type": "execute_result",
          "data": {
            "text/plain": [
              "[5, 10, 15, 20]"
            ]
          },
          "metadata": {},
          "execution_count": 7
        }
      ]
    },
    {
      "cell_type": "code",
      "source": [
        "s.size()"
      ],
      "metadata": {
        "colab": {
          "base_uri": "https://localhost:8080/"
        },
        "id": "OH6Yo2VyTmc5",
        "outputId": "acfcd960-1e03-41da-fb75-6d8d196ff931"
      },
      "execution_count": 8,
      "outputs": [
        {
          "output_type": "execute_result",
          "data": {
            "text/plain": [
              "4"
            ]
          },
          "metadata": {},
          "execution_count": 8
        }
      ]
    },
    {
      "cell_type": "code",
      "source": [
        "s.top()"
      ],
      "metadata": {
        "colab": {
          "base_uri": "https://localhost:8080/"
        },
        "id": "rgqVxtlgTqEH",
        "outputId": "571449ef-9302-4d8d-8f89-ed8d3ca596f1"
      },
      "execution_count": 9,
      "outputs": [
        {
          "output_type": "execute_result",
          "data": {
            "text/plain": [
              "20"
            ]
          },
          "metadata": {},
          "execution_count": 9
        }
      ]
    },
    {
      "cell_type": "code",
      "source": [
        "hapus = s.pop()\n",
        "\n",
        "print(f\"Hai, item {hapus} akan dihapus dari stack s!\")\n",
        "print(\"Sekarang isi stacknya menjadi {}\".format(s.items))"
      ],
      "metadata": {
        "colab": {
          "base_uri": "https://localhost:8080/"
        },
        "id": "ymqlqXrITwdi",
        "outputId": "6002b4bb-22d7-4711-a821-1d8d8cf87e2a"
      },
      "execution_count": 10,
      "outputs": [
        {
          "output_type": "stream",
          "name": "stdout",
          "text": [
            "Hai, item 20 akan dihapus dari stack s!\n",
            "Sekarang isi stacknya menjadi [5, 10, 15]\n"
          ]
        }
      ]
    },
    {
      "cell_type": "code",
      "source": [
        "s.is_empty()"
      ],
      "metadata": {
        "colab": {
          "base_uri": "https://localhost:8080/"
        },
        "id": "qf4QhSmGVWSM",
        "outputId": "784cd897-8d6d-449e-b795-ebbea974195e"
      },
      "execution_count": 11,
      "outputs": [
        {
          "output_type": "execute_result",
          "data": {
            "text/plain": [
              "False"
            ]
          },
          "metadata": {},
          "execution_count": 11
        }
      ]
    },
    {
      "cell_type": "markdown",
      "source": [
        "## Implementasi Stacks: Konversi Bilangan Desimal"
      ],
      "metadata": {
        "id": "QCuAbAuRQrgS"
      }
    },
    {
      "cell_type": "markdown",
      "source": [
        "Bilangan desimal adalah bilangan dengan basis $10$ yang tersusun atas angka $0,1,2,3,4,5,6,7,8,9$. Misalnya angka $(208)_{10}$ dapat direpresentasikan dengan\n",
        "\n",
        "$$\n",
        "(208)_{10} = 2 \\times 10^2 + 0 \\times 10^1 + 8 \\times 10^0.\n",
        "$$\n",
        "\n",
        "Sementara itu, bilangan binary memiliki basis $2$, sehingga angka-angka yang mungkin adalah $0,1$. Contohnya angka $(1011)_2$ dapat direpresentasikan dengan\n",
        "\n",
        "$$\n",
        "(1011)_2 = 1 \\times 2^3 + 0 \\times 2^2 + 1 \\times 2^1 + 1 \\times 2^0 = (11)_{10}. \n",
        "$$\n",
        "\n",
        "Dari contoh di atas terlihat bahwa hubungan antara bilangan desimal dan bilangan binary dinyatakan dengan pembagian bilangan desimal dengan nilai 2. Dengan kata lain, untuk mengkonversikan bilangan desimal ke dalam bilangan binary dapat dilakukan dengan cara membagi suatu bilangan desimal dengan 2 dan memperhatikan sisa baginya secara terus menerus sampai bilangan tersebut 0. Perhatikan contoh berikut\n",
        "\n",
        "```\n",
        "11/2 = 5 sisa 1 | atas\n",
        "5/2 = 2 sisa 1  |\n",
        "2/2 = 1 sisa 0  |\n",
        "1/2 = 0 sisa 1  | bawah\n",
        "```\n",
        "\n",
        "Dari contoh di atas kita dapat memanfaatkan struktur data stack untuk mengkonversi bilangan desimal ke bilangan binary.\n"
      ],
      "metadata": {
        "id": "MZSvKrO7VnbW"
      }
    },
    {
      "cell_type": "code",
      "source": [
        "def bagi2(angkaDesimal):\n",
        "  sisa = Stack()\n",
        "\n",
        "  while angkaDesimal > 0:\n",
        "    modulo = angkaDesimal % 2\n",
        "    sisa.push(modulo)\n",
        "    angkaDesimal = angkaDesimal // 2\n",
        "\n",
        "  # Keluarkan isi Stacknya\n",
        "  binary = \"\"\n",
        "  while not sisa.is_empty():\n",
        "    binary = binary + str(sisa.pop())\n",
        "\n",
        "  return binary\n",
        "\n"
      ],
      "metadata": {
        "id": "sfaId9oeQ9jQ"
      },
      "execution_count": 12,
      "outputs": []
    },
    {
      "cell_type": "code",
      "source": [
        "desimal = 11\n",
        "bagi2(11)"
      ],
      "metadata": {
        "colab": {
          "base_uri": "https://localhost:8080/",
          "height": 37
        },
        "id": "jlkd2GVEdvW6",
        "outputId": "d98ecaab-e926-4c7c-c7f2-817a90164719"
      },
      "execution_count": 13,
      "outputs": [
        {
          "output_type": "execute_result",
          "data": {
            "text/plain": [
              "'1011'"
            ],
            "application/vnd.google.colaboratory.intrinsic+json": {
              "type": "string"
            }
          },
          "metadata": {},
          "execution_count": 13
        }
      ]
    },
    {
      "cell_type": "markdown",
      "source": [
        "Kita juga bisa mengkonversi bilangan desimal ke bilangan dengan basis 8 (oktal) atau basis 16 (heksadesimal). Caranya mirip seperti mengkonversi bilangan desimal ke dalam bilangan binary. Jika kita ingin mengkonversikannya ke dalam bilangan binary dengan cara membagi angka-angkanya dengan 2, maka untuk bilangan oktal atau heksadesimal kita bagi bilangan desimal dengan 8 dan 16, berturut-turut.\n",
        "\n",
        "\n",
        "> **CATATAN**:\n",
        "bilangan oktal terdiri dari kombinasi $0,1,2,3,4,5,6,7$. Sedangkan bilangan heksadesimal terdiri dari kombinasi $0,1,2,3,4,5,6,7,8,9,A,B,C,D,E,F$\n",
        "\n",
        "\n"
      ],
      "metadata": {
        "id": "lF8nZo7zd91I"
      }
    },
    {
      "cell_type": "code",
      "source": [
        "def konversiDesimal(angka, basis):\n",
        "  digit = \"0123456789ABCDEF\"\n",
        "\n",
        "  sisa = Stack()\n",
        "  while angka > 0:\n",
        "    modulo = angka % basis\n",
        "    sisa.push(modulo)\n",
        "    angka = angka // basis\n",
        "\n",
        "  # Keluarkan isi Stacknya\n",
        "  konversi = \"\"\n",
        "  while not sisa.is_empty():\n",
        "    konversi = konversi + digit[sisa.pop()]\n",
        "\n",
        "  return konversi"
      ],
      "metadata": {
        "id": "7dVUwdyLgC4a"
      },
      "execution_count": 14,
      "outputs": []
    },
    {
      "cell_type": "code",
      "source": [
        "desimal = 564213134\n",
        "konversiDesimal(desimal,16)"
      ],
      "metadata": {
        "colab": {
          "base_uri": "https://localhost:8080/",
          "height": 37
        },
        "id": "RAJJOiYDg3-Q",
        "outputId": "a00fa944-dcf1-4f4b-9c7b-cf93a5e32e43"
      },
      "execution_count": 15,
      "outputs": [
        {
          "output_type": "execute_result",
          "data": {
            "text/plain": [
              "'21A1358E'"
            ],
            "application/vnd.google.colaboratory.intrinsic+json": {
              "type": "string"
            }
          },
          "metadata": {},
          "execution_count": 15
        }
      ]
    },
    {
      "cell_type": "markdown",
      "source": [
        "# Queues"
      ],
      "metadata": {
        "id": "Jk5-qiEvQeuD"
      }
    },
    {
      "cell_type": "markdown",
      "source": [
        "## Membangun Class untuk Queues"
      ],
      "metadata": {
        "id": "UqA3USQRQkkR"
      }
    },
    {
      "cell_type": "code",
      "source": [
        "class Queue:\n",
        "  def __init__(self):\n",
        "    self.items = []\n",
        "\n",
        "  def enqueue(self, item):\n",
        "    return self.items.append(item)\n",
        "  \n",
        "  def dequeue(self):\n",
        "    return self.items.pop(0)\n",
        "\n",
        "  def first(self):\n",
        "    return self.items[0]\n",
        "  \n",
        "  def size(self):\n",
        "    return len(self.items)\n",
        "    \n",
        "  def is_empty(self):\n",
        "    return len(self.items) == 0"
      ],
      "metadata": {
        "id": "6yBwjcPzQgSP"
      },
      "execution_count": 16,
      "outputs": []
    },
    {
      "cell_type": "markdown",
      "source": [
        "## Contoh-Contoh:"
      ],
      "metadata": {
        "id": "pDHJkwT3qeQx"
      }
    },
    {
      "cell_type": "code",
      "source": [
        "q = Queue()\n",
        "\n",
        "q.is_empty()"
      ],
      "metadata": {
        "colab": {
          "base_uri": "https://localhost:8080/"
        },
        "id": "3qFKqnBVqjFY",
        "outputId": "503c9b83-db0c-4245-de1c-9d519ac2d10b"
      },
      "execution_count": 17,
      "outputs": [
        {
          "output_type": "execute_result",
          "data": {
            "text/plain": [
              "True"
            ]
          },
          "metadata": {},
          "execution_count": 17
        }
      ]
    },
    {
      "cell_type": "code",
      "source": [
        "q.enqueue(10)\n",
        "\n",
        "q.items"
      ],
      "metadata": {
        "colab": {
          "base_uri": "https://localhost:8080/"
        },
        "id": "JaCSF4SwqtxA",
        "outputId": "86d5eb77-535d-4dd3-f252-9de501f637ef"
      },
      "execution_count": 18,
      "outputs": [
        {
          "output_type": "execute_result",
          "data": {
            "text/plain": [
              "[10]"
            ]
          },
          "metadata": {},
          "execution_count": 18
        }
      ]
    },
    {
      "cell_type": "code",
      "source": [
        "q.enqueue(20)\n",
        "q.enqueue(30)\n",
        "q.enqueue(40)\n",
        "q.enqueue(50)\n",
        "\n",
        "q.items\n",
        "# <---------------"
      ],
      "metadata": {
        "colab": {
          "base_uri": "https://localhost:8080/"
        },
        "id": "IL6gxh1Sq5CV",
        "outputId": "2fc69eca-2ccc-452a-eb1d-9bd825179e0c"
      },
      "execution_count": 19,
      "outputs": [
        {
          "output_type": "execute_result",
          "data": {
            "text/plain": [
              "[10, 20, 30, 40, 50]"
            ]
          },
          "metadata": {},
          "execution_count": 19
        }
      ]
    },
    {
      "cell_type": "code",
      "source": [
        "q.dequeue()\n",
        "\n",
        "q.items"
      ],
      "metadata": {
        "colab": {
          "base_uri": "https://localhost:8080/"
        },
        "id": "62AzVnJ7sFb7",
        "outputId": "ce99d3ab-3105-4aa5-b15a-aae5b1a69e81"
      },
      "execution_count": 20,
      "outputs": [
        {
          "output_type": "execute_result",
          "data": {
            "text/plain": [
              "[20, 30, 40, 50]"
            ]
          },
          "metadata": {},
          "execution_count": 20
        }
      ]
    },
    {
      "cell_type": "code",
      "source": [
        "q.first()"
      ],
      "metadata": {
        "colab": {
          "base_uri": "https://localhost:8080/"
        },
        "id": "Zmccum3RsLFI",
        "outputId": "d87a57dc-14d4-4f0f-ba8d-989361c620c1"
      },
      "execution_count": 21,
      "outputs": [
        {
          "output_type": "execute_result",
          "data": {
            "text/plain": [
              "20"
            ]
          },
          "metadata": {},
          "execution_count": 21
        }
      ]
    },
    {
      "cell_type": "code",
      "source": [
        "q.size()"
      ],
      "metadata": {
        "colab": {
          "base_uri": "https://localhost:8080/"
        },
        "id": "VIz3xl7ytrNO",
        "outputId": "24d15db5-5aaa-4ae8-e99d-0e202c579f44"
      },
      "execution_count": 22,
      "outputs": [
        {
          "output_type": "execute_result",
          "data": {
            "text/plain": [
              "4"
            ]
          },
          "metadata": {},
          "execution_count": 22
        }
      ]
    },
    {
      "cell_type": "code",
      "source": [
        "q.enqueue(10)\n",
        "\n",
        "q.items"
      ],
      "metadata": {
        "colab": {
          "base_uri": "https://localhost:8080/"
        },
        "id": "1-1CGSUIttv7",
        "outputId": "f3b33442-bf34-4583-b229-adf2ab8cf14e"
      },
      "execution_count": 23,
      "outputs": [
        {
          "output_type": "execute_result",
          "data": {
            "text/plain": [
              "[20, 30, 40, 50, 10]"
            ]
          },
          "metadata": {},
          "execution_count": 23
        }
      ]
    },
    {
      "cell_type": "code",
      "source": [
        "q.dequeue()\n",
        "\n",
        "q.items"
      ],
      "metadata": {
        "colab": {
          "base_uri": "https://localhost:8080/"
        },
        "id": "Srfp4Wmet94v",
        "outputId": "247e8399-e64d-4c67-ae51-d334b2a48017"
      },
      "execution_count": 24,
      "outputs": [
        {
          "output_type": "execute_result",
          "data": {
            "text/plain": [
              "[30, 40, 50, 10]"
            ]
          },
          "metadata": {},
          "execution_count": 24
        }
      ]
    },
    {
      "cell_type": "markdown",
      "source": [
        "## Implementasi Queues: Simulasi Antrian Printer"
      ],
      "metadata": {
        "id": "XSDIoWDPQzsA"
      }
    },
    {
      "cell_type": "code",
      "source": [
        ""
      ],
      "metadata": {
        "id": "cQQymb8bQ52k"
      },
      "execution_count": 23,
      "outputs": []
    },
    {
      "cell_type": "markdown",
      "source": [
        "# LATIHAN\n",
        "\n"
      ],
      "metadata": {
        "id": "Q0FshEalhgYZ"
      }
    },
    {
      "cell_type": "code",
      "source": [
        ""
      ],
      "metadata": {
        "id": "Y_HkpS9Hhjd3"
      },
      "execution_count": 23,
      "outputs": []
    }
  ]
}