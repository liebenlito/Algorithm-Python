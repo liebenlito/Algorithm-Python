{
 "cells": [
  {
   "cell_type": "markdown",
   "metadata": {},
   "source": [
    "# Bekerja denga  List dan Tuples\n",
    "\n",
    "| Algoritma dan Pemrograman | Muhaza Liebenlito | 26 Maret 2020 |"
   ]
  },
  {
   "cell_type": "markdown",
   "metadata": {},
   "source": [
    "# Materi\n",
    "1. Bekerja dengan List:\n",
    "    * Looping pada element List\n",
    "    * Error yang sering terjadi\n",
    "    * Membuat List numerik\n",
    "    * Bekerja dengan sebagian elemen List\n",
    "    * Multidimensional List\n",
    "2. Tuples"
   ]
  },
  {
   "cell_type": "markdown",
   "metadata": {},
   "source": [
    "# Looping pada elemen List"
   ]
  },
  {
   "cell_type": "markdown",
   "metadata": {},
   "source": [
    "__Contoh 1:__ Misalkan kita memiliki daftar merk mobil. Kemudian kita ingin __print__ merk mobil tersebut satu persatu. Maka kode di Pythonnya adalah:"
   ]
  },
  {
   "cell_type": "code",
   "execution_count": 1,
   "metadata": {},
   "outputs": [
    {
     "name": "stdout",
     "output_type": "stream",
     "text": [
      "toyota\n",
      "honda\n",
      "BMW\n",
      "hyundai\n"
     ]
    }
   ],
   "source": [
    "mobil = ['toyota', 'honda', 'BMW', 'hyundai']    # (1)\n",
    "for i in mobil:                                  # (2)\n",
    "    print(i)                                     # (3)"
   ]
  },
  {
   "cell_type": "markdown",
   "metadata": {},
   "source": [
    "__Penjelasan:__ Kita mulai dengan mendefinisikan suatu variabel 'mobil' sebagai list pada (1). Kemudian pada (2), kita definisikan pengulangan __for__. Ini artinya \"masukan nilai-nilai yang ada pada elemen di List 'mobil' ke dalam variabel 'i'.\" Lalu pada (3) kita __print__ nilai yang terdapat pada variabel i (Catatan: Perhatikan __indentasinya__). Python melakukan pengulangan sampai elemen terakhir di List 'mobil'. Bahasa manusianya adalah \"Untuk setiap 'i' di 'mobil',  keluarkan nilai-nilai dari elemen-elemen di 'mobil'.\"  "
   ]
  },
  {
   "cell_type": "markdown",
   "metadata": {},
   "source": [
    "Kita juga bisa memodifikasi keluarannya dengan membentuk suatu kalimat dan menambahkan suatu variabel baru yang digunakan sebagai urutan pembelian. Seperti:"
   ]
  },
  {
   "cell_type": "code",
   "execution_count": 2,
   "metadata": {},
   "outputs": [
    {
     "name": "stdout",
     "output_type": "stream",
     "text": [
      "Pembelian ke 1 yaitu Toyota\n",
      "Pembelian ke 2 yaitu Honda\n",
      "Pembelian ke 3 yaitu Bmw\n",
      "Pembelian ke 4 yaitu Hyundai\n"
     ]
    }
   ],
   "source": [
    "angka = 1\n",
    "for i in mobil:\n",
    "    print(\"Pembelian ke \" + str(angka) + \" yaitu \" + i.title())\n",
    "    angka += 1 # artinya sama dengan angka = angka + 1"
   ]
  },
  {
   "cell_type": "markdown",
   "metadata": {},
   "source": [
    "__Perhatikan:__ Bagaimana jika indentasi pada variabel 'angka' sejajar dengan perintah __for__ ?"
   ]
  },
  {
   "cell_type": "code",
   "execution_count": 3,
   "metadata": {},
   "outputs": [
    {
     "name": "stdout",
     "output_type": "stream",
     "text": [
      "Pembelian ke 1 yaitu Toyota\n",
      "Pembelian ke 1 yaitu Honda\n",
      "Pembelian ke 1 yaitu Bmw\n",
      "Pembelian ke 1 yaitu Hyundai\n"
     ]
    }
   ],
   "source": [
    "angka = 1\n",
    "for i in mobil:\n",
    "    print(\"Pembelian ke \" + str(angka) + \" yaitu \" + i.title()) # nilai variabel angka tetap 1.\n",
    "angka += 1 # di sini nilai variabel angka adalah 2. "
   ]
  },
  {
   "cell_type": "markdown",
   "metadata": {},
   "source": [
    "Seperti yang terlihat pada output di atas, hal yang terjadi adalah variabel angka tidak masuk ke dalam pengulangan __for__. Sehingga variabel angka bernilai tetap 1."
   ]
  },
  {
   "cell_type": "markdown",
   "metadata": {},
   "source": [
    "# Error yang sering terjadi"
   ]
  },
  {
   "cell_type": "markdown",
   "metadata": {},
   "source": [
    "Python menggunakan indentasi untuk menentukan apakah baris kode yang satu saling berhubungan dengan baris kode lain yang berada diatasnya (istiliah ini disebut __indented block__). Biasanya error yang sering terjadi adalah __indentation error__. Perhatikan contoh berikut:"
   ]
  },
  {
   "cell_type": "code",
   "execution_count": 4,
   "metadata": {},
   "outputs": [
    {
     "ename": "IndentationError",
     "evalue": "expected an indented block (<ipython-input-4-4c1313d4e377>, line 3)",
     "output_type": "error",
     "traceback": [
      "\u001b[1;36m  File \u001b[1;32m\"<ipython-input-4-4c1313d4e377>\"\u001b[1;36m, line \u001b[1;32m3\u001b[0m\n\u001b[1;33m    print(i)                                         # (3)\u001b[0m\n\u001b[1;37m        ^\u001b[0m\n\u001b[1;31mIndentationError\u001b[0m\u001b[1;31m:\u001b[0m expected an indented block\n"
     ]
    }
   ],
   "source": [
    "mobil = ['toyota', 'honda', 'BMW', 'hyundai']    # (1)\n",
    "for i in mobil:                                  # (2)\n",
    "print(i)                                         # (3)"
   ]
  },
  {
   "cell_type": "markdown",
   "metadata": {},
   "source": [
    "__Penjelasan:__ Perintah __for__ pada baris (2) berharap melakukan suatu perintah yang terletak pada berikutnya. Namun, karena baris (3) indentasinya sejajar pada baris (2) (artinya tidak berada dalam satu blok), maka tidak ada hubungan antara baris (2) dan (3). Sehingga terjadi __IndentationError__. "
   ]
  },
  {
   "cell_type": "markdown",
   "metadata": {},
   "source": [
    "Error yang sering terjadi berikutnya adalah lupa tanda kolon ':' (dibaca titik dua) pada akhir perintah __for__. Jika hal ini terjadi maka akan terjadi __SyntaxError__, seperti:"
   ]
  },
  {
   "cell_type": "code",
   "execution_count": 5,
   "metadata": {},
   "outputs": [
    {
     "ename": "SyntaxError",
     "evalue": "invalid syntax (<ipython-input-5-0cf7988c6e83>, line 2)",
     "output_type": "error",
     "traceback": [
      "\u001b[1;36m  File \u001b[1;32m\"<ipython-input-5-0cf7988c6e83>\"\u001b[1;36m, line \u001b[1;32m2\u001b[0m\n\u001b[1;33m    for i in mobil                                   # (2)\u001b[0m\n\u001b[1;37m                                                          ^\u001b[0m\n\u001b[1;31mSyntaxError\u001b[0m\u001b[1;31m:\u001b[0m invalid syntax\n"
     ]
    }
   ],
   "source": [
    "mobil = ['toyota', 'honda', 'BMW', 'hyundai']    # (1)\n",
    "for i in mobil                                   # (2)\n",
    "print(i)                                         # (3)"
   ]
  },
  {
   "cell_type": "markdown",
   "metadata": {},
   "source": [
    "# Membuat List numerik"
   ]
  },
  {
   "cell_type": "markdown",
   "metadata": {},
   "source": [
    "Sering kali kita membutuhkan List yang berisi bilangan yang berurutan. Kita bisa melakukannya dengan menggunakan fungsi __range()__, seperti:"
   ]
  },
  {
   "cell_type": "code",
   "execution_count": 6,
   "metadata": {
    "scrolled": true
   },
   "outputs": [
    {
     "name": "stdout",
     "output_type": "stream",
     "text": [
      "1\n",
      "2\n",
      "3\n",
      "4\n"
     ]
    }
   ],
   "source": [
    "for nilai in range(1,5): # (1)\n",
    "    print(nilai)         # (2)"
   ]
  },
  {
   "cell_type": "markdown",
   "metadata": {},
   "source": [
    "__Penjelasan:__ Pada baris (1), __range(1,5)__ berarti membuat urutan angka dari 1 sampai dengan 4 yang disimpan di variabel 'nilai'. Kemudian lakukan perintah __print__ pada baris (2). Perlu diperhatikan, __range(1,_n_)__ berarti akan menghasilkan angka yang berurutan dari 1 sampai dengan _n-1_."
   ]
  },
  {
   "cell_type": "markdown",
   "metadata": {},
   "source": [
    "Contoh lainnya menggunakan fungsi __range()__, yaitu:"
   ]
  },
  {
   "cell_type": "code",
   "execution_count": 7,
   "metadata": {},
   "outputs": [
    {
     "name": "stdout",
     "output_type": "stream",
     "text": [
      "0\n",
      "1\n",
      "2\n",
      "3\n",
      "4\n"
     ]
    }
   ],
   "source": [
    "for nilai in range(5):\n",
    "    print(nilai)"
   ]
  },
  {
   "cell_type": "markdown",
   "metadata": {},
   "source": [
    "Kita bisa membuat suatu list yang berisi urutan angka dengan bantuan fungsi __range()__, seperti:"
   ]
  },
  {
   "cell_type": "code",
   "execution_count": 8,
   "metadata": {},
   "outputs": [
    {
     "name": "stdout",
     "output_type": "stream",
     "text": [
      "[1, 2, 3, 4]\n"
     ]
    }
   ],
   "source": [
    "angka = list(range(1,5))\n",
    "print(angka)"
   ]
  },
  {
   "cell_type": "markdown",
   "metadata": {},
   "source": [
    "__Contoh 2:__ Kita tahu bahwa dalam sistem bilangan bulat positif terdapat bilangan ganjil dan genap. Urutan bilangan ganjil dan genap selalu selang-seling, misalnya urutan pertama adalah bilangan ganjil maka urutan keduanya adalah bilangan genap. Kita dapat membuat List yang berisi urutan bilangan genap dengan fungsi __range(awal, akhir, jeda)__. Pada fungsi __range(a, b, jeda)__ terdapat parameter __awal__ yang menunjukan angka awal, parameter __akhir__ menunjukan angka terakhir $- 1$, dan parameter __jeda__ menunjukan \"dilongkap berapa kali\", seperti kode berikut:     "
   ]
  },
  {
   "cell_type": "code",
   "execution_count": 9,
   "metadata": {},
   "outputs": [
    {
     "name": "stdout",
     "output_type": "stream",
     "text": [
      "[2, 4, 6, 8, 10, 12, 14, 16, 18]\n"
     ]
    }
   ],
   "source": [
    "angka = list(range(2,20, 2)) # (1)\n",
    "print(angka)                 # (2)"
   ]
  },
  {
   "cell_type": "markdown",
   "metadata": {},
   "source": [
    "Kita juga bisa membuat List yang berisi urutan angka pangkat 2 (angka $= a^2$, dimana $a$ adalah bilangan bulat)"
   ]
  },
  {
   "cell_type": "code",
   "execution_count": 10,
   "metadata": {},
   "outputs": [
    {
     "name": "stdout",
     "output_type": "stream",
     "text": [
      "[100, 81, 64, 49, 36, 25, 16, 9, 4, 1, 0, 1, 4, 9, 16, 25, 36, 49, 64, 81]\n"
     ]
    }
   ],
   "source": [
    "angka = []\n",
    "for nilai in range(-10,10):\n",
    "    pangkat = nilai**2\n",
    "    angka.append(pangkat)\n",
    "print(angka)"
   ]
  },
  {
   "cell_type": "markdown",
   "metadata": {},
   "source": [
    "atau dapat menggunakan _komprehensif List_ (membuat list hanya menggunakan satu baris kode), "
   ]
  },
  {
   "cell_type": "code",
   "execution_count": 11,
   "metadata": {},
   "outputs": [
    {
     "name": "stdout",
     "output_type": "stream",
     "text": [
      "[100, 81, 64, 49, 36, 25, 16, 9, 4, 1, 0, 1, 4, 9, 16, 25, 36, 49, 64, 81]\n"
     ]
    }
   ],
   "source": [
    "angka = [nilai**2 for nilai in range(-10,10)] # komprehensif List\n",
    "print(angka)"
   ]
  },
  {
   "cell_type": "markdown",
   "metadata": {},
   "source": [
    "Ketika kita membuat suatu List yang berisi angka, kita juga bisa mencari nilai terkecil dengn fungsi __min()__, terbesar dengan __max()__, dan jumlah dengan __max()__ dari setiap elemen-elemen dari List tersebut."
   ]
  },
  {
   "cell_type": "code",
   "execution_count": 12,
   "metadata": {},
   "outputs": [
    {
     "name": "stdout",
     "output_type": "stream",
     "text": [
      "Nilai terkecil: 1\n",
      "Nilai terbesar: 383\n",
      "Jumlah: 1990\n"
     ]
    }
   ],
   "source": [
    "data = [283, 34, 21, 43, 65, 2, 12, 12, 2, 124, \\\n",
    "        1, 203, 383, 124, 231, 12, 64, 74, 73, 98, 83, 3, 43]\n",
    "nilai_min = min(data)\n",
    "nilai_max = max(data)\n",
    "jumlah = sum(data)\n",
    "print(\"Nilai terkecil: \" + str(nilai_min))\n",
    "print(\"Nilai terbesar: \" + str(nilai_max))\n",
    "print(\"Jumlah: \" + str(jumlah))"
   ]
  },
  {
   "cell_type": "markdown",
   "metadata": {},
   "source": [
    "atau kode yang lebih \"compact\" nya:"
   ]
  },
  {
   "cell_type": "code",
   "execution_count": 13,
   "metadata": {},
   "outputs": [
    {
     "name": "stdout",
     "output_type": "stream",
     "text": [
      "Nilai terkecil: 1\n",
      "Nilai terbesar: 383\n",
      "Jumlah: 1990\n"
     ]
    }
   ],
   "source": [
    "data = [283, 34, 21, 43, 65, 2, 12, 12, 2, 124, \\\n",
    "        1, 203, 383, 124, 231, 12, 64, 74, 73, 98, 83, 3, 43]\n",
    "print(\"Nilai terkecil: {}\".format(min(data)))\n",
    "print(\"Nilai terbesar: {}\".format(max(data)))\n",
    "print(\"Jumlah: {}\".format(sum(data)))"
   ]
  },
  {
   "cell_type": "markdown",
   "metadata": {},
   "source": [
    "# Bekerja dengan sebagian elemen List"
   ]
  },
  {
   "cell_type": "markdown",
   "metadata": {},
   "source": [
    "Terkadang kita ingin bekerja dengan sebagian elemen saja. Oleh karena itu, kita dapat mengakses sebagian elemen dari suatu List atau yang disebut dengan istilah __slice__, seperti contoh berikut: "
   ]
  },
  {
   "cell_type": "code",
   "execution_count": 14,
   "metadata": {},
   "outputs": [
    {
     "name": "stdout",
     "output_type": "stream",
     "text": [
      "['toyota', 'honda', 'BMW']\n"
     ]
    }
   ],
   "source": [
    "mobil = ['toyota', 'honda', 'BMW', 'daihatsu', 'ferrari'] # (1)\n",
    "print(mobil[0:3]) # (2) slice elemen ke 0 sampai ke 2"
   ]
  },
  {
   "cell_type": "markdown",
   "metadata": {},
   "source": [
    "__Penjelasan:__ Dari kode di atas dapat diartikan kita ingin memotong nilai elemen ke 0 sampai ke 2 (ingat, indeks di Python di awali dengan indeks ke 0) dari List <code>mobil</code> yaitu toyota, honda, dan BMW. Perhatikan bahwa hasil dari _slice_ adalah List juga."
   ]
  },
  {
   "cell_type": "markdown",
   "metadata": {},
   "source": [
    "Di dalam _slicing_ List, kita juga bisa memotong List tanpa harus menginput indeks awal dan/atau indeks akhirnya. Contoh:  "
   ]
  },
  {
   "cell_type": "code",
   "execution_count": 15,
   "metadata": {},
   "outputs": [
    {
     "name": "stdout",
     "output_type": "stream",
     "text": [
      "Output mobil1:  ['toyota', 'honda']\n",
      "Output mobil2:  ['BMW', 'daihatsu', 'ferrari']\n",
      "Output mobil3:  ['toyota', 'honda', 'BMW', 'daihatsu', 'ferrari']\n"
     ]
    }
   ],
   "source": [
    "mobil = ['toyota', 'honda', 'BMW', 'daihatsu', 'ferrari']\n",
    "mobil1 = mobil[:2] # slice dari elemen awal sampai ke 1\n",
    "mobil2 = mobil[2:] # slice dari elemen ke 2 sampai elemen terakhir\n",
    "mobil3 = mobil[:] # slice semua elemen\n",
    "print(\"Output mobil1: \",mobil1)\n",
    "print(\"Output mobil2: \",mobil2)\n",
    "print(\"Output mobil3: \",mobil3)"
   ]
  },
  {
   "cell_type": "markdown",
   "metadata": {},
   "source": [
    "Misalkan kita ingin memisahkan atau mengkategorikan dari List 'mobil' di atas, apakah mobil tersebut buatan jepang atau eropa. Cara menyelesaikannya adalah:"
   ]
  },
  {
   "cell_type": "code",
   "execution_count": 16,
   "metadata": {},
   "outputs": [
    {
     "name": "stdout",
     "output_type": "stream",
     "text": [
      "Mobil Jepang:  ['toyota', 'honda', 'daihatsu']\n",
      "Mobil Eropa:  ['BMW', 'ferrari']\n"
     ]
    }
   ],
   "source": [
    "mobil = ['toyota', 'honda', 'BMW', 'daihatsu', 'ferrari']\n",
    "mobil_jepang = mobil[0:2] \n",
    "mobil_jepang.append(mobil[3])\n",
    "mobil_eropa = []\n",
    "mobil_eropa.append(mobil[2])\n",
    "mobil_eropa.append(mobil[4])\n",
    "print(\"Mobil Jepang: \", mobil_jepang)\n",
    "print(\"Mobil Eropa: \", mobil_eropa)"
   ]
  },
  {
   "cell_type": "markdown",
   "metadata": {},
   "source": [
    "# Multidimensional List"
   ]
  },
  {
   "cell_type": "markdown",
   "metadata": {},
   "source": [
    "Misalkan kita punya List di dalam List atau dapat disebut __multidimensional List__ (lebih mudahnya, dapat diilustrasikan sebagai matriks), <code>mobil = [['toyota', 'honda', 'daihatsu'], ['BMW',  'ferrari']]</code>. Ini berarti multidimensional List <code>mobil</code> memiliki dua buah List yaitu List dengan indeks ke 0 dan List dengan indeks ke 1. Jika kita dapat menerapkan semua hal yang telah kita pelajari tentang List dengan sedikit modifikasi, seperti:"
   ]
  },
  {
   "cell_type": "code",
   "execution_count": 17,
   "metadata": {},
   "outputs": [
    {
     "name": "stdout",
     "output_type": "stream",
     "text": [
      "['toyota', 'honda', 'daihatsu']\n",
      "toyota\n",
      "['toyota', 'honda']\n"
     ]
    }
   ],
   "source": [
    "mobil = [['toyota', 'honda', 'daihatsu'], ['BMW',  'ferrari']]\n",
    "print(mobil[0]) # (1) \n",
    "print(mobil[0][0]) # (2) \n",
    "print(mobil[0][:2]) # (3)"
   ]
  },
  {
   "cell_type": "markdown",
   "metadata": {},
   "source": [
    "__Penjelasan:__ Pada kode baris (1), menampilkan nilai List ke 0 dari List dua dimensi <code>mobil</code>. Untuk mengkakses List ke 0 kemudian akses elemen ke 0 dari List ke 0 dapat menggunakan kode di (2). Kode di baris (3) digunakan untuk slice List ke 0, mulai dari elemen pertama sampai dengan ke 1.   "
   ]
  },
  {
   "cell_type": "markdown",
   "metadata": {},
   "source": [
    "Untuk menambahkan elemen pada multidimensional List dapat menggunakan <code>append</code> atau cara yang telah kita pelajari sebelumnya, seperti pada kode di bawah ini:"
   ]
  },
  {
   "cell_type": "code",
   "execution_count": 18,
   "metadata": {},
   "outputs": [
    {
     "name": "stdout",
     "output_type": "stream",
     "text": [
      "[['toyota', 'honda', 'daihatsu', 'suzuki'], ['BMW', 'ferrari', 'jaguar']]\n"
     ]
    }
   ],
   "source": [
    "mobil = [['toyota', 'honda', 'daihatsu'], ['BMW',  'ferrari']]\n",
    "mobil[0].append('suzuki')\n",
    "mobil[1].append('jaguar')\n",
    "print(mobil)"
   ]
  },
  {
   "cell_type": "markdown",
   "metadata": {},
   "source": [
    "Sebelumnya kita juga telah mempelajari bagaimana cara menghapus elemen dari List yaitu dengan perintah <code>del</code>, metode <code>pop</code> atau metode <code>remove</code>. Dengan cara yang sama, kita juga bisa mengimplementasikan cara tersebut untuk menghapus suatu elemen dari multidimensional List, seperti: "
   ]
  },
  {
   "cell_type": "code",
   "execution_count": 19,
   "metadata": {},
   "outputs": [
    {
     "name": "stdout",
     "output_type": "stream",
     "text": [
      "List yang terhapus:  ['BMW', 'ferrari']\n",
      "List sekarang:  [['toyota', 'honda', 'daihatsu']]\n"
     ]
    }
   ],
   "source": [
    "mobil = [['toyota', 'honda', 'daihatsu'], ['BMW',  'ferrari']]\n",
    "pop_mobil = mobil.pop()\n",
    "print(\"List yang terhapus: \", pop_mobil)\n",
    "print(\"List sekarang: \", mobil)"
   ]
  },
  {
   "cell_type": "markdown",
   "metadata": {},
   "source": [
    "__Perhatikan:__ Jika kita mengimplementasikan metode <code>pop</code> tanpa parameter maka ini akan menghapus List ke 1 dari multidimensional List <code>mobil</code>. Jika kita hanya ingin menghapus elemen ke 0 dari List ke 0 maka dapat dilakukan dengan cara:"
   ]
  },
  {
   "cell_type": "code",
   "execution_count": 20,
   "metadata": {},
   "outputs": [
    {
     "name": "stdout",
     "output_type": "stream",
     "text": [
      "[['honda', 'daihatsu'], ['BMW', 'ferrari']]\n"
     ]
    }
   ],
   "source": [
    "mobil = [['toyota', 'honda', 'daihatsu'], ['BMW',  'ferrari']]\n",
    "mobil[0].pop(0)\n",
    "print(mobil)"
   ]
  },
  {
   "cell_type": "markdown",
   "metadata": {},
   "source": [
    "Misalkan kita ingin menampilkan output tiap-tiap elemen pada multidimensional List, maka kita dapat melakukannya dengan cara:"
   ]
  },
  {
   "cell_type": "code",
   "execution_count": 21,
   "metadata": {},
   "outputs": [
    {
     "name": "stdout",
     "output_type": "stream",
     "text": [
      "toyota\n",
      "honda\n",
      "daihatsu\n",
      "BMW\n",
      "ferrari\n"
     ]
    }
   ],
   "source": [
    "mobil = [['toyota', 'honda', 'daihatsu'], ['BMW',  'ferrari']]\n",
    "\n",
    "for i in range(0, len(mobil)): # (1)\n",
    "    for j in mobil[i]: # (2)\n",
    "        print(j)"
   ]
  },
  {
   "cell_type": "markdown",
   "metadata": {},
   "source": [
    "__Penjelasan:__ Kode baris (1) kita ingin melihat banyaknya List yang ada di multidimensional List <code>mobil</code> menggunakan perintah <code>len()</code>. Kemudian untuk setiap <code>i</code> akan diisi nilai 0 sampai dengan <code>len(mobil)-1</code>. Pada baris (2), untuk setiap <code>j</code> akan diisi nilai dari masing-masing elemen yang terdapat di <code>mobil[0]</code> dan <code>mobil[1]</code> berturut-turut.     "
   ]
  },
  {
   "cell_type": "markdown",
   "metadata": {},
   "source": [
    "# Tuples"
   ]
  },
  {
   "cell_type": "markdown",
   "metadata": {},
   "source": [
    "Perbedaan antara struktur data List dan Tuple adalah jika di dalam List elemen-elemennya dapat dimodifikasi nilainya maka di Tuple tidak. Oleh sebab itu, Tuple dapat disebut juga __immutable List__. Biasanya Tuple digunakan untuk mendefinisikan ukuran suatu array atau matriks (seperti yang terdapat di dalam modul _Numpy_). Cara mendefinisikan Tuple yaitu:"
   ]
  },
  {
   "cell_type": "code",
   "execution_count": 23,
   "metadata": {},
   "outputs": [
    {
     "name": "stdout",
     "output_type": "stream",
     "text": [
      "m =  1920\n",
      "n =  1080\n"
     ]
    }
   ],
   "source": [
    "ukuran_matriks = (1920, 1080) # m x n\n",
    "print(\"m = \", ukuran_matriks[0])\n",
    "print(\"n = \", ukuran_matriks[1])"
   ]
  },
  {
   "cell_type": "markdown",
   "metadata": {},
   "source": [
    "Misalkan kita ingin mengganti/memodifikasi nilai $m$ dengan 1000, maka kita akan mendapatkan __TypeError__, seperti:"
   ]
  },
  {
   "cell_type": "code",
   "execution_count": 24,
   "metadata": {},
   "outputs": [
    {
     "ename": "TypeError",
     "evalue": "'tuple' object does not support item assignment",
     "output_type": "error",
     "traceback": [
      "\u001b[1;31m---------------------------------------------------------------------------\u001b[0m",
      "\u001b[1;31mTypeError\u001b[0m                                 Traceback (most recent call last)",
      "\u001b[1;32m<ipython-input-24-a1b8f73c4f8b>\u001b[0m in \u001b[0;36m<module>\u001b[1;34m\u001b[0m\n\u001b[0;32m      1\u001b[0m \u001b[0mukuran_matriks\u001b[0m \u001b[1;33m=\u001b[0m \u001b[1;33m(\u001b[0m\u001b[1;36m1920\u001b[0m\u001b[1;33m,\u001b[0m \u001b[1;36m1080\u001b[0m\u001b[1;33m)\u001b[0m\u001b[1;33m\u001b[0m\u001b[1;33m\u001b[0m\u001b[0m\n\u001b[1;32m----> 2\u001b[1;33m \u001b[0mukuran_matriks\u001b[0m\u001b[1;33m[\u001b[0m\u001b[1;36m0\u001b[0m\u001b[1;33m]\u001b[0m \u001b[1;33m=\u001b[0m \u001b[1;36m1000\u001b[0m \u001b[1;31m# modifikasi nilai m\u001b[0m\u001b[1;33m\u001b[0m\u001b[1;33m\u001b[0m\u001b[0m\n\u001b[0m\u001b[0;32m      3\u001b[0m \u001b[0mprint\u001b[0m\u001b[1;33m(\u001b[0m\u001b[1;34m\"m = \"\u001b[0m\u001b[1;33m,\u001b[0m \u001b[0mukuran_matriks\u001b[0m\u001b[1;33m[\u001b[0m\u001b[1;36m0\u001b[0m\u001b[1;33m]\u001b[0m\u001b[1;33m)\u001b[0m\u001b[1;33m\u001b[0m\u001b[1;33m\u001b[0m\u001b[0m\n\u001b[0;32m      4\u001b[0m \u001b[0mprint\u001b[0m\u001b[1;33m(\u001b[0m\u001b[1;34m\"n = \"\u001b[0m\u001b[1;33m,\u001b[0m \u001b[0mukuran_matriks\u001b[0m\u001b[1;33m[\u001b[0m\u001b[1;36m1\u001b[0m\u001b[1;33m]\u001b[0m\u001b[1;33m)\u001b[0m\u001b[1;33m\u001b[0m\u001b[1;33m\u001b[0m\u001b[0m\n",
      "\u001b[1;31mTypeError\u001b[0m: 'tuple' object does not support item assignment"
     ]
    }
   ],
   "source": [
    "ukuran_matriks = (1920, 1080) # deklasrasi Tuple\n",
    "ukuran_matriks[0] = 1000 # modifikasi nilai m\n",
    "print(\"m = \", ukuran_matriks[0])\n",
    "print(\"n = \", ukuran_matriks[1])"
   ]
  },
  {
   "cell_type": "markdown",
   "metadata": {},
   "source": [
    "Walaupun kita tidak dapat memodifikasi elemen di Tuple, kita dapat menuliskan nilai baru ke Tuple yang kita buat. Ini berarti, kita harus memodifikasi semua nilai di elemen Tuple tersebut. Contohnya: "
   ]
  },
  {
   "cell_type": "code",
   "execution_count": 25,
   "metadata": {},
   "outputs": [
    {
     "name": "stdout",
     "output_type": "stream",
     "text": [
      "(1000, 1080)\n"
     ]
    }
   ],
   "source": [
    "ukuran_matriks = (1920, 1080)\n",
    "ukuran_matriks = (1000, 1080)\n",
    "print(ukuran_matriks)"
   ]
  }
 ],
 "metadata": {
  "kernelspec": {
   "display_name": "Python 3",
   "language": "python",
   "name": "python3"
  },
  "language_info": {
   "codemirror_mode": {
    "name": "ipython",
    "version": 3
   },
   "file_extension": ".py",
   "mimetype": "text/x-python",
   "name": "python",
   "nbconvert_exporter": "python",
   "pygments_lexer": "ipython3",
   "version": "3.7.1"
  }
 },
 "nbformat": 4,
 "nbformat_minor": 2
}
