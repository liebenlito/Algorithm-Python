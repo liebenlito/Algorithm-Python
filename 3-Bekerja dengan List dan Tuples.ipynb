{
  "nbformat": 4,
  "nbformat_minor": 0,
  "metadata": {
    "kernelspec": {
      "display_name": "Python 3",
      "language": "python",
      "name": "python3"
    },
    "language_info": {
      "codemirror_mode": {
        "name": "ipython",
        "version": 3
      },
      "file_extension": ".py",
      "mimetype": "text/x-python",
      "name": "python",
      "nbconvert_exporter": "python",
      "pygments_lexer": "ipython3",
      "version": "3.7.1"
    },
    "colab": {
      "name": "3-Bekerja dengan List dan Tuples.ipynb",
      "provenance": []
    }
  },
  "cells": [
    {
      "cell_type": "markdown",
      "metadata": {
        "id": "a49xlMSJQv6P"
      },
      "source": [
        "# Bekerja denga  List dan Tuples\n",
        "\n",
        "| Algoritma dan Pemrograman | Muhaza Liebenlito | 2021 |"
      ]
    },
    {
      "cell_type": "markdown",
      "metadata": {
        "id": "GmVrsufqQv6f"
      },
      "source": [
        "# Materi\n",
        "1. Bekerja dengan List:\n",
        "    * Looping pada element List\n",
        "    * Error yang sering terjadi\n",
        "    * Membuat List numerik\n",
        "    * Bekerja dengan sebagian elemen List\n",
        "    * Multidimensional List\n",
        "2. Tuples"
      ]
    },
    {
      "cell_type": "markdown",
      "metadata": {
        "id": "bcsPJmFsQv6g"
      },
      "source": [
        "# Looping pada elemen List"
      ]
    },
    {
      "cell_type": "markdown",
      "metadata": {
        "id": "G3Kuvr4EQv6g"
      },
      "source": [
        "__Contoh 1:__ Misalkan kita memiliki daftar merk mobil. Kemudian kita ingin __print__ merk mobil tersebut satu persatu. Maka kode di Pythonnya adalah:"
      ]
    },
    {
      "cell_type": "code",
      "metadata": {
        "id": "vLlAQ0xNQv6h",
        "outputId": "6f35cd96-6a89-47d2-f5b5-e5cb3ced58d8"
      },
      "source": [
        "mobil = ['toyota', 'honda', 'BMW', 'hyundai']    # (1)\n",
        "for i in mobil:                                  # (2)\n",
        "    print(i)                                     # (3)"
      ],
      "execution_count": null,
      "outputs": [
        {
          "output_type": "stream",
          "text": [
            "toyota\n",
            "honda\n",
            "BMW\n",
            "hyundai\n"
          ],
          "name": "stdout"
        }
      ]
    },
    {
      "cell_type": "markdown",
      "metadata": {
        "id": "nQFetyIiQv6i"
      },
      "source": [
        "__Penjelasan:__ Kita mulai dengan mendefinisikan suatu variabel 'mobil' sebagai list pada (1). Kemudian pada (2), kita definisikan pengulangan __for__. Ini artinya \"masukan nilai-nilai yang ada pada elemen di List 'mobil' ke dalam variabel 'i'.\" Lalu pada (3) kita __print__ nilai yang terdapat pada variabel i (Catatan: Perhatikan __indentasinya__). Python melakukan pengulangan sampai elemen terakhir di List 'mobil'. Bahasa manusianya adalah \"Untuk setiap 'i' di 'mobil',  keluarkan nilai-nilai dari elemen-elemen di 'mobil'.\"  "
      ]
    },
    {
      "cell_type": "markdown",
      "metadata": {
        "id": "VzLly_-RQv6j"
      },
      "source": [
        "Kita juga bisa memodifikasi keluarannya dengan membentuk suatu kalimat dan menambahkan suatu variabel baru yang digunakan sebagai urutan pembelian. Seperti:"
      ]
    },
    {
      "cell_type": "code",
      "metadata": {
        "id": "wFh65n71Qv6j",
        "outputId": "ae3b1e09-8fb8-452a-f028-88efbe4c91c8"
      },
      "source": [
        "angka = 1\n",
        "for i in mobil:\n",
        "    print(\"Pembelian ke \" + str(angka) + \" yaitu \" + i.title())\n",
        "    angka += 1 # artinya sama dengan angka = angka + 1"
      ],
      "execution_count": null,
      "outputs": [
        {
          "output_type": "stream",
          "text": [
            "Pembelian ke 1 yaitu Toyota\n",
            "Pembelian ke 2 yaitu Honda\n",
            "Pembelian ke 3 yaitu Bmw\n",
            "Pembelian ke 4 yaitu Hyundai\n"
          ],
          "name": "stdout"
        }
      ]
    },
    {
      "cell_type": "markdown",
      "metadata": {
        "id": "X_TeWKmdQv6k"
      },
      "source": [
        "__Perhatikan:__ Bagaimana jika indentasi pada variabel 'angka' sejajar dengan perintah __for__ ?"
      ]
    },
    {
      "cell_type": "code",
      "metadata": {
        "id": "56K5CvbTQv6l",
        "outputId": "34b5aa4c-6028-4114-a7fd-003c99cc3ce8"
      },
      "source": [
        "angka = 1\n",
        "for i in mobil:\n",
        "    print(\"Pembelian ke \" + str(angka) + \" yaitu \" + i.title()) # nilai variabel angka tetap 1.\n",
        "angka += 1 # di sini nilai variabel angka adalah 2. "
      ],
      "execution_count": null,
      "outputs": [
        {
          "output_type": "stream",
          "text": [
            "Pembelian ke 1 yaitu Toyota\n",
            "Pembelian ke 1 yaitu Honda\n",
            "Pembelian ke 1 yaitu Bmw\n",
            "Pembelian ke 1 yaitu Hyundai\n"
          ],
          "name": "stdout"
        }
      ]
    },
    {
      "cell_type": "markdown",
      "metadata": {
        "id": "IrLTtErQQv6m"
      },
      "source": [
        "Seperti yang terlihat pada output di atas, hal yang terjadi adalah variabel angka tidak masuk ke dalam pengulangan __for__. Sehingga variabel angka bernilai tetap 1."
      ]
    },
    {
      "cell_type": "markdown",
      "metadata": {
        "id": "ubwjCpjiQv6m"
      },
      "source": [
        "## Error yang sering terjadi"
      ]
    },
    {
      "cell_type": "markdown",
      "metadata": {
        "id": "OS64GvPqQv6n"
      },
      "source": [
        "Python menggunakan indentasi untuk menentukan apakah baris kode yang satu saling berhubungan dengan baris kode lain yang berada diatasnya (istiliah ini disebut __indented block__). Biasanya error yang sering terjadi adalah __indentation error__. Perhatikan contoh berikut:"
      ]
    },
    {
      "cell_type": "code",
      "metadata": {
        "id": "58oLzPotQv6n",
        "outputId": "b04c6a2d-66ec-43c8-a1e1-e182471b00f3"
      },
      "source": [
        "mobil = ['toyota', 'honda', 'BMW', 'hyundai']    # (1)\n",
        "for i in mobil:                                  # (2)\n",
        "print(i)                                         # (3)"
      ],
      "execution_count": null,
      "outputs": [
        {
          "output_type": "error",
          "ename": "IndentationError",
          "evalue": "expected an indented block (<ipython-input-4-4c1313d4e377>, line 3)",
          "traceback": [
            "\u001b[1;36m  File \u001b[1;32m\"<ipython-input-4-4c1313d4e377>\"\u001b[1;36m, line \u001b[1;32m3\u001b[0m\n\u001b[1;33m    print(i)                                         # (3)\u001b[0m\n\u001b[1;37m        ^\u001b[0m\n\u001b[1;31mIndentationError\u001b[0m\u001b[1;31m:\u001b[0m expected an indented block\n"
          ]
        }
      ]
    },
    {
      "cell_type": "markdown",
      "metadata": {
        "id": "wPnTMK8QQv6o"
      },
      "source": [
        "__Penjelasan:__ Perintah __for__ pada baris (2) berharap melakukan suatu perintah yang terletak pada berikutnya. Namun, karena baris (3) indentasinya sejajar pada baris (2) (artinya tidak berada dalam satu blok), maka tidak ada hubungan antara baris (2) dan (3). Sehingga terjadi __IndentationError__. "
      ]
    },
    {
      "cell_type": "markdown",
      "metadata": {
        "id": "lb_oWFJOQv6o"
      },
      "source": [
        "Error yang sering terjadi berikutnya adalah lupa tanda kolon ':' (dibaca titik dua) pada akhir perintah __for__. Jika hal ini terjadi maka akan terjadi __SyntaxError__, seperti:"
      ]
    },
    {
      "cell_type": "code",
      "metadata": {
        "id": "oTh5bFEcQv6p",
        "outputId": "03461a8d-5f7f-4642-f5c7-63f5b90f7b67"
      },
      "source": [
        "mobil = ['toyota', 'honda', 'BMW', 'hyundai']    # (1)\n",
        "for i in mobil                                   # (2)\n",
        "print(i)                                         # (3)"
      ],
      "execution_count": null,
      "outputs": [
        {
          "output_type": "error",
          "ename": "SyntaxError",
          "evalue": "invalid syntax (<ipython-input-5-0cf7988c6e83>, line 2)",
          "traceback": [
            "\u001b[1;36m  File \u001b[1;32m\"<ipython-input-5-0cf7988c6e83>\"\u001b[1;36m, line \u001b[1;32m2\u001b[0m\n\u001b[1;33m    for i in mobil                                   # (2)\u001b[0m\n\u001b[1;37m                                                          ^\u001b[0m\n\u001b[1;31mSyntaxError\u001b[0m\u001b[1;31m:\u001b[0m invalid syntax\n"
          ]
        }
      ]
    },
    {
      "cell_type": "markdown",
      "metadata": {
        "id": "HAzquhlIQv6r"
      },
      "source": [
        "# Membuat List numerik"
      ]
    },
    {
      "cell_type": "markdown",
      "metadata": {
        "id": "7ghr8MHoQv6r"
      },
      "source": [
        "Sering kali kita membutuhkan List yang berisi bilangan yang berurutan. Kita bisa melakukannya dengan menggunakan fungsi __range()__, seperti:"
      ]
    },
    {
      "cell_type": "code",
      "metadata": {
        "scrolled": true,
        "id": "6NYU1ODXQv6s",
        "outputId": "81cd15ae-0045-48dc-8eba-6027368f04f6"
      },
      "source": [
        "for nilai in range(1,5): # (1)\n",
        "    print(nilai)         # (2)"
      ],
      "execution_count": null,
      "outputs": [
        {
          "output_type": "stream",
          "text": [
            "1\n",
            "2\n",
            "3\n",
            "4\n"
          ],
          "name": "stdout"
        }
      ]
    },
    {
      "cell_type": "markdown",
      "metadata": {
        "id": "Ll3seumrQv6s"
      },
      "source": [
        "__Penjelasan:__ Pada baris (1), __range(1,5)__ berarti membuat urutan angka dari 1 sampai dengan 4 yang disimpan di variabel 'nilai'. Kemudian lakukan perintah __print__ pada baris (2). Perlu diperhatikan, __range(1,_n_)__ berarti akan menghasilkan angka yang berurutan dari 1 sampai dengan _n-1_."
      ]
    },
    {
      "cell_type": "markdown",
      "metadata": {
        "id": "uEwxsAG5Qv6t"
      },
      "source": [
        "Contoh lainnya menggunakan fungsi __range()__, yaitu:"
      ]
    },
    {
      "cell_type": "code",
      "metadata": {
        "id": "85jlgk10Qv6u",
        "outputId": "ccaddcd9-3468-4987-838a-560979fd5a47"
      },
      "source": [
        "for nilai in range(5):\n",
        "    print(nilai)"
      ],
      "execution_count": null,
      "outputs": [
        {
          "output_type": "stream",
          "text": [
            "0\n",
            "1\n",
            "2\n",
            "3\n",
            "4\n"
          ],
          "name": "stdout"
        }
      ]
    },
    {
      "cell_type": "markdown",
      "metadata": {
        "id": "M_W4GtuEQv6v"
      },
      "source": [
        "Kita bisa membuat suatu list yang berisi urutan angka dengan bantuan fungsi __range()__, seperti:"
      ]
    },
    {
      "cell_type": "code",
      "metadata": {
        "id": "c_NDMSudQv6v",
        "outputId": "15878694-3c5a-4b2b-baa4-248a994a8a9f"
      },
      "source": [
        "angka = list(range(1,5))\n",
        "print(angka)"
      ],
      "execution_count": null,
      "outputs": [
        {
          "output_type": "stream",
          "text": [
            "[1, 2, 3, 4]\n"
          ],
          "name": "stdout"
        }
      ]
    },
    {
      "cell_type": "markdown",
      "metadata": {
        "id": "BGB8OWcFQv6w"
      },
      "source": [
        "__Contoh 2:__ Kita tahu bahwa dalam sistem bilangan bulat positif terdapat bilangan ganjil dan genap. Urutan bilangan ganjil dan genap selalu selang-seling, misalnya urutan pertama adalah bilangan ganjil maka urutan keduanya adalah bilangan genap. Kita dapat membuat List yang berisi urutan bilangan genap dengan fungsi __range(awal, akhir, jeda)__. Pada fungsi __range(a, b, jeda)__ terdapat parameter __awal__ yang menunjukan angka awal, parameter __akhir__ menunjukan angka terakhir $- 1$, dan parameter __jeda__ menunjukan \"dilongkap berapa kali\", seperti kode berikut:     "
      ]
    },
    {
      "cell_type": "code",
      "metadata": {
        "id": "gMeAEm_gQv6w",
        "outputId": "4ef64b5a-fac7-44d1-a2b5-4100452a5b8f"
      },
      "source": [
        "angka = list(range(2,20, 2)) # (1)\n",
        "print(angka)                 # (2)"
      ],
      "execution_count": null,
      "outputs": [
        {
          "output_type": "stream",
          "text": [
            "[2, 4, 6, 8, 10, 12, 14, 16, 18]\n"
          ],
          "name": "stdout"
        }
      ]
    },
    {
      "cell_type": "markdown",
      "metadata": {
        "id": "zMeFDoYxQv6x"
      },
      "source": [
        "Kita juga bisa membuat List yang berisi urutan angka pangkat 2 (angka $= a^2$, dimana $a$ adalah bilangan bulat)"
      ]
    },
    {
      "cell_type": "code",
      "metadata": {
        "id": "17k2TJ3IQv6x",
        "outputId": "da2f5dbb-1deb-4033-8d19-d7222849a7bc"
      },
      "source": [
        "angka = []\n",
        "for nilai in range(-10,10):\n",
        "    pangkat = nilai**2\n",
        "    angka.append(pangkat)\n",
        "print(angka)"
      ],
      "execution_count": null,
      "outputs": [
        {
          "output_type": "stream",
          "text": [
            "[100, 81, 64, 49, 36, 25, 16, 9, 4, 1, 0, 1, 4, 9, 16, 25, 36, 49, 64, 81]\n"
          ],
          "name": "stdout"
        }
      ]
    },
    {
      "cell_type": "markdown",
      "metadata": {
        "id": "IC6mDiQQQv6y"
      },
      "source": [
        "atau dapat menggunakan _komprehensif List_ (membuat list hanya menggunakan satu baris kode), "
      ]
    },
    {
      "cell_type": "code",
      "metadata": {
        "id": "69J-FNz-Qv6z",
        "outputId": "5f86e3e7-3f9a-4cbb-b0d6-e74951acf738"
      },
      "source": [
        "angka = [nilai**2 for nilai in range(-10,10)] # komprehensif List\n",
        "print(angka)"
      ],
      "execution_count": null,
      "outputs": [
        {
          "output_type": "stream",
          "text": [
            "[100, 81, 64, 49, 36, 25, 16, 9, 4, 1, 0, 1, 4, 9, 16, 25, 36, 49, 64, 81]\n"
          ],
          "name": "stdout"
        }
      ]
    },
    {
      "cell_type": "markdown",
      "metadata": {
        "id": "Hy32BCKbQv6z"
      },
      "source": [
        "Ketika kita membuat suatu List yang berisi angka, kita juga bisa mencari nilai terkecil dengn fungsi __min()__, terbesar dengan __max()__, dan jumlah dengan __max()__ dari setiap elemen-elemen dari List tersebut."
      ]
    },
    {
      "cell_type": "code",
      "metadata": {
        "id": "qxKcbxMQQv60",
        "outputId": "734f36fd-5938-429c-9624-f1442983792e"
      },
      "source": [
        "data = [283, 34, 21, 43, 65, 2, 12, 12, 2, 124, \\\n",
        "        1, 203, 383, 124, 231, 12, 64, 74, 73, 98, 83, 3, 43]\n",
        "nilai_min = min(data)\n",
        "nilai_max = max(data)\n",
        "jumlah = sum(data)\n",
        "print(\"Nilai terkecil: \" + str(nilai_min))\n",
        "print(\"Nilai terbesar: \" + str(nilai_max))\n",
        "print(\"Jumlah: \" + str(jumlah))"
      ],
      "execution_count": null,
      "outputs": [
        {
          "output_type": "stream",
          "text": [
            "Nilai terkecil: 1\n",
            "Nilai terbesar: 383\n",
            "Jumlah: 1990\n"
          ],
          "name": "stdout"
        }
      ]
    },
    {
      "cell_type": "markdown",
      "metadata": {
        "id": "X7AVRGETQv60"
      },
      "source": [
        "atau kode yang lebih \"compact\" nya:"
      ]
    },
    {
      "cell_type": "code",
      "metadata": {
        "id": "ipnA4Rv5Qv63",
        "outputId": "f8948552-af88-4c24-c973-8fc77aa27c9c"
      },
      "source": [
        "data = [283, 34, 21, 43, 65, 2, 12, 12, 2, 124, \\\n",
        "        1, 203, 383, 124, 231, 12, 64, 74, 73, 98, 83, 3, 43]\n",
        "print(\"Nilai terkecil: {}\".format(min(data)))\n",
        "print(\"Nilai terbesar: {}\".format(max(data)))\n",
        "print(\"Jumlah: {}\".format(sum(data)))"
      ],
      "execution_count": null,
      "outputs": [
        {
          "output_type": "stream",
          "text": [
            "Nilai terkecil: 1\n",
            "Nilai terbesar: 383\n",
            "Jumlah: 1990\n"
          ],
          "name": "stdout"
        }
      ]
    },
    {
      "cell_type": "markdown",
      "metadata": {
        "id": "tzUABLeDQv64"
      },
      "source": [
        "# Bekerja dengan sebagian elemen List"
      ]
    },
    {
      "cell_type": "markdown",
      "metadata": {
        "id": "zSJQ5ecDQv65"
      },
      "source": [
        "Terkadang kita ingin bekerja dengan sebagian elemen saja. Oleh karena itu, kita dapat mengakses sebagian elemen dari suatu List atau yang disebut dengan istilah __slice__, seperti contoh berikut: "
      ]
    },
    {
      "cell_type": "code",
      "metadata": {
        "id": "qdhg2FIwQv65",
        "outputId": "6127502c-d803-4782-8417-2f2c294f9c86"
      },
      "source": [
        "mobil = ['toyota', 'honda', 'BMW', 'daihatsu', 'ferrari'] # (1)\n",
        "print(mobil[0:3]) # (2) slice elemen ke 0 sampai ke 2"
      ],
      "execution_count": null,
      "outputs": [
        {
          "output_type": "stream",
          "text": [
            "['toyota', 'honda', 'BMW']\n"
          ],
          "name": "stdout"
        }
      ]
    },
    {
      "cell_type": "markdown",
      "metadata": {
        "id": "EK2ubvszQv66"
      },
      "source": [
        "__Penjelasan:__ Dari kode di atas dapat diartikan kita ingin memotong nilai elemen ke 0 sampai ke 2 (ingat, indeks di Python di awali dengan indeks ke 0) dari List <code>mobil</code> yaitu toyota, honda, dan BMW. Perhatikan bahwa hasil dari _slice_ adalah List juga."
      ]
    },
    {
      "cell_type": "markdown",
      "metadata": {
        "id": "ZdmeZgFoQv67"
      },
      "source": [
        "Di dalam _slicing_ List, kita juga bisa memotong List tanpa harus menginput indeks awal dan/atau indeks akhirnya. Contoh:  "
      ]
    },
    {
      "cell_type": "code",
      "metadata": {
        "id": "DkG83vIZQv67",
        "outputId": "de6d7bb2-42eb-4f29-f786-8eef59174bae"
      },
      "source": [
        "mobil = ['toyota', 'honda', 'BMW', 'daihatsu', 'ferrari']\n",
        "mobil1 = mobil[:2] # slice dari elemen awal sampai ke 1\n",
        "mobil2 = mobil[2:] # slice dari elemen ke 2 sampai elemen terakhir\n",
        "mobil3 = mobil[:] # slice semua elemen\n",
        "print(\"Output mobil1: \",mobil1)\n",
        "print(\"Output mobil2: \",mobil2)\n",
        "print(\"Output mobil3: \",mobil3)"
      ],
      "execution_count": null,
      "outputs": [
        {
          "output_type": "stream",
          "text": [
            "Output mobil1:  ['toyota', 'honda']\n",
            "Output mobil2:  ['BMW', 'daihatsu', 'ferrari']\n",
            "Output mobil3:  ['toyota', 'honda', 'BMW', 'daihatsu', 'ferrari']\n"
          ],
          "name": "stdout"
        }
      ]
    },
    {
      "cell_type": "markdown",
      "metadata": {
        "id": "WOFuzARpQv68"
      },
      "source": [
        "Misalkan kita ingin memisahkan atau mengkategorikan dari List 'mobil' di atas, apakah mobil tersebut buatan jepang atau eropa. Cara menyelesaikannya adalah:"
      ]
    },
    {
      "cell_type": "code",
      "metadata": {
        "id": "6wBv6DytQv68",
        "outputId": "75eb86a9-0216-45b4-a2da-cc4f681c53bd"
      },
      "source": [
        "mobil = ['toyota', 'honda', 'BMW', 'daihatsu', 'ferrari']\n",
        "mobil_jepang = mobil[0:2] \n",
        "mobil_jepang.append(mobil[3])\n",
        "mobil_eropa = []\n",
        "mobil_eropa.append(mobil[2])\n",
        "mobil_eropa.append(mobil[4])\n",
        "print(\"Mobil Jepang: \", mobil_jepang)\n",
        "print(\"Mobil Eropa: \", mobil_eropa)"
      ],
      "execution_count": null,
      "outputs": [
        {
          "output_type": "stream",
          "text": [
            "Mobil Jepang:  ['toyota', 'honda', 'daihatsu']\n",
            "Mobil Eropa:  ['BMW', 'ferrari']\n"
          ],
          "name": "stdout"
        }
      ]
    },
    {
      "cell_type": "markdown",
      "metadata": {
        "id": "yiCyykEOQv69"
      },
      "source": [
        "# Multidimensional List"
      ]
    },
    {
      "cell_type": "markdown",
      "metadata": {
        "id": "0YGBvA6zQv6-"
      },
      "source": [
        "Misalkan kita punya List di dalam List atau dapat disebut __multidimensional List__ (lebih mudahnya, dapat diilustrasikan sebagai matriks), <code>mobil = [['toyota', 'honda', 'daihatsu'], ['BMW',  'ferrari']]</code>. Ini berarti multidimensional List <code>mobil</code> memiliki dua buah List yaitu List dengan indeks ke 0 dan List dengan indeks ke 1. Jika kita dapat menerapkan semua hal yang telah kita pelajari tentang List dengan sedikit modifikasi, seperti:"
      ]
    },
    {
      "cell_type": "code",
      "metadata": {
        "id": "jNUzHdzJQv6_",
        "outputId": "d1a1a33e-3185-4d37-f27a-839f45ae5af6"
      },
      "source": [
        "mobil = [['toyota', 'honda', 'daihatsu'], ['BMW',  'ferrari']]\n",
        "print(mobil[0]) # (1) \n",
        "print(mobil[0][0]) # (2) \n",
        "print(mobil[0][:2]) # (3)"
      ],
      "execution_count": null,
      "outputs": [
        {
          "output_type": "stream",
          "text": [
            "['toyota', 'honda', 'daihatsu']\n",
            "toyota\n",
            "['toyota', 'honda']\n"
          ],
          "name": "stdout"
        }
      ]
    },
    {
      "cell_type": "markdown",
      "metadata": {
        "id": "_V9EZqz4Qv6_"
      },
      "source": [
        "__Penjelasan:__ Pada kode baris (1), menampilkan nilai List ke 0 dari List dua dimensi <code>mobil</code>. Untuk mengkakses List ke 0 kemudian akses elemen ke 0 dari List ke 0 dapat menggunakan kode di (2). Kode di baris (3) digunakan untuk slice List ke 0, mulai dari elemen pertama sampai dengan ke 1.   "
      ]
    },
    {
      "cell_type": "markdown",
      "metadata": {
        "id": "7m-vz44sQv7A"
      },
      "source": [
        "Untuk menambahkan elemen pada multidimensional List dapat menggunakan <code>append</code> atau cara yang telah kita pelajari sebelumnya, seperti pada kode di bawah ini:"
      ]
    },
    {
      "cell_type": "code",
      "metadata": {
        "id": "YycL0Ye4Qv7A",
        "outputId": "63f6490d-feb0-48cc-b5f6-19e28cde3608"
      },
      "source": [
        "mobil = [['toyota', 'honda', 'daihatsu'], ['BMW',  'ferrari']]\n",
        "mobil[0].append('suzuki')\n",
        "mobil[1].append('jaguar')\n",
        "print(mobil)"
      ],
      "execution_count": null,
      "outputs": [
        {
          "output_type": "stream",
          "text": [
            "[['toyota', 'honda', 'daihatsu', 'suzuki'], ['BMW', 'ferrari', 'jaguar']]\n"
          ],
          "name": "stdout"
        }
      ]
    },
    {
      "cell_type": "markdown",
      "metadata": {
        "id": "aTBUVyEsQv7A"
      },
      "source": [
        "Sebelumnya kita juga telah mempelajari bagaimana cara menghapus elemen dari List yaitu dengan perintah <code>del</code>, metode <code>pop</code> atau metode <code>remove</code>. Dengan cara yang sama, kita juga bisa mengimplementasikan cara tersebut untuk menghapus suatu elemen dari multidimensional List, seperti: "
      ]
    },
    {
      "cell_type": "code",
      "metadata": {
        "id": "otGe4zFjQv7B",
        "outputId": "9fabb8a5-43e3-4eaf-888d-f8cdd343a97b"
      },
      "source": [
        "mobil = [['toyota', 'honda', 'daihatsu'], ['BMW',  'ferrari']]\n",
        "pop_mobil = mobil.pop()\n",
        "print(\"List yang terhapus: \", pop_mobil)\n",
        "print(\"List sekarang: \", mobil)"
      ],
      "execution_count": null,
      "outputs": [
        {
          "output_type": "stream",
          "text": [
            "List yang terhapus:  ['BMW', 'ferrari']\n",
            "List sekarang:  [['toyota', 'honda', 'daihatsu']]\n"
          ],
          "name": "stdout"
        }
      ]
    },
    {
      "cell_type": "markdown",
      "metadata": {
        "id": "Li9Enkd8Qv7B"
      },
      "source": [
        "__Perhatikan:__ Jika kita mengimplementasikan metode <code>pop</code> tanpa parameter maka ini akan menghapus List ke 1 dari multidimensional List <code>mobil</code>. Jika kita hanya ingin menghapus elemen ke 0 dari List ke 0 maka dapat dilakukan dengan cara:"
      ]
    },
    {
      "cell_type": "code",
      "metadata": {
        "id": "dSpMxoMOQv7B",
        "outputId": "817071f4-5b8f-405d-8f73-62703f54a738"
      },
      "source": [
        "mobil = [['toyota', 'honda', 'daihatsu'], ['BMW',  'ferrari']]\n",
        "mobil[0].pop(0)\n",
        "print(mobil)"
      ],
      "execution_count": null,
      "outputs": [
        {
          "output_type": "stream",
          "text": [
            "[['honda', 'daihatsu'], ['BMW', 'ferrari']]\n"
          ],
          "name": "stdout"
        }
      ]
    },
    {
      "cell_type": "markdown",
      "metadata": {
        "id": "LpNXkMNGQv7C"
      },
      "source": [
        "Misalkan kita ingin menampilkan output tiap-tiap elemen pada multidimensional List, maka kita dapat melakukannya dengan cara:"
      ]
    },
    {
      "cell_type": "code",
      "metadata": {
        "id": "b44aauNNQv7C",
        "outputId": "b098a7f1-74d1-4d65-babc-60e8d0f7e69a"
      },
      "source": [
        "mobil = [['toyota', 'honda', 'daihatsu'], ['BMW',  'ferrari']]\n",
        "\n",
        "for i in range(0, len(mobil)): # (1)\n",
        "    for j in mobil[i]: # (2)\n",
        "        print(j)"
      ],
      "execution_count": null,
      "outputs": [
        {
          "output_type": "stream",
          "text": [
            "toyota\n",
            "honda\n",
            "daihatsu\n",
            "BMW\n",
            "ferrari\n"
          ],
          "name": "stdout"
        }
      ]
    },
    {
      "cell_type": "markdown",
      "metadata": {
        "id": "jShQkSTKQv7C"
      },
      "source": [
        "__Penjelasan:__ Kode baris (1) kita ingin melihat banyaknya List yang ada di multidimensional List <code>mobil</code> menggunakan perintah <code>len()</code>. Kemudian untuk setiap <code>i</code> akan diisi nilai 0 sampai dengan <code>len(mobil)-1</code>. Pada baris (2), untuk setiap <code>j</code> akan diisi nilai dari masing-masing elemen yang terdapat di <code>mobil[0]</code> dan <code>mobil[1]</code> berturut-turut.     "
      ]
    },
    {
      "cell_type": "markdown",
      "metadata": {
        "id": "InYw9KNtQv7D"
      },
      "source": [
        "# Tuples"
      ]
    },
    {
      "cell_type": "markdown",
      "metadata": {
        "id": "d0NvN6rPQv7D"
      },
      "source": [
        "Perbedaan antara struktur data List dan Tuple adalah jika di dalam List elemen-elemennya dapat dimodifikasi nilainya maka di Tuple tidak. Oleh sebab itu, Tuple dapat disebut juga __immutable List__. Biasanya Tuple digunakan untuk mendefinisikan ukuran suatu array atau matriks (seperti yang terdapat di dalam modul _Numpy_). Cara mendefinisikan Tuple yaitu:"
      ]
    },
    {
      "cell_type": "code",
      "metadata": {
        "id": "l67PFuMZQv7D",
        "outputId": "89f178e6-37ed-4ebb-fac8-6741f9cb5266"
      },
      "source": [
        "ukuran_matriks = (1920, 1080) # m x n\n",
        "print(\"m = \", ukuran_matriks[0])\n",
        "print(\"n = \", ukuran_matriks[1])"
      ],
      "execution_count": null,
      "outputs": [
        {
          "output_type": "stream",
          "text": [
            "m =  1920\n",
            "n =  1080\n"
          ],
          "name": "stdout"
        }
      ]
    },
    {
      "cell_type": "markdown",
      "metadata": {
        "id": "vIYfdee8Qv7D"
      },
      "source": [
        "Misalkan kita ingin mengganti/memodifikasi nilai $m$ dengan 1000, maka kita akan mendapatkan __TypeError__, seperti:"
      ]
    },
    {
      "cell_type": "code",
      "metadata": {
        "id": "36d31FPEQv7D",
        "outputId": "6fa40dc9-4a36-4cae-9839-c7911fc6d62c"
      },
      "source": [
        "ukuran_matriks = (1920, 1080) # deklasrasi Tuple\n",
        "ukuran_matriks[0] = 1000 # modifikasi nilai m\n",
        "print(\"m = \", ukuran_matriks[0])\n",
        "print(\"n = \", ukuran_matriks[1])"
      ],
      "execution_count": null,
      "outputs": [
        {
          "output_type": "error",
          "ename": "TypeError",
          "evalue": "'tuple' object does not support item assignment",
          "traceback": [
            "\u001b[1;31m---------------------------------------------------------------------------\u001b[0m",
            "\u001b[1;31mTypeError\u001b[0m                                 Traceback (most recent call last)",
            "\u001b[1;32m<ipython-input-24-a1b8f73c4f8b>\u001b[0m in \u001b[0;36m<module>\u001b[1;34m\u001b[0m\n\u001b[0;32m      1\u001b[0m \u001b[0mukuran_matriks\u001b[0m \u001b[1;33m=\u001b[0m \u001b[1;33m(\u001b[0m\u001b[1;36m1920\u001b[0m\u001b[1;33m,\u001b[0m \u001b[1;36m1080\u001b[0m\u001b[1;33m)\u001b[0m\u001b[1;33m\u001b[0m\u001b[1;33m\u001b[0m\u001b[0m\n\u001b[1;32m----> 2\u001b[1;33m \u001b[0mukuran_matriks\u001b[0m\u001b[1;33m[\u001b[0m\u001b[1;36m0\u001b[0m\u001b[1;33m]\u001b[0m \u001b[1;33m=\u001b[0m \u001b[1;36m1000\u001b[0m \u001b[1;31m# modifikasi nilai m\u001b[0m\u001b[1;33m\u001b[0m\u001b[1;33m\u001b[0m\u001b[0m\n\u001b[0m\u001b[0;32m      3\u001b[0m \u001b[0mprint\u001b[0m\u001b[1;33m(\u001b[0m\u001b[1;34m\"m = \"\u001b[0m\u001b[1;33m,\u001b[0m \u001b[0mukuran_matriks\u001b[0m\u001b[1;33m[\u001b[0m\u001b[1;36m0\u001b[0m\u001b[1;33m]\u001b[0m\u001b[1;33m)\u001b[0m\u001b[1;33m\u001b[0m\u001b[1;33m\u001b[0m\u001b[0m\n\u001b[0;32m      4\u001b[0m \u001b[0mprint\u001b[0m\u001b[1;33m(\u001b[0m\u001b[1;34m\"n = \"\u001b[0m\u001b[1;33m,\u001b[0m \u001b[0mukuran_matriks\u001b[0m\u001b[1;33m[\u001b[0m\u001b[1;36m1\u001b[0m\u001b[1;33m]\u001b[0m\u001b[1;33m)\u001b[0m\u001b[1;33m\u001b[0m\u001b[1;33m\u001b[0m\u001b[0m\n",
            "\u001b[1;31mTypeError\u001b[0m: 'tuple' object does not support item assignment"
          ]
        }
      ]
    },
    {
      "cell_type": "markdown",
      "metadata": {
        "id": "kPGSMYkGQv7E"
      },
      "source": [
        "Walaupun kita tidak dapat memodifikasi elemen di Tuple, kita dapat menuliskan nilai baru ke Tuple yang kita buat. Ini berarti, kita harus memodifikasi semua nilai di elemen Tuple tersebut. Contohnya: "
      ]
    },
    {
      "cell_type": "code",
      "metadata": {
        "id": "vzBSl-BGQv7E",
        "outputId": "0ef57fac-f654-40c9-dc83-fe155bb53b15"
      },
      "source": [
        "ukuran_matriks = (1920, 1080)\n",
        "ukuran_matriks = (1000, 1080)\n",
        "print(ukuran_matriks)"
      ],
      "execution_count": null,
      "outputs": [
        {
          "output_type": "stream",
          "text": [
            "(1000, 1080)\n"
          ],
          "name": "stdout"
        }
      ]
    }
  ]
}