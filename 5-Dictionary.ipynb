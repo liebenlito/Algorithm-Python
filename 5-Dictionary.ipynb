{
 "cells": [
  {
   "cell_type": "markdown",
   "metadata": {},
   "source": [
    "# Dictionary di Python"
   ]
  },
  {
   "cell_type": "markdown",
   "metadata": {},
   "source": [
    "## Materi\n",
    "* Dictionary Sederhana\n",
    "* Bekerja dengan Dictionary\n",
    "* Pengulangan di Dictionary\n",
    "* Dictionary di dalam List\n",
    "* List di dalam Dictionary\n",
    "* Dictionary di dalam Dictionary"
   ]
  },
  {
   "cell_type": "markdown",
   "metadata": {},
   "source": [
    "## Dictionary Sederhana\n",
    "Kita telah mempelajari tipe struktur data di Python yaitu List dan Tuples. Sekarang kita akan mempelajari tipe struktur data Dictionary yang memungkinkan kita untuk menyimpan informasi/data yang lebih kompleks dan teratur. Jika kita mempelajari struktur data berarti kita harus mengetahui cara:\n",
    "1. Mendeklarasikan tipe struktur data dan mengakses elemennya,\n",
    "2. Menambahkan elemen baru ke tipe struktur data tersebut,\n",
    "3. Memodifikasi nilai elemen dari tipe struktur data tersebut, dan\n",
    "4. Menghapus elemen.\n",
    "\n",
    "Kita mulai dengan mendeklarasikan tipe struktur data Dictionary sederhana, perhatikan contoh berikut: "
   ]
  },
  {
   "cell_type": "code",
   "execution_count": 1,
   "metadata": {},
   "outputs": [
    {
     "name": "stdout",
     "output_type": "stream",
     "text": [
      "honda\n",
      "bmw\n"
     ]
    }
   ],
   "source": [
    "mobil = {'mobil_jepang': 'honda', 'mobil_eropa': 'bmw'} # 1\n",
    "print(mobil['mobil_jepang']) # 2\n",
    "print(mobil['mobil_eropa']) # 3"
   ]
  },
  {
   "cell_type": "markdown",
   "metadata": {
    "user_expressions": []
   },
   "source": [
    "Dari kode di atas pada baris (1) menjelaskan bagaimana cara untuk mendeklarasikan Dictionary. Adapun beberapa istilah pada Dictionary yaitu __pasangan__ __key__ dan __value__. Pada baris (1) __key__ dari Dictionary `mobil` adalah `'mobil_jepang'` dan `'mobil_eropa'` dan __value__ dari Dictionary tersebut adalah `'honda'` dan `'bmw'`. Sehingga untuk mengakses elemen pada Dictionary `mobil`, kita panggil _key_ dari elemen yang ingin kita keluarkan nilainya, seperti pada baris (2) dan (3).\n",
    "\n",
    "__Perhatian:__ Penamaan __key__ dapat berupa angka, sebagai contoh `mobil = {0: 'honda', 1: 'bmw'}`."
   ]
  },
  {
   "cell_type": "markdown",
   "metadata": {},
   "source": [
    "## Bekerja dengan Dictionary\n",
    "Sebelumnya kita telah membahas bagaimana cara untuk mendeklarasikan Dictionary dan mengakses elemennya. Berikutnya yang perlu kita ketahui adalah bagaimana cara menambahkan elemen baru ke dalam Dictionary. Perhatikan contoh berikut:"
   ]
  },
  {
   "cell_type": "code",
   "execution_count": 3,
   "metadata": {},
   "outputs": [
    {
     "name": "stdout",
     "output_type": "stream",
     "text": [
      "{'mobil_jepang': 'honda', 'mobil_eropa': 'bmw', 'mobil_amerika': 'ford'}\n"
     ]
    }
   ],
   "source": [
    "mobil = {'mobil_jepang': 'honda', 'mobil_eropa': 'bmw'} # 1\n",
    "\n",
    "mobil['mobil_amerika'] = 'ford' # 2\n",
    "print(mobil) # 3"
   ]
  },
  {
   "cell_type": "markdown",
   "metadata": {},
   "source": [
    "Untuk menambah elemen baru di Dictionary, kita dapat melakukan perintah seperti pada baris (2) dari kode di atas. Sehingga jika kita keluarkan output dari Dictionary `mobil` pada baris (3), maka Dictionary `mobil` memiliki elemen baru yaitu pasangan _key-value_ `'mobil_amerika': 'ford'`."
   ]
  },
  {
   "cell_type": "markdown",
   "metadata": {},
   "source": [
    "Kita dapat menghapus elemen di Dictionary menggunakan perintah `del`. Perlu diperhatikan, jika kita ingin menghapus elemen di Dictionary, maka kita tinggal memanggil _key_ yang ingin kita hapus. Misalkan dari contoh sebelumnya, kita ingin menghapus elemen di Dictionary dengan pasangan key-value: `'mobil_jepang': 'honda'`, perhatikan kode berikut:"
   ]
  },
  {
   "cell_type": "code",
   "execution_count": 4,
   "metadata": {},
   "outputs": [
    {
     "name": "stdout",
     "output_type": "stream",
     "text": [
      "{'mobil_eropa': 'bmw', 'mobil_amerika': 'ford'}\n"
     ]
    }
   ],
   "source": [
    "mobil = {'mobil_jepang': 'honda', 'mobil_eropa': 'bmw', 'mobil_amerika': 'ford'}\n",
    "\n",
    "del mobil['mobil_jepang']\n",
    "print(mobil)"
   ]
  },
  {
   "cell_type": "markdown",
   "metadata": {},
   "source": [
    "Misalkan kita melakukan voting dari beberapa orang untuk mengetahui bahasa pemrograman yang sering digunakan. Kemudian, kita simpan hasilnya ke dalam Dictionary, seperti yang terlihat pada kode berikut: "
   ]
  },
  {
   "cell_type": "code",
   "execution_count": 6,
   "metadata": {},
   "outputs": [
    {
     "name": "stdout",
     "output_type": "stream",
     "text": [
      "{'Andi': 'C++', 'Budi': 'python', 'Sarah': 'R', 'Lisa': 'python', 'Amir': 'matlab'}\n"
     ]
    }
   ],
   "source": [
    "voting = {'Andi': 'C++', # 1\n",
    "          'Budi': 'python', # 2\n",
    "          'Sarah': 'R', # 3\n",
    "          'Lisa': 'python', # 4 \n",
    "          'Amir': 'matlab'  } # 5 : perhatikan tanda koma-nya, ini berarti elemen terakhir\n",
    "print(voting) # 6"
   ]
  },
  {
   "cell_type": "markdown",
   "metadata": {},
   "source": [
    "Dari kode di atas terlihat bahwa kita dapat menuliskan suatu Dictionary dengan format tersebut. Pada baris (2) dan (4) terlihat bahwa Budi dan Lisa sering menggunakan bahasa pemrograman python. Kemudian yang menjadi pertanyaan adalah jika kita mendeklarasikan _key_ yang sama tetapi nilainya berbeda apa yang terjadi? Perhatikan kode berikut:"
   ]
  },
  {
   "cell_type": "code",
   "execution_count": 8,
   "metadata": {},
   "outputs": [
    {
     "name": "stdout",
     "output_type": "stream",
     "text": [
      "{'Andi': 'C++', 'Budi': 'R', 'Sarah': 'R', 'Lisa': 'python', 'Amir': 'matlab'}\n"
     ]
    }
   ],
   "source": [
    "voting = {'Andi': 'C++', # 1\n",
    "          'Budi': 'python', # 2\n",
    "          'Sarah': 'R', # 3\n",
    "          'Lisa': 'python', # 4 \n",
    "          'Amir': 'matlab', # 5  \n",
    "          'Budi': 'R' } # 6 \n",
    "print(voting) # 7"
   ]
  },
  {
   "cell_type": "markdown",
   "metadata": {},
   "source": [
    "Dari output kode di atas terlihat bahwa key `'Budi'` nilainya berubah menjadi `'R'`. Oleh karena itu, kita dapat simpulkan jika kita mendeklarasikan key-value yang sudah ada sebelumnya maka nilainya akan terupdate.  "
   ]
  },
  {
   "cell_type": "markdown",
   "metadata": {},
   "source": [
    "## Pengulangan di Dicitionary\n",
    "Kita dapat mengakses setiap elemen di Dictionary menggunakan pengulangan sebagai berikut:"
   ]
  },
  {
   "cell_type": "code",
   "execution_count": 14,
   "metadata": {},
   "outputs": [
    {
     "name": "stdout",
     "output_type": "stream",
     "text": [
      "key: Andi\n",
      "value: C++\n",
      "key: Budi\n",
      "value: python\n",
      "key: Sarah\n",
      "value: R\n",
      "key: Lisa\n",
      "value: python\n",
      "key: Amir\n",
      "value: matlab\n"
     ]
    }
   ],
   "source": [
    "voting = {'Andi': 'C++', \n",
    "          'Budi': 'python', \n",
    "          'Sarah': 'R', \n",
    "          'Lisa': 'python',  \n",
    "          'Amir': 'matlab'  }\n",
    "\n",
    "for i,j in voting.items(): # 1\n",
    "    print(\"key: \" + i) # 2\n",
    "    print(\"value: \" + j) # 3"
   ]
  },
  {
   "cell_type": "markdown",
   "metadata": {},
   "source": [
    "Pada baris (1) terlihat bahwa kita deklarasikan variabel `i` sebagai _key_ dan `j` sebagai _value_. Kemudian method `items()` digunakan untuk dapat mengeluarkan items berupa key dan value yang ada pada Dictionary `voting`. Kita juga dapat mengakses key-nya saja yang terdapat pada Dictionary `voting` menggunakan method `keys()`, seperti pada contoh berikut:"
   ]
  },
  {
   "cell_type": "code",
   "execution_count": 15,
   "metadata": {},
   "outputs": [
    {
     "name": "stdout",
     "output_type": "stream",
     "text": [
      "Andi\n",
      "Budi\n",
      "Sarah\n",
      "Lisa\n",
      "Amir\n"
     ]
    }
   ],
   "source": [
    "for i in voting.keys():\n",
    "    print(i)"
   ]
  },
  {
   "cell_type": "markdown",
   "metadata": {},
   "source": [
    "dan untuk mengeluarkan hanya value-nya saja dapat menggunakan kode berikut:"
   ]
  },
  {
   "cell_type": "code",
   "execution_count": 16,
   "metadata": {},
   "outputs": [
    {
     "name": "stdout",
     "output_type": "stream",
     "text": [
      "C++\n",
      "python\n",
      "R\n",
      "python\n",
      "matlab\n"
     ]
    }
   ],
   "source": [
    "for i in voting.values():\n",
    "    print(i)"
   ]
  },
  {
   "cell_type": "markdown",
   "metadata": {},
   "source": [
    "Jika kita ingin menampilkan key yang terurut (misalnya berdasarkan abjad), kita dapat melakukannya dengan bantuan perintah `sorted()`, seperti berikut:"
   ]
  },
  {
   "cell_type": "code",
   "execution_count": 20,
   "metadata": {},
   "outputs": [
    {
     "name": "stdout",
     "output_type": "stream",
     "text": [
      "Amir\n",
      "Andi\n",
      "Budi\n",
      "Lisa\n",
      "Sarah\n"
     ]
    }
   ],
   "source": [
    "voting = {'Andi': 'C++', \n",
    "          'Budi': 'python', \n",
    "          'Sarah': 'R', \n",
    "          'Lisa': 'python',  \n",
    "          'Amir': 'matlab'  }\n",
    "\n",
    "for i in sorted(voting.keys()): # 1\n",
    "    print(i) # 2"
   ]
  },
  {
   "cell_type": "markdown",
   "metadata": {},
   "source": [
    "## Dictionary di dalam List"
   ]
  },
  {
   "cell_type": "markdown",
   "metadata": {},
   "source": [
    "Misalkan pada suatu showroom mobil Toyota terdapat jenis-jenis mobil antara lain SUV, sport, dan pickup. Adapun harga rata-rata SUV, sport dan pickup berturut-turut adalah 500, 1000, dan 100. Kita disuruh untuk membuat suatu daftar dari berdasarkan jenis mobil tersebut. Perhatikan kode berikut:"
   ]
  },
  {
   "cell_type": "code",
   "execution_count": 21,
   "metadata": {},
   "outputs": [
    {
     "name": "stdout",
     "output_type": "stream",
     "text": [
      "[{'tipe': 'SUV', 'harga': 500}, {'tipe': 'sport', 'harga': 1000}, {'tipe': 'pickup', 'harga': 100}]\n"
     ]
    }
   ],
   "source": [
    "mobil_0 = {'tipe': 'SUV', 'harga': 500}\n",
    "mobil_1 = {'tipe': 'sport', 'harga': 1000}\n",
    "mobil_2 = {'tipe': 'pickup', 'harga': 100}\n",
    "\n",
    "mobil = [mobil_0, mobil_1, mobil_2] # 1\n",
    "print(mobil)"
   ]
  },
  {
   "cell_type": "markdown",
   "metadata": {},
   "source": [
    "Pada baris (1) dari kode di atas menunjukan bahwa kita menggabungkan semua Dictionary, yaitu `mobil_0`, `mobil_1`, dan `mobil_2` ke dalam suatu List `mobil`. Jika kita ingin melihat stok atau daftar mobil yang terdapat di showroom, maka kita tinggal mengakses semua elemen yang ada di List `mobil`, seperti:"
   ]
  },
  {
   "cell_type": "code",
   "execution_count": 22,
   "metadata": {},
   "outputs": [
    {
     "name": "stdout",
     "output_type": "stream",
     "text": [
      "{'tipe': 'SUV', 'harga': 500}\n",
      "{'tipe': 'sport', 'harga': 1000}\n",
      "{'tipe': 'pickup', 'harga': 100}\n"
     ]
    }
   ],
   "source": [
    "for i in mobil:\n",
    "    print(i)"
   ]
  },
  {
   "cell_type": "markdown",
   "metadata": {},
   "source": [
    "Misalkan terdapat pembeli yang ingin membeli mobil di showroom tersebut. Kita diminta untuk membuat record penjualan tersebut. Misalkan terdapat pembeli yang ingin membeli 10 mobil pickup, maka kodenya adalah:"
   ]
  },
  {
   "cell_type": "code",
   "execution_count": 25,
   "metadata": {},
   "outputs": [
    {
     "name": "stdout",
     "output_type": "stream",
     "text": [
      "[{'tipe': 'pickup', 'harga': 100}, {'tipe': 'pickup', 'harga': 100}, {'tipe': 'pickup', 'harga': 100}, {'tipe': 'pickup', 'harga': 100}, {'tipe': 'pickup', 'harga': 100}, {'tipe': 'pickup', 'harga': 100}, {'tipe': 'pickup', 'harga': 100}, {'tipe': 'pickup', 'harga': 100}, {'tipe': 'pickup', 'harga': 100}, {'tipe': 'pickup', 'harga': 100}]\n"
     ]
    }
   ],
   "source": [
    "penjualan = []\n",
    "\n",
    "# terjadi 10 transaksi \n",
    "for i in range(10):\n",
    "    beli = {'tipe': 'pickup', 'harga': 100}\n",
    "    penjualan.append(beli)\n",
    "\n",
    "print(penjualan) # 1"
   ]
  },
  {
   "cell_type": "markdown",
   "metadata": {},
   "source": [
    "Dari kode di atas terlihat bahwa misalkan terjadi 10 transaksi penjualan mobil pickup di showroom tersebut. Kemudian untuk menampilkan jumlah transaksi dapat menggunakan kode berikut:"
   ]
  },
  {
   "cell_type": "code",
   "execution_count": 26,
   "metadata": {},
   "outputs": [
    {
     "name": "stdout",
     "output_type": "stream",
     "text": [
      "Total pembelian: 10\n"
     ]
    }
   ],
   "source": [
    "print(\"Total pembelian: \" + str(len(penjualan))) # 1"
   ]
  },
  {
   "cell_type": "markdown",
   "metadata": {},
   "source": [
    "Misalkan di showroom mobil tersebut terjadi transaksi berikut:"
   ]
  },
  {
   "cell_type": "code",
   "execution_count": 31,
   "metadata": {},
   "outputs": [
    {
     "name": "stdout",
     "output_type": "stream",
     "text": [
      "[{'tipe': 'pickup', 'harga': 100}, {'tipe': 'pickup', 'harga': 100}, {'tipe': 'pickup', 'harga': 100}, {'tipe': 'pickup', 'harga': 100}, {'tipe': 'pickup', 'harga': 100}, {'tipe': 'pickup', 'harga': 100}, {'tipe': 'pickup', 'harga': 100}, {'tipe': 'pickup', 'harga': 100}, {'tipe': 'pickup', 'harga': 100}, {'tipe': 'pickup', 'harga': 100}, {'tipe': 'pickup', 'harga': 100}, {'tipe': 'pickup', 'harga': 100}, {'tipe': 'pickup', 'harga': 100}, {'tipe': 'SUV', 'harga': 500}, {'tipe': 'SUV', 'harga': 500}, {'tipe': 'sport', 'harga': 1000}, {'tipe': 'sport', 'harga': 1000}, {'tipe': 'sport', 'harga': 1000}, {'tipe': 'sport', 'harga': 1000}, {'tipe': 'sport', 'harga': 1000}, {'tipe': 'sport', 'harga': 1000}, {'tipe': 'sport', 'harga': 1000}, {'tipe': 'sport', 'harga': 1000}, {'tipe': 'sport', 'harga': 1000}, {'tipe': 'sport', 'harga': 1000}, {'tipe': 'sport', 'harga': 1000}, {'tipe': 'sport', 'harga': 1000}, {'tipe': 'sport', 'harga': 1000}, {'tipe': 'sport', 'harga': 1000}, {'tipe': 'sport', 'harga': 1000}, {'tipe': 'sport', 'harga': 1000}, {'tipe': 'sport', 'harga': 1000}, {'tipe': 'sport', 'harga': 1000}, {'tipe': 'sport', 'harga': 1000}, {'tipe': 'sport', 'harga': 1000}]\n"
     ]
    }
   ],
   "source": [
    "penjualan = []\n",
    "\n",
    "for i in range(13):\n",
    "    beli = {'tipe': 'pickup', 'harga': 100}\n",
    "    penjualan.append(beli)\n",
    "\n",
    "for i in range(2):\n",
    "    beli = {'tipe': 'SUV', 'harga': 500}\n",
    "    penjualan.append(beli)\n",
    "\n",
    "for i in range(20):\n",
    "    beli = {'tipe': 'sport', 'harga': 1000}\n",
    "    penjualan.append(beli)\n",
    "\n",
    "print(penjualan)"
   ]
  },
  {
   "cell_type": "markdown",
   "metadata": {},
   "source": [
    "Output dari kode di atas menunjukan transaksi penjualan mobil. Kemudian, kita ingin melihat berapa jumlah/total transaksi penjualan; berapa jumlah penjualan mobil pickup, SUV, dan sport masing-masing dari transaksi tersebut. Perhatikan kode berikut:   "
   ]
  },
  {
   "cell_type": "code",
   "execution_count": 39,
   "metadata": {},
   "outputs": [
    {
     "name": "stdout",
     "output_type": "stream",
     "text": [
      "Total transaksi hari ini: 35\n",
      "Total transaksi mobil SUV: 2\n",
      "Total transaksi mobil pickup: 13\n",
      "Total transaksi mobil sport: 20\n"
     ]
    }
   ],
   "source": [
    "count_pickup = 0 # (1) inisial jumlah mobil pickup\n",
    "count_SUV = 0 # (2) inisial jumlah mobil SUV\n",
    "count_sport = 0 # (3) inisial jumlah mobil sport\n",
    "for i in penjualan: # (4)\n",
    "    for value in i.values(): # (5)\n",
    "        if value == 'pickup': # (6)\n",
    "            count_pickup += 1 # (7)\n",
    "        elif value == 'SUV': # (8)\n",
    "            count_SUV += 1 # (9)\n",
    "        elif value == 'sport': # (10)\n",
    "            count_sport +=1 # (11)\n",
    "\n",
    "print(\"Total transaksi hari ini: \" + str(len(penjualan))) # (12)\n",
    "print(\"Total transaksi mobil SUV: \" + str(count_SUV)) # (13)\n",
    "print(\"Total transaksi mobil pickup: \" + str(count_pickup)) # (14)\n",
    "print(\"Total transaksi mobil sport: \" + str(count_sport)) # (15)"
   ]
  },
  {
   "cell_type": "markdown",
   "metadata": {},
   "source": [
    "Dari kode di atas, pada baris (1) sampai (3), kita deklarasikan variabel-variabel dengan nilai awal adalah 0, yang digunakan untuk menghitung jumlah mobil pickup, SUV, dan sport yang terjual. Karena transaksi penjualan berada di List `penjualan`, maka kita lakukan pengulangan untuk List `penjualan`, yang ditunjukan pada baris (4). Pada baris (5), di dalam List `penjualan` terdapat kumpulan dari Dictionaries transaksi. Kita ingin melihat `value` di masing-masing Dictionary (yang disimpan di variabel `i`) dari kumpulan Dictionaries tersebut. Di baris (6), Jika `value` di `i` sama dengan 'pickup' maka variabel jumlah mobil pickup bertambah satu. Ini berlaku juga jika `value == 'SUV'` dan `value == 'sport'` pada baris (8) sampai (11). Proses ini akan terus berlangsung sampai pada Dictionary `i` terakhir. Setelah itu, kita dapat menghitung tota transaksi penjualan menggunakan perintah `len(penjualan)` (karena `penjualan` adalah List) di baris (12). Kemudian kita juga dapat menghitung masing-masing total penjualan SUV, pickup, dan sport yang di tunjukan pada baris ke (13) sampai (15), berturut-turut.  "
   ]
  },
  {
   "cell_type": "markdown",
   "metadata": {},
   "source": [
    "## List di dalam Dictionary\n",
    "Di pertemuan 3, kita telah membahas tentang List yang dicontohkan dengan membuat daftar mobil buatan jepang yaitu toyota, honda, dan daihatsu dan mobil buatan eropa yaitu BMW dan ferarri. Kita dapat dengan mudah membuat suatu Dictionary yang di dalamnya memuat List untuk mobil buatan jepang dan eropa. Perhatikan kode berikut:"
   ]
  },
  {
   "cell_type": "code",
   "execution_count": 47,
   "metadata": {},
   "outputs": [
    {
     "name": "stdout",
     "output_type": "stream",
     "text": [
      "Mobil jepang:  ['toyota', 'honda', 'daihatsu']\n",
      "Mobil eropa:  ['bmw', 'ferarri']\n"
     ]
    }
   ],
   "source": [
    "mobil = {'mobil_jepang': ['toyota', 'honda', 'daihatsu'], 'mobil_eropa': ['bmw', 'ferarri']}\n",
    "\n",
    "print(\"Mobil jepang: \", mobil['mobil_jepang'])\n",
    "print(\"Mobil eropa: \" , mobil['mobil_eropa'])"
   ]
  },
  {
   "cell_type": "markdown",
   "metadata": {},
   "source": [
    "atau kita dapat memanfaatkan pengulangan dan statement if, sehingga kita dapat mengakses tiap-tiap elemen List di dalam Dictionary tersebut, seperti yang terlihat pada output di kode berikut:"
   ]
  },
  {
   "cell_type": "code",
   "execution_count": 50,
   "metadata": {},
   "outputs": [
    {
     "name": "stdout",
     "output_type": "stream",
     "text": [
      "Mobil Jepang: toyota\n",
      "Mobil Jepang: honda\n",
      "Mobil Jepang: daihatsu\n",
      "Mobil Eropa: bmw\n",
      "Mobil Eropa: ferarri\n"
     ]
    }
   ],
   "source": [
    "for key, value in mobil.items(): # perhatikan value-nya adalah List\n",
    "    if key == 'mobil_jepang':\n",
    "        for i in value:\n",
    "            print(\"Mobil Jepang: \" + i)\n",
    "    elif key == 'mobil_eropa':\n",
    "        for i in value:\n",
    "            print(\"Mobil Eropa: \" + i)"
   ]
  },
  {
   "cell_type": "markdown",
   "metadata": {},
   "source": [
    "## Dictionary di dalam Dictionary\n",
    "Dictionary di dalam Dictionary biasanya digunakan untuk menyimpan informasi/data yang lebih kompleks. Misalkan di dalam suatu website terdapat beberapa username dan password untuk login. Di dalam setiap username tersebut terdapat profil pengguna yang disimpan di dalam Dictionary `users`, perhatikan kode di bawah ini:"
   ]
  },
  {
   "cell_type": "code",
   "execution_count": 3,
   "metadata": {},
   "outputs": [
    {
     "name": "stdout",
     "output_type": "stream",
     "text": [
      "{'doremi': {'nama lengkap': 'Agus Jaelani', 'tempat lahir': 'Jakarta', 'tanggal lahir': '1998/2/1', 'email': 'agus@ok.com', 'tinggi badan': 172, 'berat badan': 55, 'alamat': 'Jl. Ir H. Juanda No.95, Cemp. Putih, Kec. Ciputat, Kota Tangerang Selatan, Banten 15412.', 'password': '12344'}, 'johndoe': {'nama lengkap': 'John Doe', 'tempat lahir': 'Bandung', 'tanggal lahir': '1992/3/31', 'email': 'johndoe@ok.com', 'tinggi badan': 181, 'berat badan': 77, 'alamat': 'Jl. A.H. Nasution No.105, Cipadung, Kec. Cibiru, Kota Bandung, Jawa Barat 40614.', 'password': '12345'}}\n"
     ]
    }
   ],
   "source": [
    "users = {\n",
    "    'doremi': {\n",
    "        'nama lengkap': 'Agus Jaelani',\n",
    "        'tempat lahir': 'Jakarta',\n",
    "        'tanggal lahir': '1998/2/1',\n",
    "        'email': 'agus@ok.com',\n",
    "        'tinggi badan': 172,\n",
    "        'berat badan': 55,\n",
    "        'alamat': 'Jl. Ir H. Juanda No.95, Cemp. Putih, Kec. Ciputat, Kota Tangerang Selatan, Banten 15412.',\n",
    "        'password': '12344' \n",
    "    },\n",
    "    'johndoe':{\n",
    "        'nama lengkap': 'John Doe',\n",
    "        'tempat lahir': 'Bandung',\n",
    "        'tanggal lahir': '1992/3/31',\n",
    "        'email': 'johndoe@ok.com',\n",
    "        'tinggi badan': 181,\n",
    "        'berat badan': 77,\n",
    "        'alamat': 'Jl. A.H. Nasution No.105, Cipadung, Kec. Cibiru, Kota Bandung, Jawa Barat 40614.',\n",
    "        'password': '12345'\n",
    "    }\n",
    "}\n",
    "print(users)"
   ]
  },
  {
   "cell_type": "markdown",
   "metadata": {},
   "source": [
    "Misalnya kita ingin mengetahui semua username, nama lengkap dan alamat dari `users`, maka kodenya adalah"
   ]
  },
  {
   "cell_type": "code",
   "execution_count": 8,
   "metadata": {},
   "outputs": [
    {
     "name": "stdout",
     "output_type": "stream",
     "text": [
      "Username: doremi\n",
      "Nama Lengkap: Agus Jaelani\n",
      "Alamat: Jl. Ir H. Juanda No.95, Cemp. Putih, Kec. Ciputat, Kota Tangerang Selatan, Banten 15412.\n",
      "Username: johndoe\n",
      "Nama Lengkap: John Doe\n",
      "Alamat: Jl. A.H. Nasution No.105, Cipadung, Kec. Cibiru, Kota Bandung, Jawa Barat 40614.\n"
     ]
    }
   ],
   "source": [
    "for username, info in users.items(): # 1\n",
    "    print(\"Username: \" + str(username)) # 2\n",
    "    print(\"Nama Lengkap: \" + str(info['nama lengkap'])) # 3\n",
    "    print(\"Alamat: \" + str(info['alamat'])) # 4"
   ]
  },
  {
   "cell_type": "markdown",
   "metadata": {},
   "source": [
    "__Penjelasan:__ Pada baris (1), untuk mengakses semua elemen di Dictionary `users` diperlukan pengulangan `for`. Output `users.items()` adalah pasangan _key-value_ dari tiap-tiap elemen di Dictionary `users`. Kemudian masing-masing pasangan key-value tersebut disimpan di dalam variabel `username` untuk _key_ dan `info` untuk _value_. Perhatikan, variabel `info` adalah suatu Dictionary, karena memuat _value_ dari Dictionary `users`. Kemudian, karena `username` berisi _key_ dari Dicionary `users` maka untuk mengeluarkannya dapat menggunakan perintah pada baris (2). Karena `info` adalah Dictionary maka untuk mengeluarkan nilai di dalamnya mengikuti kaidah mengakses suatu Dictionary seperti yang terlihat pada baris (3) dan (4).  "
   ]
  }
 ],
 "metadata": {
  "kernelspec": {
   "display_name": "Python 3 (ipykernel)",
   "language": "python",
   "name": "python3"
  },
  "language_info": {
   "codemirror_mode": {
    "name": "ipython",
    "version": 3
   },
   "file_extension": ".py",
   "mimetype": "text/x-python",
   "name": "python",
   "nbconvert_exporter": "python",
   "pygments_lexer": "ipython3",
   "version": "3.9.16"
  }
 },
 "nbformat": 4,
 "nbformat_minor": 4
}
