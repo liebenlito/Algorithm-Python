{
  "nbformat": 4,
  "nbformat_minor": 0,
  "metadata": {
    "colab": {
      "name": "Algoritma Greedy.ipynb",
      "provenance": [],
      "authorship_tag": "ABX9TyOhtbOk1fD2fhHrW+sXMKQy"
    },
    "kernelspec": {
      "name": "python3",
      "display_name": "Python 3"
    },
    "language_info": {
      "name": "python"
    }
  },
  "cells": [
    {
      "cell_type": "markdown",
      "metadata": {
        "id": "DBNr-Qr-sUW5"
      },
      "source": [
        "# Mencari Solusi Optimal dari Beberapa Pemilihan (Diskrit)\n",
        "\n",
        "1. Algoritma Greedy\n",
        "2. Dynamic Programming\n",
        "3. Branch and Bound\n",
        "\n"
      ]
    },
    {
      "cell_type": "markdown",
      "metadata": {
        "id": "AewvDrsltLXO"
      },
      "source": [
        "## Algoritma Greedy\n",
        "\n",
        "Algoritma greedy merupakan strategi untuk memecahkan masalah dengan cara mengambil pemilihan yang optimal tanpa perlu melihat efek kedepannya. Dengan cara ini, algoritma greedy cenderung lebih cepat ketimbang strategi-strategi algoritma lain seperti, divide and conquer atau dynamic programming. Kelemahan dari algoritma greedy adalah tidak ada jaminan untuk menghasilkan solusi yang optimal."
      ]
    },
    {
      "cell_type": "markdown",
      "metadata": {
        "id": "o4Ks_TC19qkl"
      },
      "source": [
        ""
      ]
    },
    {
      "cell_type": "markdown",
      "metadata": {
        "id": "Cy6f-5DxxPMh"
      },
      "source": [
        "### Contoh 1\n",
        "\n",
        "Misalkan Ibu Ani membawa tas belanja dengan kapasitas 15 Kg ke Pasar. Kemudian, ia memilih 7 macam sayuran kesukaannya, dengan harga dan beratnya sebagai berikut\n",
        "\n",
        "|  | Wortel | Tomat | Kol | Buncis | Brokoli | Selada | Bayam |\n",
        "|--|--------|-------|-----|--------|---------|--------|-------|\n",
        "|Harga| 10  | 5     | 15  | 7      | 6       | 18     | 3 |\n",
        "|Berat| 2   | 3     | 5   | 7      | 1       | 4      | 1 |\n",
        "\n",
        "Bagaimana cara memilih sayuran tersebut sehingga dapat memenuhi tas belanja Ibu Ani dengan harga yang paling murah?"
      ]
    },
    {
      "cell_type": "markdown",
      "metadata": {
        "id": "g6vNKGbj1386"
      },
      "source": [
        "Pertama, kita lihat perbandingan Harga dan Berat tiap-tiap sayuran:\n",
        "\n",
        "|  | Wortel | Tomat | Kol | Buncis | Brokoli | Selada | Bayam |\n",
        "|:--:|:--------:|:-------:|:-----:|:--------:|:---------:|:--------:|:-------:|\n",
        "|Harga| 10  | 5     | 15  | 7      | 6       | 18     | 3 |\n",
        "|Berat| 2   | 3     | 5   | 7      | 1       | 4      | 1 |\n",
        "|H/B|   5   | 1.3   | 3   | 1      | 6       | 4.5    | 3 |\n",
        "\n",
        "Kemudian kita pilih sayuran dengan H/B yang terkecil.\n",
        "\n",
        "|  | $x_1$ | $x_2$ | $x_3$ | $x_4$ | $x_5$ | $x_6$ | $x_7$ |\n",
        "|:--:|:--------:|:-------:|:-----:|:--------:|:---------:|:--------:|:-------:|\n",
        "|Harga| 10  | 5     | 15  | 7      | 6       | 18     | 3 |\n",
        "|Berat| 2   | 3     | 5   | 7      | 1       | 4      | 1 |\n",
        "|H/B|   5   | 1.3   | 3   | 1      | 6       | 4.5    | 3 |\n",
        "|Pilih|     |       |     | 1      |         |        |   |  \n",
        "\n",
        "Kapasitas Tas (KT) = 15 $-$ (Berat $x_1$) = 15 $-$ 7 = 8.\n",
        "\n",
        "Selajutnya kita cek sayuran dengan H/B terkecil berikutnya.\n",
        "\n",
        "|  | $x_1$ | $x_2$ | $x_3$ | $x_4$ | $x_5$ | $x_6$ | $x_7$ |\n",
        "|:--:|:--------:|:-------:|:-----:|:--------:|:---------:|:--------:|:-------:|\n",
        "|Harga| 10  | 5     | 15  | 7      | 6       | 18     | 3 |\n",
        "|Berat| 2   | 3     | 5   | 7      | 1       | 4      | 1 |\n",
        "|H/B|   5   | 1.3   | 3   | 1      | 6       | 4.5    | 3 |\n",
        "|Pilih|     | 1      |     | 1      |         |        |  |\n",
        "\n",
        "Kapasitas Tas (KT) = 8 $-$ (Berat $x_2$) = 8 $-$ 1.3 = 6.7. Begitu juga seterusnya, sampai memenuhi kapasitas tas belanjanya.\n",
        "\n",
        "|  | $x_1$ | $x_2$ | $x_3$ | $x_4$ | $x_5$ | $x_6$ | $x_7$ |\n",
        "|:--:|:--------:|:-------:|:-----:|:--------:|:---------:|:--------:|:-------:|\n",
        "|Harga| 10  | 5     | 15  | 7      | 6       | 18     | 3 |\n",
        "|Berat| 2   | 3     | 5   | 7      | 1       | 4      | 1 |\n",
        "|H/B|   5   | 1.3   | 3   | 1      | 6       | 4.5    | 3 |\n",
        "|Pilih|     | 1     |     | 1      |         |        |1  |\n",
        "\n",
        "Kapasitas Tas (KT) = 6.7 $-$ (Berat $x_7$) = 6.7 $-$ 1 = 5.7.\n",
        "\n",
        "|  | $x_1$ | $x_2$ | $x_3$ | $x_4$ | $x_5$ | $x_6$ | $x_7$ |\n",
        "|:--:|:--------:|:-------:|:-----:|:--------:|:---------:|:--------:|:-------:|\n",
        "|Harga| 10  | 5     | 15  | 7      | 6       | 18     | 3 |\n",
        "|Berat| 2   | 3     | 5   | 7      | 1       | 4      | 1 |\n",
        "|H/B|   5   | 1.3   | 3   | 1      | 6       | 4.5    | 3 |\n",
        "|Pilih|     | 1     |1     | 1      |         |        | 1 |\n",
        "\n",
        "Kapasitas Tas (KT) = 5.7 $-$ (Berat $x_4$) = 5.7 $-$ 5 = 0.2.\n",
        "\n",
        "|  | $x_1$ | $x_2$ | $x_3$ | $x_4$ | $x_5$ | $x_6$ | $x_7$ |\n",
        "|:--:|:--------:|:-------:|:-----:|:--------:|:---------:|:--------:|:-------:|\n",
        "|Harga| 10  | 5     | 15  | 7      | 6       | 18     | 3 |\n",
        "|Berat| 2   | 3     | 5   | 7      | 1       | 4      | 1 |\n",
        "|H/B|   5   | 1.3   | 3   | 1      | 6       | 4.5    | 3 |\n",
        "|Pilih|0.1     | 1      |1     | 1      | 0        |  0      | 1 |\n",
        "\n",
        "Kapasitas Tas (KT) = 0.2 $-$ 0.1(Berat $x_1$) = 0.2 $-$ 0.2 = 0.\n",
        "\n",
        "Jadi, Total belanja yang harus dibayar oleh Ibu Ani adalah \n",
        "$$\n",
        "Total = 0.1 \\times 10 + 1 \\times 5 + 1 \\times 15 + 1 \\times 7 + 0 \\times 6 + 0 \\times 18 + 1 \\times 3 = 31 \n",
        "$$\n"
      ]
    },
    {
      "cell_type": "code",
      "metadata": {
        "id": "Jqk4irTeryfb"
      },
      "source": [
        ""
      ],
      "execution_count": null,
      "outputs": []
    }
  ]
}