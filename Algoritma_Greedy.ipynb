{
  "nbformat": 4,
  "nbformat_minor": 0,
  "metadata": {
    "colab": {
      "name": "Algoritma Greedy.ipynb",
      "provenance": [],
      "authorship_tag": "ABX9TyMY76gSlOu35qJAISyfzD4D"
    },
    "kernelspec": {
      "name": "python3",
      "display_name": "Python 3"
    },
    "language_info": {
      "name": "python"
    }
  },
  "cells": [
    {
      "cell_type": "markdown",
      "metadata": {
        "id": "DBNr-Qr-sUW5"
      },
      "source": [
        "# Mencari Solusi Optimal dari Beberapa Pemilihan (Diskrit)\n",
        "\n",
        "1. Algoritma Greedy\n",
        "2. Dynamic Programming\n",
        "3. Branch and Bound\n",
        "\n"
      ]
    },
    {
      "cell_type": "markdown",
      "metadata": {
        "id": "AewvDrsltLXO"
      },
      "source": [
        "## Algoritma Greedy\n",
        "\n",
        "Algoritma greedy merupakan strategi untuk memecahkan masalah dengan cara mengambil pemilihan yang optimal dari __feasible solution__ tanpa perlu melihat efek kedepannya. Dengan cara ini, algoritma greedy cenderung __lebih cepat__ ketimbang strategi-strategi algoritma lain seperti, divide and conquer atau dynamic programming. __Kelemahan__ dari algoritma greedy adalah tidak ada jaminan untuk menghasilkan solusi yang __optimal secara global__."
      ]
    },
    {
      "cell_type": "markdown",
      "metadata": {
        "id": "Cy6f-5DxxPMh"
      },
      "source": [
        "### Contoh 1\n",
        "\n",
        "Misalkan Ibu Ani membawa tas belanja dengan kapasitas 15 Kg ke Pasar. Kemudian, ia memilih 7 macam sayuran kesukaannya, dengan harga dan beratnya sebagai berikut\n",
        "\n",
        "|  | Wortel | Tomat | Kol | Buncis | Brokoli | Selada | Bayam |\n",
        "|--|--------|-------|-----|--------|---------|--------|-------|\n",
        "|Harga| 10  | 5     | 15  | 7      | 6       | 18     | 3 |\n",
        "|Berat| 2   | 3     | 5   | 7      | 1       | 4      | 1 |\n",
        "\n",
        "Bagaimana cara memilih sayuran tersebut sehingga dapat memenuhi tas belanja Ibu Ani dengan harga yang paling murah?"
      ]
    },
    {
      "cell_type": "markdown",
      "metadata": {
        "id": "g6vNKGbj1386"
      },
      "source": [
        "Pertama, kita lihat perbandingan Harga dan Berat tiap-tiap sayuran:\n",
        "\n",
        "|  | Wortel | Tomat | Kol | Buncis | Brokoli | Selada | Bayam |\n",
        "|:--:|:--------:|:-------:|:-----:|:--------:|:---------:|:--------:|:-------:|\n",
        "|Harga| 10  | 5     | 15  | 7      | 6       | 18     | 3 |\n",
        "|Berat| 2   | 3     | 5   | 7      | 1       | 4      | 1 |\n",
        "|H/B|   5   | 1.3   | 3   | 1      | 6       | 4.5    | 3 |\n",
        "\n",
        "Kemudian kita pilih sayuran dengan H/B yang terkecil.\n",
        "\n",
        "|  | $x_1$ | $x_2$ | $x_3$ | $x_4$ | $x_5$ | $x_6$ | $x_7$ |\n",
        "|:--:|:--------:|:-------:|:-----:|:--------:|:---------:|:--------:|:-------:|\n",
        "|Harga| 10  | 5     | 15  | 7      | 6       | 18     | 3 |\n",
        "|Berat| 2   | 3     | 5   | 7      | 1       | 4      | 1 |\n",
        "|H/B|   5   | 1.3   | 3   | 1      | 6       | 4.5    | 3 |\n",
        "|Pilih|     |       |     | 1      |         |        |   |  \n",
        "\n",
        "Kapasitas Tas (KT) = 15 $-$ (Berat $x_4$) = 15 $-$ 7 = 8.\n",
        "\n",
        "Selajutnya kita cek sayuran dengan H/B terkecil berikutnya.\n",
        "\n",
        "|  | $x_1$ | $x_2$ | $x_3$ | $x_4$ | $x_5$ | $x_6$ | $x_7$ |\n",
        "|:--:|:--------:|:-------:|:-----:|:--------:|:---------:|:--------:|:-------:|\n",
        "|Harga| 10  | 5     | 15  | 7      | 6       | 18     | 3 |\n",
        "|Berat| 2   | 3     | 5   | 7      | 1       | 4      | 1 |\n",
        "|H/B|   5   | 1.3   | 3   | 1      | 6       | 4.5    | 3 |\n",
        "|Pilih|     | 1      |     | 1      |         |        |  |\n",
        "\n",
        "Kapasitas Tas (KT) = 8 $-$ (Berat $x_2$) = 8 $-$ 3 = 5. Begitu juga seterusnya, sampai memenuhi kapasitas tas belanjanya.\n",
        "\n",
        "|  | $x_1$ | $x_2$ | $x_3$ | $x_4$ | $x_5$ | $x_6$ | $x_7$ |\n",
        "|:--:|:--------:|:-------:|:-----:|:--------:|:---------:|:--------:|:-------:|\n",
        "|Harga| 10  | 5     | 15  | 7      | 6       | 18     | 3 |\n",
        "|Berat| 2   | 3     | 5   | 7      | 1       | 4      | 1 |\n",
        "|H/B|   5   | 1.3   | 3   | 1      | 6       | 4.5    | 3 |\n",
        "|Pilih|     | 1     | 1     | 1      |         |        |  |\n",
        "\n",
        "Kapasitas Tas (KT) = 5 $-$ (Berat $x_3$) = 5 $-$ 5 = 0.\n",
        "\n",
        "Jadi, Total belanja yang harus dibayar oleh Ibu Ani adalah \n",
        "$$\n",
        "Total = 1 \\times 7 + 1 \\times 5 + 1 \\times 15  = 27 \n",
        "$$\n"
      ]
    },
    {
      "cell_type": "markdown",
      "metadata": {
        "id": "FPbl1QlGdJTE"
      },
      "source": [
        "```\n",
        "Algoritma: Fractional_Knapsack(P, W, K)\n",
        "\n",
        "1. Hitung skor dengan cara: skor[i] = P[i]/W[i], untuk setiap i.\n",
        "2. Urutkan skor secara ascending/descending. item = sort(skor)\n",
        "3. Inisialisasi: sol = {}, p = 0, w = 0.\n",
        "4. for i ∈ item\n",
        "      if (w + W[i] <= K)\n",
        "        sol = sol ∪ {i}\n",
        "        w = w + W[i]\n",
        "        p = p + P[i] \n",
        "```"
      ]
    },
    {
      "cell_type": "markdown",
      "metadata": {
        "id": "jcJAS6wpid6C"
      },
      "source": [
        "### Implementasi di Python"
      ]
    },
    {
      "cell_type": "code",
      "metadata": {
        "id": "A3MW5yOisTvT"
      },
      "source": [
        "class Kantong(object):\n",
        "  def __init__(self, harga, berat, index):\n",
        "    self.berat = berat\n",
        "    self.harga = harga\n",
        "    self.index = index\n",
        "    self.cost = harga/berat\n",
        "  def __lt__(self, other):\n",
        "    return self.cost < other.cost\n",
        "\n",
        "class FractionalKnapsack(object):\n",
        "  @staticmethod\n",
        "  def greedy(P, W, K, flags=False):\n",
        "    C = []\n",
        "    for i in range(len(P)):\n",
        "      C.append(Kantong(P[i], W[i], i))\n",
        "    \n",
        "    C.sort(reverse=flags)\n",
        "    \n",
        "    Total = 0\n",
        "    index = []\n",
        "    for i in C:\n",
        "      curP = int(i.harga)\n",
        "      curW = int(i.berat)\n",
        "      if K - curW > 0:\n",
        "        K -= curW\n",
        "        Total += curP\n",
        "        index.append(i.index)\n",
        "\n",
        "      else:\n",
        "        fraction = K/curW\n",
        "        Total += curP * fraction\n",
        "        K = int(K - (curW * fraction))\n",
        "        index.append(i.index)\n",
        "        break\n",
        "\n",
        "    return index, Total"
      ],
      "execution_count": null,
      "outputs": []
    },
    {
      "cell_type": "code",
      "metadata": {
        "colab": {
          "base_uri": "https://localhost:8080/"
        },
        "id": "MSJKgXZay-Kz",
        "outputId": "7934269f-b731-4549-dd02-316996667947"
      },
      "source": [
        "P = [10, 5, 15, 7, 6, 18, 3]\n",
        "W = [2, 3, 5, 7, 1, 4, 1]\n",
        "K = 15\n",
        "\n",
        "index, Total = FractionalKnapsack.greedy(P, W, K)\n",
        "print(\"Obyek = {}, Total Harga = {}\". format(index, Total))"
      ],
      "execution_count": null,
      "outputs": [
        {
          "output_type": "stream",
          "name": "stdout",
          "text": [
            "Obyek = [3, 1, 2], Total Harga = 27.0\n"
          ]
        }
      ]
    },
    {
      "cell_type": "markdown",
      "metadata": {
        "id": "5KFQfRjjRJDG"
      },
      "source": [
        "### Contoh 2\n",
        "Sekarang kita balik fungsi obyektifnya, jika Ibu Ani ingin agar total belanjanya paling mahal, maka bagaimana susunan obyeknya. Panggil kembali tabel daftar harga dan berat sayuran dari Contoh 1:\n",
        "\n",
        "\n",
        "|  | Wortel | Tomat | Kol | Buncis | Brokoli | Selada | Bayam |\n",
        "|:--:|:--------:|:-------:|:-----:|:--------:|:---------:|:--------:|:-------:|\n",
        "|Harga| 10  | 5     | 15  | 7      | 6       | 18     | 3 |\n",
        "|Berat| 2   | 3     | 5   | 7      | 1       | 4      | 1 |\n",
        "|H/B|   5   | 1.3   | 3   | 1      | 6       | 4.5    | 3 |\n",
        "\n",
        "Kemudian kita pilih H/B __terbesar__ dari tabel tersebut:\n",
        "\n",
        "|  | $x_1$ | $x_2$ | $x_3$ | $x_4$ | $x_5$ | $x_6$ | $x_7$ |\n",
        "|:--:|:--------:|:-------:|:-----:|:--------:|:---------:|:--------:|:-------:|\n",
        "|Harga| 10  | 5     | 15  | 7      | 6       | 18     | 3 |\n",
        "|Berat| 2   | 3     | 5   | 7      | 1       | 4      | 1 |\n",
        "|H/B|   5   | 1.3   | 3   | 1      | 6       | 4.5    | 3 |\n",
        "|Pilih|     |       |     |       |1         |        |  |\n",
        "\n",
        "dan hitung sisa kapasitas tas, yaitu: \n",
        "\n",
        "Kapasitas Tas = 15 - (berat $x_5$) = 15 - 1 = 14.\n",
        "\n",
        "Begitu seterusnya, sehingga terpilih $x_1, x_6, x_3$, dan $x_7$ berturut-turut. \n",
        "\n",
        "|  | $x_1$ | $x_2$ | $x_3$ | $x_4$ | $x_5$ | $x_6$ | $x_7$ |\n",
        "|:--:|:--------:|:-------:|:-----:|:--------:|:---------:|:--------:|:-------:|\n",
        "|Harga| 10  | 5     | 15  | 7      | 6       | 18     | 3 |\n",
        "|Berat| 2   | 3     | 5   | 7      | 1       | 4      | 1 |\n",
        "|H/B|   5   | 1.3   | 3   | 1      | 6       | 4.5    | 3 |\n",
        "|Pilih| 1    |       | 1    |       |1         | 1       | 1 |\n",
        "\n",
        "dan sisa kapasitas tas menjadi\n",
        "\n",
        "Kapasitas Tas = 14 - (berat $x_1$ + berat $x_6$ + berat $x_3$ + berat $x_7$) = 14 - (2 + 4 + 5 + 1) = 14 - 12 = 2.\n",
        "\n",
        "Karena masih ada sisa Kapasitas Tas = 2, maka selanjutnya kita pilih obyek dengan cost(H/B) terbesar berikutnya, yaitu $x_2$. Namun, jika kita pilih $x_2$ secara penuh maka jumlah beratnya akan lebih besar dari kapasitas tas. Sehingga kita harus memilih $2/3$ dari berat $x_2$ agar jumlah berat tidak melebihi kapasitas tas. \n",
        "\n",
        "|  | $x_1$ | $x_2$ | $x_3$ | $x_4$ | $x_5$ | $x_6$ | $x_7$ |\n",
        "|:--:|:--------:|:-------:|:-----:|:--------:|:---------:|:--------:|:-------:|\n",
        "|Harga| 10  | 5     | 15  | 7      | 6       | 18     | 3 |\n",
        "|Berat| 2   | 3     | 5   | 7      | 1       | 4      | 1 |\n",
        "|H/B|   5   | 1.3   | 3   | 1      | 6       | 4.5    | 3 |\n",
        "|Pilih| 1    | 2/3      | 1    |       |1         | 1       | 1 |\n",
        "\n",
        "dan sisa kapasitas tasnya \n",
        "\n",
        "Kapasitas Tas = 2 - 2/3 * (berat $x_2$) = 0.\n",
        "\n",
        "Kemudian kita hitung total harga yang harus dibayar oleh Ibu Ani, yaitu:\n",
        "$$\n",
        "\\text{Total} = 1 \\times 10 + \\frac{2}{3} \\times 5 + 1 \\times 15 + 1 \\times 6 + 1 \\times 6 + 1 \\times 18 + 1 \\times 3 = 55.3  \n",
        "$$\n"
      ]
    },
    {
      "cell_type": "code",
      "metadata": {
        "colab": {
          "base_uri": "https://localhost:8080/"
        },
        "id": "cyYBImaW0Yri",
        "outputId": "24643fd3-0988-42b9-d33f-ecdae2b640de"
      },
      "source": [
        "index, Total_Max = FractionalKnapsack.greedy(P, W, K, flags=True)\n",
        "print(\"Obyek = {}, Total Harga = {}\". format(index, Total_Max))"
      ],
      "execution_count": null,
      "outputs": [
        {
          "output_type": "stream",
          "name": "stdout",
          "text": [
            "Obyek = [4, 0, 5, 2, 6, 1], Total Harga = 55.333333333333336\n"
          ]
        }
      ]
    },
    {
      "cell_type": "code",
      "metadata": {
        "id": "Xtf4xL2UXrbg"
      },
      "source": [
        ""
      ],
      "execution_count": null,
      "outputs": []
    }
  ]
}