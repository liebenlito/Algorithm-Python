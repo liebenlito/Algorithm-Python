{
  "nbformat": 4,
  "nbformat_minor": 0,
  "metadata": {
    "colab": {
      "name": "Algoritma Greedy.ipynb",
      "provenance": [],
      "authorship_tag": "ABX9TyN3PDnfy7sJhkHTJNp0xu1S"
    },
    "kernelspec": {
      "name": "python3",
      "display_name": "Python 3"
    },
    "language_info": {
      "name": "python"
    }
  },
  "cells": [
    {
      "cell_type": "markdown",
      "metadata": {
        "id": "DBNr-Qr-sUW5"
      },
      "source": [
        "# Mencari Solusi Optimal dari Beberapa Pemilihan (Diskrit)\n",
        "\n",
        "1. Algoritma Greedy\n",
        "2. Dynamic Programming\n",
        "3. Branch and Bound\n",
        "\n"
      ]
    },
    {
      "cell_type": "markdown",
      "metadata": {
        "id": "AewvDrsltLXO"
      },
      "source": [
        "## Algoritma Greedy\n",
        "\n",
        "Algoritma greedy merupakan strategi untuk memecahkan masalah dengan cara mengambil pemilihan yang optimal dari __feasible solution__ tanpa perlu melihat efek kedepannya. Dengan cara ini, algoritma greedy cenderung __lebih cepat__ ketimbang strategi-strategi algoritma lain seperti, divide and conquer atau dynamic programming. __Kelemahan__ dari algoritma greedy adalah tidak ada jaminan untuk menghasilkan solusi yang __optimal secara global__."
      ]
    },
    {
      "cell_type": "markdown",
      "metadata": {
        "id": "Cy6f-5DxxPMh"
      },
      "source": [
        "### Contoh 1\n",
        "\n",
        "Misalkan Ibu Ani membawa tas belanja dengan kapasitas 15 Kg ke Pasar. Kemudian, ia memilih 7 macam sayuran kesukaannya, dengan harga dan beratnya sebagai berikut\n",
        "\n",
        "|  | Wortel | Tomat | Kol | Buncis | Brokoli | Selada | Bayam |\n",
        "|--|--------|-------|-----|--------|---------|--------|-------|\n",
        "|Harga| 10  | 5     | 15  | 7      | 6       | 18     | 3 |\n",
        "|Berat| 2   | 3     | 5   | 7      | 1       | 4      | 1 |\n",
        "\n",
        "Bagaimana cara memilih sayuran tersebut sehingga dapat memenuhi tas belanja Ibu Ani dengan harga yang paling murah?"
      ]
    },
    {
      "cell_type": "markdown",
      "metadata": {
        "id": "g6vNKGbj1386"
      },
      "source": [
        "Pertama, kita lihat perbandingan Harga dan Berat tiap-tiap sayuran:\n",
        "\n",
        "|  | Wortel | Tomat | Kol | Buncis | Brokoli | Selada | Bayam |\n",
        "|:--:|:--------:|:-------:|:-----:|:--------:|:---------:|:--------:|:-------:|\n",
        "|Harga| 10  | 5     | 15  | 7      | 6       | 18     | 3 |\n",
        "|Berat| 2   | 3     | 5   | 7      | 1       | 4      | 1 |\n",
        "|H/B|   5   | 1.3   | 3   | 1      | 6       | 4.5    | 3 |\n",
        "\n",
        "Kemudian kita pilih sayuran dengan H/B yang terkecil.\n",
        "\n",
        "|  | $x_1$ | $x_2$ | $x_3$ | $x_4$ | $x_5$ | $x_6$ | $x_7$ |\n",
        "|:--:|:--------:|:-------:|:-----:|:--------:|:---------:|:--------:|:-------:|\n",
        "|Harga| 10  | 5     | 15  | 7      | 6       | 18     | 3 |\n",
        "|Berat| 2   | 3     | 5   | 7      | 1       | 4      | 1 |\n",
        "|H/B|   5   | 1.3   | 3   | 1      | 6       | 4.5    | 3 |\n",
        "|Pilih|     |       |     | 1      |         |        |   |  \n",
        "\n",
        "Kapasitas Tas (KT) = 15 $-$ (Berat $x_4$) = 15 $-$ 7 = 8.\n",
        "\n",
        "Selajutnya kita cek sayuran dengan H/B terkecil berikutnya.\n",
        "\n",
        "|  | $x_1$ | $x_2$ | $x_3$ | $x_4$ | $x_5$ | $x_6$ | $x_7$ |\n",
        "|:--:|:--------:|:-------:|:-----:|:--------:|:---------:|:--------:|:-------:|\n",
        "|Harga| 10  | 5     | 15  | 7      | 6       | 18     | 3 |\n",
        "|Berat| 2   | 3     | 5   | 7      | 1       | 4      | 1 |\n",
        "|H/B|   5   | 1.3   | 3   | 1      | 6       | 4.5    | 3 |\n",
        "|Pilih|     | 1      |     | 1      |         |        |  |\n",
        "\n",
        "Kapasitas Tas (KT) = 8 $-$ (Berat $x_2$) = 8 $-$ 3 = 5. Begitu juga seterusnya, sampai memenuhi kapasitas tas belanjanya.\n",
        "\n",
        "|  | $x_1$ | $x_2$ | $x_3$ | $x_4$ | $x_5$ | $x_6$ | $x_7$ |\n",
        "|:--:|:--------:|:-------:|:-----:|:--------:|:---------:|:--------:|:-------:|\n",
        "|Harga| 10  | 5     | 15  | 7      | 6       | 18     | 3 |\n",
        "|Berat| 2   | 3     | 5   | 7      | 1       | 4      | 1 |\n",
        "|H/B|   5   | 1.3   | 3   | 1      | 6       | 4.5    | 3 |\n",
        "|Pilih|     | 1     | 1     | 1      |         |        |  |\n",
        "\n",
        "Kapasitas Tas (KT) = 5 $-$ (Berat $x_3$) = 5 $-$ 5 = 0.\n",
        "\n",
        "Jadi, Total belanja yang harus dibayar oleh Ibu Ani adalah \n",
        "$$\n",
        "Total = 1 \\times 7 + 1 \\times 5 + 1 \\times 15  = 27 \n",
        "$$\n"
      ]
    },
    {
      "cell_type": "markdown",
      "metadata": {
        "id": "FPbl1QlGdJTE"
      },
      "source": [
        "```\n",
        "Algoritma: Fractional_Knapsack(P, W, K)\n",
        "\n",
        "1. Hitung skor dengan cara: skor[i] = P[i]/W[i], untuk setiap i.\n",
        "2. Urutkan skor secara ascending/descending. item = sort(skor)\n",
        "3. Inisialisasi: sol = {}, p = 0, w = 0.\n",
        "4. for i ∈ item\n",
        "      if (w + W[i] <= K)\n",
        "        sol = sol ∪ {i}\n",
        "        w = w + W[i]\n",
        "        p = p + P[i] \n",
        "```"
      ]
    },
    {
      "cell_type": "markdown",
      "metadata": {
        "id": "jcJAS6wpid6C"
      },
      "source": [
        "### Implementasi di Python"
      ]
    },
    {
      "cell_type": "code",
      "metadata": {
        "id": "A3MW5yOisTvT"
      },
      "source": [
        "class Kantong(object):\n",
        "  def __init__(self, harga, berat, index):\n",
        "    self.berat = berat\n",
        "    self.harga = harga\n",
        "    self.index = index\n",
        "    self.cost = harga/berat\n",
        "  def __lt__(self, other):\n",
        "    return self.cost < other.cost\n",
        "\n",
        "class FractionalKnapsack(object):\n",
        "  @staticmethod\n",
        "  def greedy(P, W, K, flags=False):\n",
        "    C = []\n",
        "    for i in range(len(P)):\n",
        "      C.append(Kantong(P[i], W[i], i))\n",
        "    \n",
        "    C.sort(reverse=flags)\n",
        "    \n",
        "    Total = 0\n",
        "    index = []\n",
        "    for i in C:\n",
        "      curP = int(i.harga)\n",
        "      curW = int(i.berat)\n",
        "      if K - curW > 0:\n",
        "        K -= curW\n",
        "        Total += curP\n",
        "        index.append(i.index)\n",
        "\n",
        "      else:\n",
        "        fraction = K/curW\n",
        "        Total += curP * fraction\n",
        "        K = int(K - (curW * fraction))\n",
        "        index.append(i.index)\n",
        "        break\n",
        "\n",
        "    return index, Total"
      ],
      "execution_count": 29,
      "outputs": []
    },
    {
      "cell_type": "code",
      "metadata": {
        "id": "MSJKgXZay-Kz",
        "outputId": "5ea994e6-39ea-4531-ae80-4396e75ba282",
        "colab": {
          "base_uri": "https://localhost:8080/"
        }
      },
      "source": [
        "P = [10, 5, 15, 7, 6, 18, 3]\n",
        "W = [2, 3, 5, 7, 1, 4, 1]\n",
        "K = 15\n",
        "\n",
        "index, Total = FractionalKnapsack.greedy(P, W, K)\n",
        "index"
      ],
      "execution_count": 32,
      "outputs": [
        {
          "output_type": "execute_result",
          "data": {
            "text/plain": [
              "[3, 1, 2]"
            ]
          },
          "metadata": {},
          "execution_count": 32
        }
      ]
    },
    {
      "cell_type": "code",
      "metadata": {
        "id": "cyYBImaW0Yri",
        "outputId": "f76f8fa2-6a93-4a16-9825-edb78166167d",
        "colab": {
          "base_uri": "https://localhost:8080/"
        }
      },
      "source": [
        "index, Total_Max = FractionalKnapsack.greedy(P, W, K, flags=True)\n",
        "index"
      ],
      "execution_count": 33,
      "outputs": [
        {
          "output_type": "execute_result",
          "data": {
            "text/plain": [
              "[4, 0, 5, 2, 6, 1]"
            ]
          },
          "metadata": {},
          "execution_count": 33
        }
      ]
    },
    {
      "cell_type": "code",
      "metadata": {
        "id": "uUTC7FTI1XtP"
      },
      "source": [
        ""
      ],
      "execution_count": null,
      "outputs": []
    }
  ]
}